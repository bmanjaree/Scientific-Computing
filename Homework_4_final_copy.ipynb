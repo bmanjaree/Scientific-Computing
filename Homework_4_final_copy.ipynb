{
 "cells": [
  {
   "cell_type": "markdown",
   "id": "00b072b2",
   "metadata": {},
   "source": [
    "## AMATH Scientific Computing\n",
    "### Homework-4\n",
    "#### Manjaree Binjolkar"
   ]
  },
  {
   "cell_type": "code",
   "execution_count": 1,
   "id": "20aa500b",
   "metadata": {},
   "outputs": [],
   "source": [
    "import numpy as np\n",
    "import scipy.sparse \n",
    "import matplotlib.pyplot as plt\n",
    "import pdb\n",
    "import numpy.matlib\n",
    "import time\n",
    "import copy\n",
    "\n",
    "from matplotlib import animation, rc\n",
    "from scipy.sparse.linalg import spsolve\n",
    "from scipy.integrate import solve_ivp\n",
    "from scipy.sparse.linalg import splu\n",
    "from scipy.sparse import csr_matrix, triu, spdiags\n",
    "\n",
    "import matplotlib.pyplot as plt\n",
    "import matplotlib.animation as animation\n",
    "from mpl_toolkits.axes_grid1 import make_axes_locatable\n",
    "import csv"
   ]
  },
  {
   "cell_type": "markdown",
   "id": "a5f794d1",
   "metadata": {},
   "source": [
    "1. 1. We will start by using 129 equally spaced points between [􀀀L; L] (including L),\n",
    "and then removing L so that your computational domain has 128 equally spaced\n",
    "points. This de nes  x. Use 501 equally spaced points between [0; 2] (including\n",
    "the endpoints). This defines  t. Calculate the CFL number and call it   ."
   ]
  },
  {
   "cell_type": "markdown",
   "id": "390694bd-1efe-4f92-ab7d-fa8b8d593c02",
   "metadata": {},
   "source": [
    "## A5 128"
   ]
  },
  {
   "cell_type": "code",
   "execution_count": 2,
   "id": "aa91fd81",
   "metadata": {},
   "outputs": [],
   "source": [
    "m = 129\n",
    "L = 10\n",
    "x1 = np.linspace(-L, L, m)\n",
    "x = x1[:-1]\n",
    "delta_x = x[1] - x[0]\n",
    "#print(delta_x)\n",
    "#print(np.shape(delta_x))\n",
    "t = np.linspace(0, 2, 501, endpoint = True)\n",
    "delta_t = t[1] - t[0]\n",
    "#print(delta_t)\n",
    "#print(np.shape(delta_t))\n",
    "#print(t)\n",
    "#print(np.shape(t))\n",
    "#calculate the CFL number λ and call it λ∗\n",
    "alpha = 2\n",
    "lambda_star = alpha*(delta_t)/(delta_x**2)\n",
    "#print(lambda_star)\n",
    "#print(np.shape(lambda_star))\n",
    "\n",
    "# (1,4)-accurate scheme (first-order accurate in time, fourth-order accurate in space)\n",
    "G = lambda z: lambda_star*(32*np.cos(z)-2*np.cos(2*z)-30)*(1/12)+1\n",
    "\n",
    "A1 = copy.deepcopy(G(1))\n",
    "\n",
    "G_one = lambda z: np.abs(G(z)); # Define the function we want to maximize\n",
    "index = scipy.optimize.fminbound(lambda z:-G_one(z), -np.pi,np.pi) # This gives the *maximizer*\n",
    "maximum = G_one(index)\n",
    "#print(maximum)\n",
    "\n",
    "A2 = copy.deepcopy(maximum)\n",
    "\n",
    "#D4\n",
    "n = 128\n",
    "#sparse matrix for derivative term\n",
    "e1 = np.ones(n)\n",
    "d_D4 = [-n+1,-n+2,-2,-1,0,1,2,n-2,n-1]\n",
    "D4 = scipy.sparse.spdiags([16*e1,-e1,-e1,16*e1,-30*e1,16*e1,-e1,-e1,16*e1],d_D4,n,n)\n",
    "#print(D4.todense())\n",
    "D4 *= 1/12\n",
    "#print(D4.todense())\n",
    "\n",
    "A3 = copy.deepcopy(D4.todense())\n",
    "\n",
    "#Forward Euler\n",
    "#initial conditions - FE\n",
    "Time = 2\n",
    "dt = delta_t\n",
    "time_steps = int(Time/dt)\n",
    "usol_fe = np.zeros((len(x),len(t))) #placeholder for solution - more effcient\n",
    "#u0 = np.exp(-x**2).T # Gaussian\n",
    "u0 = 10*np.cos((2*np.pi*x)/L) + 30*np.cos((8*np.pi*x)/L)\n",
    "usol_fe[:,0] = u0\n",
    "u1 = u0\n",
    "CFL = lambda_star\n",
    "for j in range(time_steps):\n",
    "    u2 = u1 + CFL*(D4@u1)\n",
    "    u1 = u2\n",
    "    usol_fe[:,j+1] = u2\n",
    "    \n",
    "A4 = 0\n",
    "\n",
    "A5_128 = copy.deepcopy(usol_fe[:,-1].reshape(128,1))\n",
    "\n",
    "#A5"
   ]
  },
  {
   "cell_type": "code",
   "execution_count": 3,
   "id": "39e0d0e4-584c-488d-9906-906d0cff793d",
   "metadata": {},
   "outputs": [
    {
     "name": "stdout",
     "output_type": "stream",
     "text": [
      "128\n"
     ]
    }
   ],
   "source": [
    "print(n)"
   ]
  },
  {
   "cell_type": "markdown",
   "id": "81648cbe-1b7c-4444-9917-5b3071275f4d",
   "metadata": {},
   "source": [
    "## A9 128"
   ]
  },
  {
   "cell_type": "code",
   "execution_count": 4,
   "id": "fa3edbd7",
   "metadata": {},
   "outputs": [
    {
     "name": "stderr",
     "output_type": "stream",
     "text": [
      "/opt/anaconda3/lib/python3.9/site-packages/scipy/sparse/linalg/dsolve/linsolve.py:318: SparseEfficiencyWarning: splu requires CSC matrix format\n",
      "  warn('splu requires CSC matrix format', SparseEfficiencyWarning)\n"
     ]
    }
   ],
   "source": [
    "# Crank Nicholoson scheme (first-order accurate in time, fourth-order accurate in space)\n",
    "G_CN = lambda z: (1+lambda_star/2*(2*np.cos(z)-2))/(1-lambda_star/2*(2*np.cos(z)-2))\n",
    "\n",
    "G_one_CN = lambda z: np.abs(G_CN(z)); # Define the function we want to maximize\n",
    "index_CN = scipy.optimize.fminbound(lambda z:-G_one_CN(z), -np.pi,np.pi) # This gives the *maximizer*\n",
    "maximum_CN = G_one_CN(index_CN)\n",
    "#print(maximum_CN)\n",
    "\n",
    "A6 = copy.deepcopy(maximum_CN)\n",
    "\n",
    "d_B = [-n+1,-1,0,1,n-1]\n",
    "B = scipy.sparse.spdiags([(-lambda_star/2)*e1,(-lambda_star/2)*e1,(1+lambda_star)*e1,(-lambda_star/2)*e1,(-lambda_star/2)*e1],d_B,n,n)\n",
    "\n",
    "d_C = [-n+1,-1,0,1,n-1]\n",
    "C = scipy.sparse.spdiags([(lambda_star/2)*e1,(lambda_star/2)*e1,(1-lambda_star)*e1,(lambda_star/2)*e1,(lambda_star/2)*e1],d_C,n,n)\n",
    "\n",
    "A7 = copy.deepcopy(B.todense())\n",
    "\n",
    "A8 = copy.deepcopy(C.todense())\n",
    "\n",
    "\n",
    "#initial conditions - Crank Nicholson\n",
    "Time = 2\n",
    "dt = delta_t\n",
    "time_steps = int(Time/dt)\n",
    "usol_CN = np.zeros((len(x),len(t))) #placeholder for solution - more effcient\n",
    "#u0 = np.exp(-x**2).T # Gaussian\n",
    "u0 = 10*np.cos((2*np.pi*x)/L) + 30*np.cos((8*np.pi*x)/L)\n",
    "usol_CN[:,0] = u0\n",
    "u1 = u0\n",
    "#CFL = lambda_star\n",
    "solver = scipy.sparse.linalg.splu(B)\n",
    "for j in range(time_steps):\n",
    "    \n",
    "    u2 = solver.solve(C@u1)\n",
    "    \n",
    "    u1 = u2\n",
    "    usol_CN[:,j+1] = u2\n",
    "\n",
    "A9_128 = copy.deepcopy(usol_CN[:,-1].reshape(n,1))\n",
    "#A9\n",
    "\n",
    "##bigscstab\n",
    "#initial conditions - Crank Nicholson\n",
    "Time = 2\n",
    "dt = delta_t\n",
    "time_steps = int(Time/dt)\n",
    "usol_CN_b = np.zeros((len(x),len(t))) #placeholder for solution - more effcient\n",
    "#u0 = np.exp(-x**2).T # Gaussian\n",
    "u0 = 10*np.cos((2*np.pi*x)/L) + 30*np.cos((8*np.pi*x)/L)\n",
    "usol_CN_b[:,0] = u0\n",
    "u1 = u0\n",
    "CFL = lambda_star\n",
    "for j in range(time_steps):\n",
    "    \n",
    "    x, exitcode = scipy.sparse.linalg.bicgstab(B, C@u1)\n",
    "    #solver = scipy.sparse.linalg.splu(B)\n",
    "    #u2 = solver.solve(C@u1)\n",
    "    u2 = x\n",
    "    u1 = u2\n",
    "    usol_CN_b[:,j+1] = u2\n",
    "    \n",
    "A10 = copy.deepcopy(usol_CN_b[:,-1].reshape(n,1))\n"
   ]
  },
  {
   "cell_type": "code",
   "execution_count": 5,
   "id": "74a7d080-50b4-405e-aeb0-a48798b75f7c",
   "metadata": {},
   "outputs": [
    {
     "name": "stdout",
     "output_type": "stream",
     "text": [
      "128\n"
     ]
    }
   ],
   "source": [
    "print(n)"
   ]
  },
  {
   "cell_type": "code",
   "execution_count": 6,
   "id": "ced5c5b1",
   "metadata": {},
   "outputs": [],
   "source": [
    "#loading all the files\n",
    "#t = 2 for 128,256,512, and 1024 equally\n",
    "exact_128 = np.genfromtxt('exact_128.csv', delimiter=',')\n",
    "exact_256 = np.genfromtxt('exact_256.csv', delimiter=',')\n",
    "exact_512 = np.genfromtxt('exact_512.csv', delimiter=',')\n",
    "exact_1024 = np.genfromtxt('exact_1024.csv', delimiter=',')"
   ]
  },
  {
   "cell_type": "code",
   "execution_count": null,
   "id": "3d5523b9",
   "metadata": {},
   "outputs": [],
   "source": []
  },
  {
   "cell_type": "markdown",
   "id": "a03d8549-4d6d-497d-a2c2-7aa35aeb76ea",
   "metadata": {},
   "source": [
    "## A5 256"
   ]
  },
  {
   "cell_type": "code",
   "execution_count": 7,
   "id": "1f259f60",
   "metadata": {},
   "outputs": [
    {
     "data": {
      "text/plain": [
       "array([2.03794563])"
      ]
     },
     "execution_count": 7,
     "metadata": {},
     "output_type": "execute_result"
    }
   ],
   "source": [
    "m = 257\n",
    "L = 10\n",
    "x1 = np.linspace(-L, L, m)\n",
    "x = x1[:-1]\n",
    "delta_x = x[1] - x[0]\n",
    "#print(delta_x)\n",
    "#print(np.shape(delta_x))\n",
    "t = np.linspace(0, 2, (500*4)+1, endpoint = True)\n",
    "delta_t = t[1] - t[0]\n",
    "#print(delta_t)\n",
    "#print(delta_t)\n",
    "#print(np.shape(delta_t))\n",
    "#print(t)\n",
    "#print(np.shape(t))\n",
    "#calculate the CFL number λ and call it λ∗\n",
    "alpha = 2\n",
    "lambda_star = alpha*(delta_t)/(delta_x**2)\n",
    "#print(lambda_star)\n",
    "#print(np.shape(lambda_star))\n",
    "\n",
    "# (1,4)-accurate scheme (first-order accurate in time, fourth-order accurate in space)\n",
    "G = lambda z: lambda_star*(32*np.cos(z)-2*np.cos(2*z)-30)*(1/12)+1\n",
    "\n",
    "#A1 = copy.deepcopy(G(1))\n",
    "\n",
    "G_one = lambda z: np.abs(G(z)); # Define the function we want to maximize\n",
    "index = scipy.optimize.fminbound(lambda z:-G_one(z), -np.pi,np.pi) # This gives the *maximizer*\n",
    "maximum = G_one(index)\n",
    "#print(maximum)\n",
    "\n",
    "#A2 = copy.deepcopy(maximum)\n",
    "\n",
    "#D4\n",
    "n = 256\n",
    "#sparse matrix for derivative term\n",
    "e1 = np.ones(n)\n",
    "d_D4 = [-n+1,-n+2,-2,-1,0,1,2,n-2,n-1]\n",
    "D4 = scipy.sparse.spdiags([16*e1,-e1,-e1,16*e1,-30*e1,16*e1,-e1,-e1,16*e1],d_D4,n,n)\n",
    "#print(D4.todense())\n",
    "D4 *= 1/12\n",
    "#print(D4.todense())\n",
    "\n",
    "#A3 = copy.deepcopy(D4.todense())\n",
    "\n",
    "#Forward Euler\n",
    "#initial conditions - FE\n",
    "Time = 2\n",
    "dt = delta_t\n",
    "time_steps = int(Time/dt)\n",
    "usol_fe = np.zeros((len(x),len(t))) #placeholder for solution - more effcient\n",
    "#u0 = np.exp(-x**2).T # Gaussian\n",
    "u0 = 10*np.cos((2*np.pi*x)/L) + 30*np.cos((8*np.pi*x)/L)\n",
    "usol_fe[:,0] = u0\n",
    "u1 = u0\n",
    "CFL = lambda_star\n",
    "for j in range(time_steps):\n",
    "    u2 = u1 + CFL*(D4@u1)\n",
    "    u1 = u2\n",
    "    usol_fe[:,j+1] = u2\n",
    "    \n",
    "#A4 = 0\n",
    "\n",
    "A5_256 = copy.deepcopy(usol_fe[:,-1].reshape(256,1))\n",
    "A5_256[3]"
   ]
  },
  {
   "cell_type": "code",
   "execution_count": 8,
   "id": "5b4d8449-62a4-458d-960c-7c8f2ef215a7",
   "metadata": {},
   "outputs": [
    {
     "name": "stdout",
     "output_type": "stream",
     "text": [
      "256\n"
     ]
    }
   ],
   "source": [
    "print(n)"
   ]
  },
  {
   "cell_type": "markdown",
   "id": "d15992c1-b521-4d09-a9ab-c378d6fa120e",
   "metadata": {},
   "source": [
    "## A9 256"
   ]
  },
  {
   "cell_type": "code",
   "execution_count": 9,
   "id": "991e1258-f772-4841-ac80-f7388e2ad880",
   "metadata": {},
   "outputs": [],
   "source": [
    "# Crank Nicholoson scheme (first-order accurate in time, fourth-order accurate in space)\n",
    "G_CN = lambda z: (1+lambda_star/2*(2*np.cos(z)-2))/(1-lambda_star/2*(2*np.cos(z)-2))\n",
    "\n",
    "G_one_CN = lambda z: np.abs(G_CN(z)); # Define the function we want to maximize\n",
    "index_CN = scipy.optimize.fminbound(lambda z:-G_one_CN(z), -np.pi,np.pi) # This gives the *maximizer*\n",
    "maximum_CN = G_one_CN(index_CN)\n",
    "#print(maximum_CN)\n",
    "\n",
    "#A6 = copy.deepcopy(maximum_CN)\n",
    "\n",
    "d_B = [-n+1,-1,0,1,n-1]\n",
    "B = scipy.sparse.spdiags([(-lambda_star/2)*e1,(-lambda_star/2)*e1,(1+lambda_star)*e1,(-lambda_star/2)*e1,(-lambda_star/2)*e1],d_B,n,n)\n",
    "\n",
    "d_C = [-n+1,-1,0,1,n-1]\n",
    "C = scipy.sparse.spdiags([(lambda_star/2)*e1,(lambda_star/2)*e1,(1-lambda_star)*e1,(lambda_star/2)*e1,(lambda_star/2)*e1],d_C,n,n)\n",
    "\n",
    "#A7 = copy.deepcopy(B.todense())\n",
    "\n",
    "#A8 = copy.deepcopy(C.todense())\n",
    "\n",
    "\n",
    "#initial conditions - Crank Nicholson\n",
    "Time = 2\n",
    "dt = delta_t\n",
    "time_steps = int(Time/dt)\n",
    "usol_CN = np.zeros((len(x),len(t))) #placeholder for solution - more effcient\n",
    "#u0 = np.exp(-x**2).T # Gaussian\n",
    "u0 = 10*np.cos((2*np.pi*x)/L) + 30*np.cos((8*np.pi*x)/L)\n",
    "usol_CN[:,0] = u0\n",
    "u1 = u0\n",
    "#CFL = lambda_star\n",
    "solver = scipy.sparse.linalg.splu(B)\n",
    "for j in range(time_steps):\n",
    "    \n",
    "    u2 = solver.solve(C@u1)\n",
    "    \n",
    "    u1 = u2\n",
    "    usol_CN[:,j+1] = u2\n",
    "\n",
    "A9_256 = copy.deepcopy(usol_CN[:,-1].reshape(256,1))"
   ]
  },
  {
   "cell_type": "code",
   "execution_count": 10,
   "id": "2ad11549-5d3c-4073-b046-825e5543f13c",
   "metadata": {},
   "outputs": [
    {
     "name": "stdout",
     "output_type": "stream",
     "text": [
      "256\n"
     ]
    }
   ],
   "source": [
    "print(n)"
   ]
  },
  {
   "cell_type": "markdown",
   "id": "58af9d5b-9eaa-4fac-8854-5791f0dad538",
   "metadata": {},
   "source": [
    "## A5 512"
   ]
  },
  {
   "cell_type": "code",
   "execution_count": 11,
   "id": "9321f37a-5cde-40f7-a053-7ae3526904b6",
   "metadata": {},
   "outputs": [
    {
     "data": {
      "text/plain": [
       "array([2.05562369])"
      ]
     },
     "execution_count": 11,
     "metadata": {},
     "output_type": "execute_result"
    }
   ],
   "source": [
    "m = 513\n",
    "L = 10\n",
    "x1 = np.linspace(-L, L, m)\n",
    "x = x1[:-1]\n",
    "delta_x = x[1] - x[0]\n",
    "#print(delta_x)\n",
    "#print(np.shape(delta_x))\n",
    "t = np.linspace(0, 2, (500*16)+1, endpoint = True)\n",
    "delta_t = t[1] - t[0]\n",
    "#print(delta_t)\n",
    "#print(delta_t)\n",
    "#print(np.shape(delta_t))\n",
    "#print(t)\n",
    "#print(np.shape(t))\n",
    "#calculate the CFL number λ and call it λ∗\n",
    "alpha = 2\n",
    "lambda_star = alpha*(delta_t)/(delta_x**2)\n",
    "#print(lambda_star)\n",
    "#print(np.shape(lambda_star))\n",
    "\n",
    "# (1,4)-accurate scheme (first-order accurate in time, fourth-order accurate in space)\n",
    "G = lambda z: lambda_star*(32*np.cos(z)-2*np.cos(2*z)-30)*(1/12)+1\n",
    "\n",
    "#A1 = copy.deepcopy(G(1))\n",
    "\n",
    "G_one = lambda z: np.abs(G(z)); # Define the function we want to maximize\n",
    "index = scipy.optimize.fminbound(lambda z:-G_one(z), -np.pi,np.pi) # This gives the *maximizer*\n",
    "maximum = G_one(index)\n",
    "#print(maximum)\n",
    "\n",
    "#A2 = copy.deepcopy(maximum)\n",
    "\n",
    "#D4\n",
    "n = 512\n",
    "#sparse matrix for derivative term\n",
    "e1 = np.ones(n)\n",
    "d_D4 = [-n+1,-n+2,-2,-1,0,1,2,n-2,n-1]\n",
    "D4 = scipy.sparse.spdiags([16*e1,-e1,-e1,16*e1,-30*e1,16*e1,-e1,-e1,16*e1],d_D4,n,n)\n",
    "#print(D4.todense())\n",
    "D4 *= 1/12\n",
    "#print(D4.todense())\n",
    "\n",
    "#A3 = copy.deepcopy(D4.todense())\n",
    "\n",
    "#Forward Euler\n",
    "#initial conditions - FE\n",
    "Time = 2\n",
    "dt = delta_t\n",
    "time_steps = int(Time/dt)\n",
    "usol_fe = np.zeros((len(x),len(t))) #placeholder for solution - more effcient\n",
    "#u0 = np.exp(-x**2).T # Gaussian\n",
    "u0 = 10*np.cos((2*np.pi*x)/L) + 30*np.cos((8*np.pi*x)/L)\n",
    "usol_fe[:,0] = u0\n",
    "u1 = u0\n",
    "CFL = lambda_star\n",
    "for j in range(time_steps):\n",
    "    u2 = u1 + CFL*(D4@u1)\n",
    "    u1 = u2\n",
    "    usol_fe[:,j+1] = u2\n",
    "    \n",
    "#A4 = 0\n",
    "\n",
    "A5_512 = copy.deepcopy(usol_fe[:,-1].reshape(512,1))\n",
    "A5_512[3]"
   ]
  },
  {
   "cell_type": "code",
   "execution_count": 12,
   "id": "406e20bf-0a76-44be-95dd-dedc911f41a4",
   "metadata": {},
   "outputs": [
    {
     "name": "stdout",
     "output_type": "stream",
     "text": [
      "512\n"
     ]
    }
   ],
   "source": [
    "print(n)"
   ]
  },
  {
   "cell_type": "markdown",
   "id": "e3502c02-d5d0-4590-a82e-beae49457b3c",
   "metadata": {},
   "source": [
    "## A9 512"
   ]
  },
  {
   "cell_type": "code",
   "execution_count": 13,
   "id": "87c4131b-cf32-4773-aaf8-9886c0b5ccc7",
   "metadata": {},
   "outputs": [],
   "source": [
    "# Crank Nicholoson scheme (first-order accurate in time, fourth-order accurate in space)\n",
    "G_CN = lambda z: (1+lambda_star/2*(2*np.cos(z)-2))/(1-lambda_star/2*(2*np.cos(z)-2))\n",
    "\n",
    "G_one_CN = lambda z: np.abs(G_CN(z)); # Define the function we want to maximize\n",
    "index_CN = scipy.optimize.fminbound(lambda z:-G_one_CN(z), -np.pi,np.pi) # This gives the *maximizer*\n",
    "maximum_CN = G_one_CN(index_CN)\n",
    "#print(maximum_CN)\n",
    "\n",
    "#A6 = copy.deepcopy(maximum_CN)\n",
    "\n",
    "d_B = [-n+1,-1,0,1,n-1]\n",
    "B = scipy.sparse.spdiags([(-lambda_star/2)*e1,(-lambda_star/2)*e1,(1+lambda_star)*e1,(-lambda_star/2)*e1,(-lambda_star/2)*e1],d_B,n,n)\n",
    "\n",
    "d_C = [-n+1,-1,0,1,n-1]\n",
    "C = scipy.sparse.spdiags([(lambda_star/2)*e1,(lambda_star/2)*e1,(1-lambda_star)*e1,(lambda_star/2)*e1,(lambda_star/2)*e1],d_C,n,n)\n",
    "\n",
    "#A7 = copy.deepcopy(B.todense())\n",
    "\n",
    "#A8 = copy.deepcopy(C.todense())\n",
    "\n",
    "\n",
    "#initial conditions - Crank Nicholson\n",
    "Time = 2\n",
    "dt = delta_t\n",
    "time_steps = int(Time/dt)\n",
    "usol_CN = np.zeros((len(x),len(t))) #placeholder for solution - more effcient\n",
    "#u0 = np.exp(-x**2).T # Gaussian\n",
    "u0 = 10*np.cos((2*np.pi*x)/L) + 30*np.cos((8*np.pi*x)/L)\n",
    "usol_CN[:,0] = u0\n",
    "u1 = u0\n",
    "#CFL = lambda_star\n",
    "solver = scipy.sparse.linalg.splu(B)\n",
    "for j in range(time_steps):\n",
    "    \n",
    "    u2 = solver.solve(C@u1)\n",
    "    \n",
    "    u1 = u2\n",
    "    usol_CN[:,j+1] = u2\n",
    "\n",
    "A9_512 = copy.deepcopy(usol_CN[:,-1].reshape(512,1))"
   ]
  },
  {
   "cell_type": "code",
   "execution_count": 14,
   "id": "1b127277-b59a-456c-844e-1add2bf4a730",
   "metadata": {},
   "outputs": [
    {
     "name": "stdout",
     "output_type": "stream",
     "text": [
      "512\n"
     ]
    }
   ],
   "source": [
    "print(n)"
   ]
  },
  {
   "cell_type": "markdown",
   "id": "942c4081-e503-4f89-8ebe-5e71ce37e1e7",
   "metadata": {},
   "source": [
    "## A5 1024"
   ]
  },
  {
   "cell_type": "code",
   "execution_count": 15,
   "id": "01c97b05-2dae-4cd0-993c-ed632f65b53a",
   "metadata": {},
   "outputs": [
    {
     "data": {
      "text/plain": [
       "array([2.06005273])"
      ]
     },
     "execution_count": 15,
     "metadata": {},
     "output_type": "execute_result"
    }
   ],
   "source": [
    "m = 1025\n",
    "L = 10\n",
    "x1 = np.linspace(-L, L, m)\n",
    "x = x1[:-1]\n",
    "delta_x = x[1] - x[0]\n",
    "#print(delta_x)\n",
    "#print(np.shape(delta_x))\n",
    "t = np.linspace(0, 2, (500*64)+1, endpoint = True)\n",
    "delta_t = t[1] - t[0]\n",
    "#print(delta_t)\n",
    "#print(delta_t)\n",
    "#print(np.shape(delta_t))\n",
    "#print(t)\n",
    "#print(np.shape(t))\n",
    "#calculate the CFL number λ and call it λ∗\n",
    "alpha = 2\n",
    "lambda_star = alpha*(delta_t)/(delta_x**2)\n",
    "#print(lambda_star)\n",
    "#print(np.shape(lambda_star))\n",
    "\n",
    "# (1,4)-accurate scheme (first-order accurate in time, fourth-order accurate in space)\n",
    "G = lambda z: lambda_star*(32*np.cos(z)-2*np.cos(2*z)-30)*(1/12)+1\n",
    "\n",
    "#A1 = copy.deepcopy(G(1))\n",
    "\n",
    "G_one = lambda z: np.abs(G(z)); # Define the function we want to maximize\n",
    "index = scipy.optimize.fminbound(lambda z:-G_one(z), -np.pi,np.pi) # This gives the *maximizer*\n",
    "maximum = G_one(index)\n",
    "#print(maximum)\n",
    "\n",
    "#A2 = copy.deepcopy(maximum)\n",
    "\n",
    "#D4\n",
    "n = 1024\n",
    "#sparse matrix for derivative term\n",
    "e1 = np.ones(n)\n",
    "d_D4 = [-n+1,-n+2,-2,-1,0,1,2,n-2,n-1]\n",
    "D4 = scipy.sparse.spdiags([16*e1,-e1,-e1,16*e1,-30*e1,16*e1,-e1,-e1,16*e1],d_D4,n,n)\n",
    "#print(D4.todense())\n",
    "D4 *= 1/12\n",
    "#print(D4.todense())\n",
    "\n",
    "#A3 = copy.deepcopy(D4.todense())\n",
    "\n",
    "#Forward Euler\n",
    "#initial conditions - FE\n",
    "Time = 2\n",
    "dt = delta_t\n",
    "time_steps = int(Time/dt)\n",
    "usol_fe = np.zeros((len(x),len(t))) #placeholder for solution - more effcient\n",
    "#u0 = np.exp(-x**2).T # Gaussian\n",
    "u0 = 10*np.cos((2*np.pi*x)/L) + 30*np.cos((8*np.pi*x)/L)\n",
    "usol_fe[:,0] = u0\n",
    "u1 = u0\n",
    "CFL = lambda_star\n",
    "for j in range(time_steps):\n",
    "    u2 = u1 + CFL*(D4@u1)\n",
    "    u1 = u2\n",
    "    usol_fe[:,j+1] = u2\n",
    "    \n",
    "#A4 = 0\n",
    "\n",
    "A5_1024 = copy.deepcopy(usol_fe[:,-1].reshape(1024,1))\n",
    "A5_1024[3]"
   ]
  },
  {
   "cell_type": "code",
   "execution_count": 16,
   "id": "a120e8e2-9429-4367-8905-2b74e83cb0fa",
   "metadata": {},
   "outputs": [
    {
     "name": "stdout",
     "output_type": "stream",
     "text": [
      "1024\n"
     ]
    }
   ],
   "source": [
    "print(n)"
   ]
  },
  {
   "cell_type": "markdown",
   "id": "4dd60d7a-fe37-46b6-ba99-441f6547eed4",
   "metadata": {},
   "source": [
    "## A9 1024"
   ]
  },
  {
   "cell_type": "code",
   "execution_count": 17,
   "id": "3eea96b1-9115-4ad3-a8d5-b0fb9ade88cf",
   "metadata": {},
   "outputs": [],
   "source": [
    "\n",
    "# Crank Nicholoson scheme (first-order accurate in time, fourth-order accurate in space)\n",
    "G_CN = lambda z: (1+lambda_star/2*(2*np.cos(z)-2))/(1-lambda_star/2*(2*np.cos(z)-2))\n",
    "\n",
    "G_one_CN = lambda z: np.abs(G_CN(z)); # Define the function we want to maximize\n",
    "index_CN = scipy.optimize.fminbound(lambda z:-G_one_CN(z), -np.pi,np.pi) # This gives the *maximizer*\n",
    "maximum_CN = G_one_CN(index_CN)\n",
    "#print(maximum_CN)\n",
    "\n",
    "#A6 = copy.deepcopy(maximum_CN)\n",
    "\n",
    "d_B = [-n+1,-1,0,1,n-1]\n",
    "B = scipy.sparse.spdiags([(-lambda_star/2)*e1,(-lambda_star/2)*e1,(1+lambda_star)*e1,(-lambda_star/2)*e1,(-lambda_star/2)*e1],d_B,n,n)\n",
    "\n",
    "d_C = [-n+1,-1,0,1,n-1]\n",
    "C = scipy.sparse.spdiags([(lambda_star/2)*e1,(lambda_star/2)*e1,(1-lambda_star)*e1,(lambda_star/2)*e1,(lambda_star/2)*e1],d_C,n,n)\n",
    "\n",
    "#A7 = copy.deepcopy(B.todense())\n",
    "\n",
    "#A8 = copy.deepcopy(C.todense())\n",
    "\n",
    "\n",
    "#initial conditions - Crank Nicholson\n",
    "Time = 2\n",
    "dt = delta_t\n",
    "time_steps = int(Time/dt)\n",
    "usol_CN = np.zeros((len(x),len(t))) #placeholder for solution - more effcient\n",
    "#u0 = np.exp(-x**2).T # Gaussian\n",
    "u0 = 10*np.cos((2*np.pi*x)/L) + 30*np.cos((8*np.pi*x)/L)\n",
    "usol_CN[:,0] = u0\n",
    "u1 = u0\n",
    "#CFL = lambda_star\n",
    "solver = scipy.sparse.linalg.splu(B)\n",
    "for j in range(time_steps):\n",
    "    \n",
    "    u2 = solver.solve(C@u1)\n",
    "    \n",
    "    u1 = u2\n",
    "    usol_CN[:,j+1] = u2\n",
    "\n",
    "A9_1024 = copy.deepcopy(usol_CN[:,-1].reshape(1024,1))"
   ]
  },
  {
   "cell_type": "code",
   "execution_count": 18,
   "id": "92160f85-6df5-4d3b-9ce8-014afc602ece",
   "metadata": {},
   "outputs": [
    {
     "name": "stdout",
     "output_type": "stream",
     "text": [
      "1024\n"
     ]
    }
   ],
   "source": [
    "print(n)"
   ]
  },
  {
   "cell_type": "code",
   "execution_count": 19,
   "id": "4f850acc-4255-421a-b3b3-35ac4bb4e35f",
   "metadata": {},
   "outputs": [],
   "source": [
    "#np.shape(exact_128)\n",
    "diff_128 = scipy.linalg.norm(-A5_128 + exact_128.reshape(128,1)).squeeze()\n",
    "diff_256 = scipy.linalg.norm(-A5_256 + exact_256.reshape(256,1)).squeeze()\n",
    "diff_512 = scipy.linalg.norm(-A5_512 + exact_512.reshape(512,1)).squeeze()\n",
    "diff_1024 = scipy.linalg.norm(-A5_1024 + exact_1024.reshape(1024,1)).squeeze()\n",
    "#diff_128\n",
    "\n",
    "A11 = copy.deepcopy(diff_128)\n",
    "\n",
    "#exact_128_CN = np.genfromtxt('exact_128.csv', delimiter=',')\n",
    "#np.shape(exact_128)\n",
    "diff_128_CN = scipy.linalg.norm(-A9_128 + exact_128.reshape(128,1)).squeeze()\n",
    "diff_256_CN = scipy.linalg.norm(-A9_256 + exact_256.reshape(256,1)).squeeze()\n",
    "diff_512_CN = scipy.linalg.norm(-A9_512 + exact_512.reshape(512,1)).squeeze()\n",
    "diff_1024_CN = scipy.linalg.norm(-A9_1024 + exact_1024.reshape(1024,1)).squeeze()\n",
    "#diff_128_CN\n",
    "\n",
    "A12 = copy.deepcopy(diff_128_CN)"
   ]
  },
  {
   "cell_type": "code",
   "execution_count": 20,
   "id": "cc43256c-8e06-4937-98f4-c2c9f30a1acd",
   "metadata": {},
   "outputs": [
    {
     "data": {
      "text/plain": [
       "(128,)"
      ]
     },
     "execution_count": 20,
     "metadata": {},
     "output_type": "execute_result"
    }
   ],
   "source": [
    "np.shape(exact_128)"
   ]
  },
  {
   "cell_type": "markdown",
   "id": "d909bafb",
   "metadata": {},
   "source": [
    "Calculate the norm of the difference between the solution from the (1,4)\n",
    "method and the true solution at t = 2 for 128,256,512, and 1024 equally\n",
    "spaced points. Do the same thing for the Crank-Nicolson method, using either\n",
    "LU or bicgstab (either is okay, just choose consistently). Create a log-log plot\n",
    "of the error versus ∆x for both methods. Plot the data using discrete markers\n",
    "and plot a trend line showing the order of accuracy of the two methods."
   ]
  },
  {
   "cell_type": "code",
   "execution_count": 27,
   "id": "225bee36",
   "metadata": {},
   "outputs": [
    {
     "data": {
      "image/png": "[encoded data removed]",
      "text/plain": [
       "<Figure size 432x288 with 1 Axes>"
      ]
     },
     "metadata": {
      "needs_background": "light"
     },
     "output_type": "display_data"
    }
   ],
   "source": [
    "%matplotlib inline\n",
    "# x for delta x\n",
    "x = np.log([128, 256, 512, 1024])\n",
    "#y for norm difference\n",
    "\n",
    "y0 = np.log([diff_128, diff_256, diff_512, diff_1024])\n",
    "y1 = np.log([diff_128_CN, diff_256_CN, diff_512_CN, diff_1024_CN])\n",
    "\n",
    "fig, ax = plt.subplots()\n",
    "#calculating slope\n",
    "slope_0=(y0[1]-y0[0])/(x[1]-x[0])\n",
    "slope_1=(y1[1]-y1[0])/(x[1]-x[0])\n",
    "#plotting the fitted lines\n",
    "ax.plot(x, y0,marker='o',linestyle='-',label='(1,4) method, slope = '+str(round(slope_0,3)))\n",
    "ax.plot(x,y1,marker='o',linestyle='-',label='(2,2) method, slope= '+str(round(slope_1,3)))\n",
    "#ax.scatter(x,y0,label='Error of (1,4) method')\n",
    "#ax.scatter(x,y1,label='Error of (2,2) method')\n",
    "\n",
    "#defining the axes and title\n",
    "ax.legend(loc = 'best')\n",
    "plt.title('Second Order Error Vs. Step Size')\n",
    "plt.xlabel('Log (Step size in space)')\n",
    "plt.ylabel('Log (Error)')\n",
    "plt.savefig('hw4_mb.png')\n",
    "plt.show()"
   ]
  }
 ],
 "metadata": {
  "kernelspec": {
   "display_name": "Python 3 (ipykernel)",
   "language": "python",
   "name": "python3"
  },
  "language_info": {
   "codemirror_mode": {
    "name": "ipython",
    "version": 3
   },
   "file_extension": ".py",
   "mimetype": "text/x-python",
   "name": "python",
   "nbconvert_exporter": "python",
   "pygments_lexer": "ipython3",
   "version": "3.9.7"
  }
 },
 "nbformat": 4,
 "nbformat_minor": 5
}
