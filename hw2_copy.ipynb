{
 "cells": [
  {
   "cell_type": "markdown",
   "id": "02058c96-721f-49dd-a9c3-e30918e3d5b8",
   "metadata": {},
   "source": [
    "# AMATH Scientific Computing\n",
    "## Homework-2\n",
    "### Manjaree Binjolkar"
   ]
  },
  {
   "cell_type": "code",
   "execution_count": 1,
   "id": "3a9b7914-07f7-45ad-bd75-72d75cc5239a",
   "metadata": {},
   "outputs": [],
   "source": [
    "import numpy as np\n",
    "import matplotlib.pyplot as plt\n",
    "import scipy.integrate\n",
    "import copy\n",
    "#%matplotlib notebook"
   ]
  },
  {
   "cell_type": "code",
   "execution_count": 2,
   "id": "ae3bf26c-a41a-4f01-8008-2c435b8115eb",
   "metadata": {},
   "outputs": [],
   "source": [
    "#Q1 Define ODE\n",
    "def rhsfunc(t, y, beta):\n",
    "    f1 = y[1] #f1 = y1'= y2 = phi'\n",
    "    K = 1\n",
    "    n0 = K*t*t #n(x) = x*x (here t is the independent variable)\n",
    "    f2 = (n0 - epsilon)*y[0]#this changes #f2 = y2' = phi\"\n",
    "    return np.array([f1, f2])\n",
    "\n",
    "# Define some constants\n",
    "#n0 = 0 #defined inside the function\n",
    "L = 4 \n",
    "xp = [-L,L] # xspan\n",
    "tol = 1e-6 # We want to find beta such that |y(x=1)| < tol\n",
    "K = 1\n",
    "# Define our initial conditions\n",
    "A = 1 # This is the shooting-method parameter that we will change , y1_(-1) = A\n",
    "\n",
    "#y0 = np.array([A, 1]) # y1_(-1) = A, y2_(-1) = 1 #do I need to keep updating A?\n",
    "\n",
    "epsilon_start = 0 # This is our initial beta value, we will change it, \n",
    "#recommended on piazza to start from epsilon = 0\n",
    "eigen_values=[]\n",
    "eigen_functions=[]\n",
    "\n",
    "# Make a loop over beta values to find more eigenvalue-eigenfunction pairs\n",
    "#modes is another way to say eigenfunction\n",
    "for modes in range(5): # Try to find 5 modes\n",
    "    epsilon = epsilon_start \n",
    "    depsilon = 0.01 # This is the amount we will decrease beta by each time we don't have an eigenvalue\n",
    "                 # until we get an eigenvalue\n",
    "\n",
    "    \n",
    "    for j in range(1000):\n",
    "        x_evals = np.linspace(-L, L, (20*L)+1) #20L + 1 linearly spaced points in between\n",
    "        #update/define y0 again\n",
    "        y0 = np.array([A, A*np.sqrt(K*L*L-epsilon)])\n",
    "        \n",
    "        sol = scipy.integrate.solve_ivp(lambda x,y: rhsfunc(x, y, epsilon), xp, y0, t_eval = x_evals)\n",
    "        \n",
    "        y_sol = sol.y[0, :] #gives phi\n",
    "\n",
    "        y_sol_1 =sol.y[1,:] #gives phi'\n",
    "\n",
    "        if np.abs(y_sol_1[-1]+np.sqrt(K*L*L-epsilon)*y_sol[-1]) < tol:\n",
    "            #the boundary condition at phi'(x=L) should be limited to be less than here\n",
    "            #phi'(L) = - sqrt(epsilon)*phi(L) -->given < tol\n",
    "            #print(r'We got the eigenvalue! $\\epsilon = $', epsilon)\n",
    "            eigen_values.append(epsilon)\n",
    "            break\n",
    "\n",
    "        if (-1)**(modes)*(y_sol_1[-1]+np.sqrt(K*L*L-epsilon)*y_sol[-1]) > 0:\n",
    "            #phi'(L) = - sqrt(KL^2 - epsilon)*phi(L)\n",
    "            epsilon = epsilon + depsilon \n",
    "            # Decrease beta if y(1)>0, because we know that y(1)>0 for beta = beta_start\n",
    "        else:\n",
    "            epsilon = epsilon - depsilon/2  # Increase beta by a smaller amount if y(1)<0\n",
    "            depsilon = depsilon/2 # Cut dbeta in half to make we converge\n",
    "\n",
    "\n",
    "    epsilon_start = epsilon + 0.1 # increase beta once we have found one mode.\n",
    "\n",
    "    y_norm = scipy.integrate.trapz(y_sol**2,x=x_evals)\n",
    "    y_sol_final = y_sol/np.sqrt(y_norm)\n",
    "    eigen_functions.append(y_sol_final)\n",
    "    #plt.plot(sol.t, y_sol_final, linewidth=2)\n",
    "    #plt.plot(sol.t, 0*sol.t, 'k')"
   ]
  },
  {
   "cell_type": "code",
   "execution_count": 3,
   "id": "43513795",
   "metadata": {},
   "outputs": [],
   "source": [
    "#print(np.shape(eigen_functions))\n",
    "#print(eigen_functions)\n",
    "#eigen_functions[0].reshape(81,1).T\n",
    "#np.shape(eigen_functions[0].reshape(81,1).T)"
   ]
  },
  {
   "cell_type": "code",
   "execution_count": 4,
   "id": "aec2530e",
   "metadata": {},
   "outputs": [],
   "source": [
    "A1 = copy.deepcopy(eigen_functions[0].reshape(81,1))\n",
    "#print(A1)\n",
    "#print(np.shape(A1))"
   ]
  },
  {
   "cell_type": "code",
   "execution_count": 5,
   "id": "b55caa07",
   "metadata": {},
   "outputs": [],
   "source": [
    "A2 = copy.deepcopy(eigen_functions[1].reshape(81,1))\n",
    "#print(A2)\n",
    "#print(np.shape(A2))"
   ]
  },
  {
   "cell_type": "code",
   "execution_count": 6,
   "id": "538701ec",
   "metadata": {},
   "outputs": [],
   "source": [
    "A3 = copy.deepcopy(eigen_functions[0].reshape(81,1))\n",
    "#print(A3)\n",
    "#print(np.shape(A3))"
   ]
  },
  {
   "cell_type": "code",
   "execution_count": 7,
   "id": "d4acd3e2",
   "metadata": {},
   "outputs": [],
   "source": [
    "A4 = copy.deepcopy(eigen_functions[0].reshape(81,1))\n",
    "#print(A4)\n",
    "#print(np.shape(A4))"
   ]
  },
  {
   "cell_type": "code",
   "execution_count": 8,
   "id": "6651990a",
   "metadata": {},
   "outputs": [],
   "source": [
    "A5 = copy.deepcopy(eigen_functions[0].reshape(81,1))\n",
    "#print(A5)\n",
    "#print(np.shape(A5))"
   ]
  },
  {
   "cell_type": "code",
   "execution_count": 9,
   "id": "fbf65ce2",
   "metadata": {},
   "outputs": [],
   "source": [
    "A6_temp = np.asarray(eigen_values)\n",
    "#print(type(A6_temp))\n",
    "A6 = copy.deepcopy(A6_temp.reshape(5,1).T)\n",
    "#print(np.shape(A6))"
   ]
  },
  {
   "cell_type": "code",
   "execution_count": 10,
   "id": "022cbb04",
   "metadata": {},
   "outputs": [],
   "source": [
    "#np.shape(A6)"
   ]
  },
  {
   "cell_type": "code",
   "execution_count": 11,
   "id": "a06352d3",
   "metadata": {
    "scrolled": true
   },
   "outputs": [],
   "source": [
    "#Q2\n",
    "A = np.zeros([79,79])\n",
    "#print(A.shape)\n",
    "#print(A)"
   ]
  },
  {
   "cell_type": "code",
   "execution_count": 12,
   "id": "a256f581",
   "metadata": {},
   "outputs": [],
   "source": [
    "L1 = 4\n",
    "deltax = 0.1\n",
    "K = 1\n",
    "xp = np.linspace(-L, L, 20*L1 +1)\n",
    "x_evals =xp"
   ]
  },
  {
   "cell_type": "code",
   "execution_count": 13,
   "id": "0cdb0ea6",
   "metadata": {},
   "outputs": [],
   "source": [
    "A[(0,0)] = 2/3 + (deltax)**2 * K * (-4 + deltax)**2\n",
    "#print(A[(0,0)])"
   ]
  },
  {
   "cell_type": "code",
   "execution_count": 14,
   "id": "8b7b030a",
   "metadata": {},
   "outputs": [],
   "source": [
    "A[(0,1)] = -2/3 \n",
    "#print(A[(0,1)])"
   ]
  },
  {
   "cell_type": "code",
   "execution_count": 15,
   "id": "d1b62858",
   "metadata": {},
   "outputs": [],
   "source": [
    "A[(78,77)] = 2/3 \n",
    "#print(A[(78,77)])"
   ]
  },
  {
   "cell_type": "code",
   "execution_count": 16,
   "id": "28ed993c",
   "metadata": {},
   "outputs": [],
   "source": [
    "A[(78,78)] = 2/3 + (deltax)**2 * K * (4 - deltax)**2\n",
    "#print(A[(78,78)])"
   ]
  },
  {
   "cell_type": "code",
   "execution_count": 17,
   "id": "e6406bb1",
   "metadata": {},
   "outputs": [],
   "source": [
    "for i in range (1,78):\n",
    "    x = -4 + deltax*i\n",
    "    A[(i,i-1)] = -1\n",
    "    A[(i,i)] = 2 + (deltax)**2 * K * x * x\n",
    "    A[(i, i+1)] = -1"
   ]
  },
  {
   "cell_type": "code",
   "execution_count": 18,
   "id": "69406ea8",
   "metadata": {},
   "outputs": [],
   "source": [
    "#print(A)"
   ]
  },
  {
   "cell_type": "code",
   "execution_count": 19,
   "id": "04fb52f4",
   "metadata": {
    "scrolled": false
   },
   "outputs": [],
   "source": [
    "A =100*A\n",
    "#print(A)"
   ]
  },
  {
   "cell_type": "code",
   "execution_count": 20,
   "id": "a85b532d",
   "metadata": {},
   "outputs": [],
   "source": [
    "D, V = scipy.linalg.eig(A)\n",
    "#print(D.shape)\n",
    "#print(V.shape)\n",
    "#print(V[0])"
   ]
  },
  {
   "cell_type": "code",
   "execution_count": 21,
   "id": "aa47af29",
   "metadata": {},
   "outputs": [],
   "source": [
    "B=np.sort(D)\n",
    "#np.shape(B)\n",
    "#print(B[4])"
   ]
  },
  {
   "cell_type": "code",
   "execution_count": 22,
   "id": "da3514d4",
   "metadata": {},
   "outputs": [],
   "source": [
    "#print(V[0,0])\n",
    "#print(np.shape(V))"
   ]
  },
  {
   "cell_type": "code",
   "execution_count": 23,
   "id": "46233bbf",
   "metadata": {},
   "outputs": [],
   "source": [
    "#Left side boundary conditions\n",
    "phi0_0 = (4*V[0,0] - V[1,0])/(3 + 2*deltax*np.sqrt(16 - B[0]))\n",
    "phi0_1 = (4*V[0,1] - V[1,1])/(3 + 2*deltax*np.sqrt(16 - B[1]))\n",
    "phi0_2 = (4*V[0,2] - V[1,2])/(3 + 2*deltax*np.sqrt(16 - B[2]))\n",
    "phi0_3 = (4*V[0,3] - V[1,3])/(3 + 2*deltax*np.sqrt(16 - B[3]))\n",
    "phi0_4 = (4*V[0,4] - V[1,4])/(3 + 2*deltax*np.sqrt(16 - B[4]))\n",
    "\n",
    "phi0 = [phi0_0,phi0_1,phi0_2,phi0_3,phi0_4]\n",
    "#phi0"
   ]
  },
  {
   "cell_type": "code",
   "execution_count": 24,
   "id": "3b864f1a",
   "metadata": {},
   "outputs": [],
   "source": [
    "#Right side boundary conditions\n",
    "phiN_0 = (4*V[78,0] - V[77,0])/(3 + 2*deltax*np.sqrt(16 - B[0]))\n",
    "phiN_1 = (4*V[78,1] - V[77,1])/(3 + 2*deltax*np.sqrt(16 - B[1]))\n",
    "phiN_2 = (4*V[78,2] - V[77,2])/(3 + 2*deltax*np.sqrt(16 - B[2]))\n",
    "phiN_3 = (4*V[78,3] - V[77,3])/(3 + 2*deltax*np.sqrt(16 - B[3]))\n",
    "phiN_4 = (4*V[78,4] - V[77,4])/(3 + 2*deltax*np.sqrt(16 - B[4]))\n",
    "\n",
    "phiN = [phiN_0,phiN_1,phiN_2,phiN_3,phiN_4]\n",
    "#phiN"
   ]
  },
  {
   "cell_type": "code",
   "execution_count": 25,
   "id": "f2dd6ade",
   "metadata": {},
   "outputs": [],
   "source": [
    "A7_pre_temp = np.append(phi0[0],V[0]) \n",
    "#print (np.shape(A7_pre_temp))\n",
    "A7_pre = np.append(A7_pre_temp, phiN[0]) \n",
    "#print (np.shape(A7_pre))"
   ]
  },
  {
   "cell_type": "code",
   "execution_count": 26,
   "id": "d1049c71",
   "metadata": {},
   "outputs": [],
   "source": [
    "A8_pre_temp = np.append(phi0[1],V[1]) \n",
    "#print (np.shape(A8_pre_temp))\n",
    "A8_pre = np.append(A8_pre_temp, phiN[1]) \n",
    "#print (np.shape(A8_pre))"
   ]
  },
  {
   "cell_type": "code",
   "execution_count": 27,
   "id": "6622085a",
   "metadata": {},
   "outputs": [],
   "source": [
    "A9_pre_temp = np.append(phi0[2],V[2]) \n",
    "#print (np.shape(A9_pre_temp))\n",
    "A9_pre = np.append(A9_pre_temp, phiN[2]) \n",
    "#print (np.shape(A9_pre))"
   ]
  },
  {
   "cell_type": "code",
   "execution_count": 28,
   "id": "368628f9",
   "metadata": {},
   "outputs": [],
   "source": [
    "A10_pre_temp = np.append(phi0[3],V[3]) \n",
    "#print (np.shape(A10_pre_temp))\n",
    "A10_pre = np.append(A10_pre_temp, phiN[3]) \n",
    "#print (np.shape(A10_pre))"
   ]
  },
  {
   "cell_type": "code",
   "execution_count": 29,
   "id": "0e2cfe9e",
   "metadata": {},
   "outputs": [],
   "source": [
    "A11_pre_temp = np.append(phi0[4],V[4]) \n",
    "#print (np.shape(A7_pre_temp))\n",
    "A11_pre = np.append(A11_pre_temp, phiN[4]) \n",
    "#print (np.shape(A11_pre))"
   ]
  },
  {
   "cell_type": "code",
   "execution_count": 30,
   "id": "a9900739",
   "metadata": {},
   "outputs": [],
   "source": [
    "A7_temp = np.abs(A7_pre/(np.sqrt(scipy.integrate.trapz(A7_pre**2,x=x_evals))))\n",
    "A8_temp = np.abs(A8_pre/(np.sqrt(scipy.integrate.trapz(A8_pre**2,x=x_evals))))\n",
    "A9_temp = np.abs(A9_pre/(np.sqrt(scipy.integrate.trapz(A9_pre**2,x=x_evals))))\n",
    "A10_temp = np.abs(A10_pre/(np.sqrt(scipy.integrate.trapz(A10_pre**2,x=x_evals))))\n",
    "A11_temp = np.abs(A11_pre/(np.sqrt(scipy.integrate.trapz(A11_pre**2,x=x_evals))))"
   ]
  },
  {
   "cell_type": "code",
   "execution_count": 31,
   "id": "76208b5f",
   "metadata": {},
   "outputs": [],
   "source": [
    "#np.shape(A7_temp)"
   ]
  },
  {
   "cell_type": "code",
   "execution_count": 32,
   "id": "5cf0aebe",
   "metadata": {},
   "outputs": [],
   "source": [
    "#reshaping\n",
    "A7 = copy.deepcopy(A7_temp.reshape(81,1))\n",
    "A8 = copy.deepcopy(A8_temp.reshape(81,1))\n",
    "A9 = copy.deepcopy(A9_temp.reshape(81,1))\n",
    "A10 = copy.deepcopy(A10_temp.reshape(81,1))\n",
    "A11 = copy.deepcopy(A11_temp.reshape(81,1))"
   ]
  },
  {
   "cell_type": "code",
   "execution_count": 33,
   "id": "a60bc776",
   "metadata": {},
   "outputs": [],
   "source": [
    "#np.shape(A7)"
   ]
  },
  {
   "cell_type": "code",
   "execution_count": 34,
   "id": "a37610e3",
   "metadata": {},
   "outputs": [],
   "source": [
    "tuple1 =(B[0], B[1], B[2], B[3], B[4])\n",
    "A12_temp = np.asarray(tuple1)\n",
    "#A12_temp"
   ]
  },
  {
   "cell_type": "code",
   "execution_count": 35,
   "id": "09abbbac",
   "metadata": {},
   "outputs": [],
   "source": [
    "#type(A12_temp)"
   ]
  },
  {
   "cell_type": "code",
   "execution_count": 36,
   "id": "2e079fea",
   "metadata": {},
   "outputs": [],
   "source": [
    "#np.shape(A12_temp)"
   ]
  },
  {
   "cell_type": "code",
   "execution_count": 37,
   "id": "2d29fc8d",
   "metadata": {},
   "outputs": [],
   "source": [
    "A12 = copy.deepcopy(A12_temp.reshape(5,1).T)\n",
    "#np.shape(A12)"
   ]
  },
  {
   "cell_type": "code",
   "execution_count": null,
   "id": "7b579194",
   "metadata": {},
   "outputs": [],
   "source": []
  },
  {
   "cell_type": "code",
   "execution_count": 38,
   "id": "99eeb814",
   "metadata": {},
   "outputs": [],
   "source": [
    "#Q3\n",
    "# Define ODE\n",
    "def rhsfunc1(t, y, beta,gamma):\n",
    "    f1 = y[1] #f1 = y1'= y2 = phi'\n",
    "    K = 1\n",
    "    n0 = K*t*t #n(x) = x*x (here t is the independent variable)\n",
    "    f2 = (gamma*y[0]*y[0]+n0 - epsilon)*y[0]#this changes #f2 = y2' = phi\"\n",
    "    return np.array([f1, f2])\n",
    "\n",
    "# Define some constants\n",
    "#n0 = 0 #defined inside the function\n",
    "# Define our initial conditions\n",
    "#A = 1 # This is the shooting-method parameter that we will change , y1_(-1) = A\n",
    "#y0 = np.array([A, 1]) # y1_(-1) = A, y2_(-1) = 1 #do I need to keep updating A? yes!\n",
    "L = 3 \n",
    "xp = [-L,L] # xspan\n",
    "tol = 1e-5 # We want to find beta such that |y(x=1)| < tol\n",
    "K = 1\n",
    "epsilon_start = 0 # This is our initial beta value, we will change it#recommended on piazza to start from epsilon = 0\n",
    "A_start = 0.001\n",
    "gamma = -0.05\n",
    "\n",
    "eigen_values_q3_A = []\n",
    "eigen_functions_q3_A = []\n",
    "\n",
    "# Make a loop over beta values to find more eigenvalue-eigenfunction pairs\n",
    "#modes is another way to say eigenfunction\n",
    "\n",
    "for modes in range(2): # Try to find 5 modes\n",
    "    epsilon = epsilon_start \n",
    "    depsilon = 0.01 # This is the amount we will decrease beta by each time we don't have an eigenvalue\n",
    "                 # until we get an eigenvalue\n",
    "    A =A_start\n",
    "     \n",
    "    for j in range(1000):\n",
    "        x_evals = np.linspace(-L, L, (20*L)+1) #20L + 1 linearly spaced points in between\n",
    "        \n",
    "        #update/define y0 again, initial conditions\n",
    "        y0 = np.array([A, A*np.sqrt(K*L*L-epsilon)])\n",
    "        \n",
    "        ##check\n",
    "        sol = scipy.integrate.solve_ivp(lambda x,y: rhsfunc1(x, y, epsilon,gamma), xp, y0, t_eval = x_evals)\n",
    "        y_sol = sol.y[0, :] #gives phi\n",
    "        y_sol_1 =sol.y[1,:] #gives phi'\n",
    "        \n",
    "        \n",
    "        #compute norm and boundary condition\n",
    "        norm = scipy.integrate.trapz(y_sol**2,x=x_evals)\n",
    "        BC = y_sol_1[-1]+(np.sqrt(K*L*L-epsilon)*y_sol[-1]) #don't multiply by A boundary condition\n",
    "\n",
    "            \n",
    "        #checking both conditions\n",
    "        if np.abs(BC) < tol and np.abs(norm - 1) < tol :\n",
    "            #the boundary condition at phi'(x=L) should be limited to be less than here\n",
    "            #phi'(L) = - sqrt(epsilon)*phi(L) -->given < tol\n",
    "            #print(r'We got the eigenvalue! $\\epsilon = $', epsilon)\n",
    "            eigen_values_q3_A.append(epsilon)\n",
    "            break\n",
    "        else:\n",
    "            #update initial condition with new A\n",
    "            A = A/np.sqrt(norm)\n",
    "        \n",
    "        #solving ode\n",
    "        sol = scipy.integrate.solve_ivp(lambda x,y: rhsfunc1(x, y, epsilon,gamma), xp, y0, t_eval = x_evals)\n",
    "        y_sol = sol.y[0, :] #gives phi\n",
    "        y_sol_1 =sol.y[1,:] #gives phi'\n",
    "        \n",
    "        #compute norm and boundary condition\n",
    "        norm = scipy.integrate.trapz(y_sol**2,x=x_evals)\n",
    "        BC = y_sol_1[-1]+(np.sqrt(K*L*L-epsilon)*y_sol[-1]) #don't multiply by A boundary condition\n",
    "      \n",
    "        #checking both conditions\n",
    "        if np.abs(BC) < tol and np.abs(norm - 1) < tol:\n",
    "            #the boundary condition at phi'(x=L) should be limited to be less than here\n",
    "            #phi'(L) = - sqrt(epsilon)*phi(L) -->given < tol\n",
    "            #print(r'We got the eigenvalue! $\\epsilon = $', epsilon)\n",
    "            eigen_values_q3_A.append(epsilon)\n",
    "            break\n",
    "       \n",
    "        #shooting for BC\n",
    "        if (-1)**(modes)*(BC) > 0:\n",
    "            \n",
    "            #phi'(L) = - sqrt(KL^2 - epsilon)*phi(L)\n",
    "            epsilon = epsilon + depsilon \n",
    "            # Decrease beta if y(1)>0, because we know that y(1)>0 for beta = beta_start\n",
    "            \n",
    "        else:\n",
    "            epsilon = epsilon - depsilon/2  # Increase beta by a smaller amount if y(1)<0\n",
    "            depsilon = depsilon/2 # Cut dbeta in half to make we converge\n",
    "\n",
    "\n",
    "            \n",
    "    epsilon_start = epsilon + 0.1 # increase beta once we have found one mode.\n",
    "\n",
    "    \n",
    "    eigen_functions_q3_A.append(y_sol)\n",
    "    \n",
    "    #plt.plot(sol.t, eigen_functions_q3_A, linewidth=2)\n",
    "    #plt.plot(sol.t, 0*sol.t, 'k')"
   ]
  },
  {
   "cell_type": "code",
   "execution_count": 39,
   "id": "7bbfb7ec",
   "metadata": {},
   "outputs": [],
   "source": [
    "#A13 = eigen_functions_q3_A[0]\n",
    "#A14 = eigen_functions_q3_A[1]\n",
    "#eigen_values_q3_A"
   ]
  },
  {
   "cell_type": "code",
   "execution_count": 40,
   "id": "cbc31b05",
   "metadata": {},
   "outputs": [],
   "source": [
    "#final answer\n",
    "A13 = copy.deepcopy((np.abs(eigen_functions_q3_A[0])).reshape(61,1))\n",
    "A14 = copy.deepcopy((np.abs(eigen_functions_q3_A[1])).reshape(61,1))\n",
    "A15 = eigen_values_q3_A"
   ]
  },
  {
   "cell_type": "code",
   "execution_count": 41,
   "id": "21f8b694",
   "metadata": {},
   "outputs": [],
   "source": [
    "#np.shape(A13)"
   ]
  },
  {
   "cell_type": "code",
   "execution_count": 42,
   "id": "59b732e1",
   "metadata": {},
   "outputs": [],
   "source": [
    "#type(A13)\n",
    "#A13"
   ]
  },
  {
   "cell_type": "code",
   "execution_count": 43,
   "id": "958e78f6",
   "metadata": {},
   "outputs": [],
   "source": [
    "# Define ODE\n",
    "#def rhsfunc1(t, y, beta,gamma):\n",
    "    #f1 = y[1] #f1 = y1'= y2 = phi'\n",
    "    #K = 1\n",
    "    #n0 = K*t*t #n(x) = x*x (here t is the independent variable)\n",
    "    #f2 = (gamma*y[0]*y[0]+n0 - epsilon)*y[0]#this changes #f2 = y2' = phi\"\n",
    "    #return np.array([f1, f2])\n",
    "\n",
    "# Define some constants\n",
    "#n0 = 0 #defined inside the function\n",
    "# Define our initial conditions\n",
    "#A = 1 # This is the shooting-method parameter that we will change , y1_(-1) = A\n",
    "#y0 = np.array([A, 1]) # y1_(-1) = A, y2_(-1) = 1 #do I need to keep updating A? yes!\n",
    "L = 3 \n",
    "xp = [-L,L] # xspan\n",
    "tol = 1e-5 # We want to find beta such that |y(x=1)| < tol\n",
    "K = 1\n",
    "epsilon_start = 0 # This is our initial beta value, we will change it#recommended on piazza to start from epsilon = 0\n",
    "A_start = 0.001\n",
    "gamma = -0.05\n",
    "\n",
    "eigen_values_q3_B = []\n",
    "eigen_functions_q3_B = []\n",
    "\n",
    "# Make a loop over beta values to find more eigenvalue-eigenfunction pairs\n",
    "#modes is another way to say eigenfunction\n",
    "\n",
    "for modes in range(2): # Try to find 5 modes\n",
    "    epsilon = epsilon_start \n",
    "    depsilon = 0.01 # This is the amount we will decrease beta by each time we don't have an eigenvalue\n",
    "                 # until we get an eigenvalue\n",
    "    A =A_start\n",
    "     \n",
    "    for j in range(1000):\n",
    "        x_evals = np.linspace(-L, L, (20*L)+1) #20L + 1 linearly spaced points in between\n",
    "        \n",
    "        #update/define y0 again, initial conditions\n",
    "        y0 = np.array([A, A*np.sqrt(K*L*L-epsilon)])\n",
    "        \n",
    "        ##check\n",
    "        sol = scipy.integrate.solve_ivp(lambda x,y: rhsfunc1(x, y, epsilon,gamma), xp, y0, t_eval = x_evals)\n",
    "        y_sol = sol.y[0, :] #gives phi\n",
    "        y_sol_1 =sol.y[1,:] #gives phi'\n",
    "        \n",
    "        \n",
    "        #compute norm and boundary condition\n",
    "        norm = scipy.integrate.trapz(y_sol**2,x=x_evals)\n",
    "        BC = y_sol_1[-1]+(np.sqrt(K*L*L-epsilon)*y_sol[-1]) #don't multiply by A boundary condition\n",
    "\n",
    "            \n",
    "        #checking both conditions\n",
    "        if np.abs(BC) < tol and np.abs(norm - 1) < tol :\n",
    "            #the boundary condition at phi'(x=L) should be limited to be less than here\n",
    "            #phi'(L) = - sqrt(epsilon)*phi(L) -->given < tol\n",
    "            #print(r'We got the eigenvalue! $\\epsilon = $', epsilon)\n",
    "            eigen_values_q3_B.append(epsilon)\n",
    "            break\n",
    "        else:\n",
    "            #update initial condition with new A\n",
    "            A = A/np.sqrt(norm)\n",
    "        \n",
    "        #solving ode\n",
    "        sol = scipy.integrate.solve_ivp(lambda x,y: rhsfunc1(x, y, epsilon,gamma), xp, y0, t_eval = x_evals)\n",
    "        y_sol = sol.y[0, :] #gives phi\n",
    "        y_sol_1 =sol.y[1,:] #gives phi'\n",
    "        \n",
    "        #compute norm and boundary condition\n",
    "        norm = scipy.integrate.trapz(y_sol**2,x=x_evals)\n",
    "        BC = y_sol_1[-1]+(np.sqrt(K*L*L-epsilon)*y_sol[-1]) #don't multiply by A boundary condition\n",
    "      \n",
    "        #checking both conditions\n",
    "        if np.abs(BC) < tol and np.abs(norm - 1) < tol:\n",
    "            #the boundary condition at phi'(x=L) should be limited to be less than here\n",
    "            #phi'(L) = - sqrt(epsilon)*phi(L) -->given < tol\n",
    "            #print(r'We got the eigenvalue! $\\epsilon = $', epsilon)\n",
    "            eigen_values_q3_B.append(epsilon)\n",
    "            break\n",
    "       \n",
    "        #shooting for BC\n",
    "        if (-1)**(modes)*(BC) > 0:\n",
    "            \n",
    "            #phi'(L) = - sqrt(KL^2 - epsilon)*phi(L)\n",
    "            epsilon = epsilon + depsilon \n",
    "            # Decrease beta if y(1)>0, because we know that y(1)>0 for beta = beta_start\n",
    "            \n",
    "        else:\n",
    "            epsilon = epsilon - depsilon/2  # Increase beta by a smaller amount if y(1)<0\n",
    "            depsilon = depsilon/2 # Cut dbeta in half to make we converge\n",
    "\n",
    "\n",
    "            \n",
    "    epsilon_start = epsilon + 0.1 # increase beta once we have found one mode.\n",
    "\n",
    "    \n",
    "    eigen_functions_q3_B.append(y_sol)\n",
    "    \n",
    "    #plt.plot(sol.t, eigen_functions_q3_A, linewidth=2)\n",
    "    #plt.plot(sol.t, 0*sol.t, 'k')"
   ]
  },
  {
   "cell_type": "code",
   "execution_count": 44,
   "id": "91f2063a",
   "metadata": {},
   "outputs": [],
   "source": [
    "#np.shape(eigen_functions_q3_B)"
   ]
  },
  {
   "cell_type": "code",
   "execution_count": 45,
   "id": "66f8a7df",
   "metadata": {},
   "outputs": [],
   "source": [
    "#A16 = eigen_functions_q3_B[0]\n",
    "#A17 = eigen_functions_q3_B[1]\n",
    "#A18 = eigen_values_q3_B"
   ]
  },
  {
   "cell_type": "code",
   "execution_count": 46,
   "id": "ef27b150",
   "metadata": {},
   "outputs": [],
   "source": [
    "#final answer\n",
    "A16 = copy.deepcopy((np.abs(eigen_functions_q3_B[0])).reshape(61,1))\n",
    "A17 = copy.deepcopy((np.abs(eigen_functions_q3_B[1])).reshape(61,1))\n",
    "A18 = eigen_values_q3_B"
   ]
  },
  {
   "cell_type": "code",
   "execution_count": 47,
   "id": "33a3e774",
   "metadata": {},
   "outputs": [],
   "source": [
    "#np.shape(A16)"
   ]
  },
  {
   "cell_type": "code",
   "execution_count": null,
   "id": "682ad0fc",
   "metadata": {},
   "outputs": [],
   "source": []
  }
 ],
 "metadata": {
  "kernelspec": {
   "display_name": "Python 3 (ipykernel)",
   "language": "python",
   "name": "python3"
  },
  "language_info": {
   "codemirror_mode": {
    "name": "ipython",
    "version": 3
   },
   "file_extension": ".py",
   "mimetype": "text/x-python",
   "name": "python",
   "nbconvert_exporter": "python",
   "pygments_lexer": "ipython3",
   "version": "3.9.7"
  }
 },
 "nbformat": 4,
 "nbformat_minor": 5
}
