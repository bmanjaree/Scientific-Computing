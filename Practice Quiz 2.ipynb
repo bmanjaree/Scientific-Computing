{
 "cells": [
  {
   "cell_type": "markdown",
   "id": "3f11e4c9",
   "metadata": {},
   "source": [
    "# AMATH 581\n",
    "## Practice Quiz 2\n",
    "Date: 10th October 2022"
   ]
  },
  {
   "cell_type": "markdown",
   "id": "eaa5ac78",
   "metadata": {},
   "source": [
    "### Attempt 1"
   ]
  },
  {
   "cell_type": "code",
   "execution_count": 3,
   "id": "2453c2ea",
   "metadata": {},
   "outputs": [],
   "source": [
    "import numpy\n",
    "import scipy.integrate"
   ]
  },
  {
   "cell_type": "markdown",
   "id": "2abbdb7d",
   "metadata": {},
   "source": [
    "Q1. Which of the following definitions of the derivative leads directly to the Forward Euler method?\n",
    "\n"
   ]
  },
  {
   "cell_type": "code",
   "execution_count": 4,
   "id": "b98a36a9",
   "metadata": {},
   "outputs": [
    {
     "ename": "SyntaxError",
     "evalue": "invalid syntax (136818405.py, line 1)",
     "output_type": "error",
     "traceback": [
      "\u001b[0;36m  File \u001b[0;32m\"/var/folders/53/h0tv1tdj205_xg1pvfhdgbj00000gn/T/ipykernel_8824/136818405.py\"\u001b[0;36m, line \u001b[0;32m1\u001b[0m\n\u001b[0;31m    ode23(@ rhs(x,y),10,yinit,options)\u001b[0m\n\u001b[0m          ^\u001b[0m\n\u001b[0;31mSyntaxError\u001b[0m\u001b[0;31m:\u001b[0m invalid syntax\n"
     ]
    }
   ],
   "source": [
    "ode23(@ rhs(x,y),10,yinit,options)"
   ]
  },
  {
   "cell_type": "code",
   "execution_count": null,
   "id": "70e5507a",
   "metadata": {},
   "outputs": [],
   "source": []
  }
 ],
 "metadata": {
  "kernelspec": {
   "display_name": "Python 3 (ipykernel)",
   "language": "python",
   "name": "python3"
  },
  "language_info": {
   "codemirror_mode": {
    "name": "ipython",
    "version": 3
   },
   "file_extension": ".py",
   "mimetype": "text/x-python",
   "name": "python",
   "nbconvert_exporter": "python",
   "pygments_lexer": "ipython3",
   "version": "3.9.7"
  }
 },
 "nbformat": 4,
 "nbformat_minor": 5
}
