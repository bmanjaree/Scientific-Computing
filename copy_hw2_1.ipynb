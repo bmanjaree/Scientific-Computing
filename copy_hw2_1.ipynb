{
 "cells": [
  {
   "cell_type": "markdown",
   "id": "02058c96-721f-49dd-a9c3-e30918e3d5b8",
   "metadata": {},
   "source": [
    "# AMATH Scientific Computing\n",
    "## Homework-2\n",
    "### Manjaree Binjolkar"
   ]
  },
  {
   "cell_type": "code",
   "execution_count": 59,
   "id": "3a9b7914-07f7-45ad-bd75-72d75cc5239a",
   "metadata": {},
   "outputs": [],
   "source": [
    "import numpy as np\n",
    "import matplotlib.pyplot as plt\n",
    "import scipy.integrate\n",
    "import copy\n",
    "#%matplotlib notebook"
   ]
  },
  {
   "cell_type": "code",
   "execution_count": 60,
   "id": "ae3bf26c-a41a-4f01-8008-2c435b8115eb",
   "metadata": {},
   "outputs": [],
   "source": [
    "#Q1 Define ODE\n",
    "def rhsfunc(t, y, beta):\n",
    "    f1 = y[1] #f1 = y1'= y2 = phi'\n",
    "    K = 1\n",
    "    n0 = K*t*t #n(x) = x*x (here t is the independent variable)\n",
    "    f2 = (n0 - epsilon)*y[0]#this changes #f2 = y2' = phi\"\n",
    "    return np.array([f1, f2])\n",
    "\n",
    "# Define some constants\n",
    "#n0 = 0 #defined inside the function\n",
    "L = 4 \n",
    "xp = [-L,L] # xspan\n",
    "tol = 1e-6 # We want to find beta such that |y(x=1)| < tol\n",
    "K = 1\n",
    "# Define our initial conditions\n",
    "A = 1 # This is the shooting-method parameter that we will change , y1_(-1) = A\n",
    "\n",
    "#y0 = np.array([A, 1]) # y1_(-1) = A, y2_(-1) = 1 #do I need to keep updating A?\n",
    "\n",
    "epsilon_start = 0 # This is our initial beta value, we will change it, \n",
    "#recommended on piazza to start from epsilon = 0\n",
    "eigen_values=[]\n",
    "eigen_functions=[]\n",
    "\n",
    "# Make a loop over beta values to find more eigenvalue-eigenfunction pairs\n",
    "#modes is another way to say eigenfunction\n",
    "for modes in range(5): # Try to find 5 modes\n",
    "    epsilon = epsilon_start \n",
    "    depsilon = 0.01 # This is the amount we will decrease beta by each time we don't have an eigenvalue\n",
    "                 # until we get an eigenvalue\n",
    "\n",
    "    \n",
    "    for j in range(1000):\n",
    "        x_evals = np.linspace(-L, L, (20*L)+1) #20L + 1 linearly spaced points in between\n",
    "        #update/define y0 again\n",
    "        y0 = np.array([A, A*np.sqrt(K*L*L-epsilon)])\n",
    "        \n",
    "        sol = scipy.integrate.solve_ivp(lambda x,y: rhsfunc(x, y, epsilon), xp, y0, t_eval = x_evals)\n",
    "        \n",
    "        y_sol = sol.y[0, :] #gives phi\n",
    "\n",
    "        y_sol_1 =sol.y[1,:] #gives phi'\n",
    "\n",
    "        if np.abs(y_sol_1[-1]+np.sqrt(K*L*L-epsilon)*y_sol[-1]) < tol:\n",
    "            #the boundary condition at phi'(x=L) should be limited to be less than here\n",
    "            #phi'(L) = - sqrt(epsilon)*phi(L) -->given < tol\n",
    "            #print(r'We got the eigenvalue! $\\epsilon = $', epsilon)\n",
    "            eigen_values.append(epsilon)\n",
    "            break\n",
    "\n",
    "        if (-1)**(modes)*(y_sol_1[-1]+np.sqrt(K*L*L-epsilon)*y_sol[-1]) > 0:\n",
    "            #phi'(L) = - sqrt(KL^2 - epsilon)*phi(L)\n",
    "            epsilon = epsilon + depsilon \n",
    "            # Decrease beta if y(1)>0, because we know that y(1)>0 for beta = beta_start\n",
    "        else:\n",
    "            epsilon = epsilon - depsilon/2  # Increase beta by a smaller amount if y(1)<0\n",
    "            depsilon = depsilon/2 # Cut dbeta in half to make we converge\n",
    "\n",
    "\n",
    "    epsilon_start = epsilon + 0.1 # increase beta once we have found one mode.\n",
    "\n",
    "    y_norm = scipy.integrate.trapz(y_sol**2,x=x_evals)\n",
    "    y_sol_final = y_sol/np.sqrt(y_norm)\n",
    "    eigen_functions.append(y_sol_final)\n",
    "    #plt.plot(sol.t, y_sol_final, linewidth=2)\n",
    "    #plt.plot(sol.t, 0*sol.t, 'k')"
   ]
  },
  {
   "cell_type": "code",
   "execution_count": 61,
   "id": "43513795",
   "metadata": {},
   "outputs": [],
   "source": [
    "#print(np.shape(eigen_functions))\n",
    "#print(eigen_functions)\n",
    "#eigen_functions[0].reshape(81,1).T\n",
    "#np.shape(eigen_functions[0].reshape(81,1).T)"
   ]
  },
  {
   "cell_type": "code",
   "execution_count": 63,
   "id": "aec2530e",
   "metadata": {},
   "outputs": [],
   "source": [
    "A1 = copy.deepcopy(np.abs(eigen_functions[0]).reshape(81,1))\n",
    "#print(A1)\n",
    "#print(np.shape(A1))"
   ]
  },
  {
   "cell_type": "code",
   "execution_count": 64,
   "id": "b55caa07",
   "metadata": {},
   "outputs": [],
   "source": [
    "A2 = copy.deepcopy(np.abs(eigen_functions[1]).reshape(81,1))\n",
    "#print(A2)\n",
    "#print(np.shape(A2))"
   ]
  },
  {
   "cell_type": "code",
   "execution_count": 65,
   "id": "538701ec",
   "metadata": {},
   "outputs": [],
   "source": [
    "A3 = copy.deepcopy(np.abs(eigen_functions[2]).reshape(81,1))\n",
    "#print(A3)\n",
    "#print(np.shape(A3))"
   ]
  },
  {
   "cell_type": "code",
   "execution_count": 66,
   "id": "d4acd3e2",
   "metadata": {},
   "outputs": [],
   "source": [
    "A4 = copy.deepcopy(np.abs(eigen_functions[3]).reshape(81,1))\n",
    "#print(A4)\n",
    "#print(np.shape(A4))"
   ]
  },
  {
   "cell_type": "code",
   "execution_count": 67,
   "id": "6651990a",
   "metadata": {},
   "outputs": [],
   "source": [
    "A5 = copy.deepcopy(np.abs(eigen_functions[4]).reshape(81,1))\n",
    "#print(A5)\n",
    "#print(np.shape(A5))"
   ]
  },
  {
   "cell_type": "code",
   "execution_count": 68,
   "id": "fbf65ce2",
   "metadata": {},
   "outputs": [],
   "source": [
    "A6_temp = np.asarray(eigen_values)\n",
    "#print(type(A6_temp))\n",
    "A6 = copy.deepcopy(A6_temp.reshape(5,1).T)\n",
    "#print(np.shape(A6))"
   ]
  },
  {
   "cell_type": "code",
   "execution_count": 69,
   "id": "022cbb04",
   "metadata": {},
   "outputs": [],
   "source": [
    "#np.shape(A6)"
   ]
  },
  {
   "cell_type": "code",
   "execution_count": 52,
   "id": "e8e63065",
   "metadata": {},
   "outputs": [],
   "source": [
    "#Q2\n",
    "\n",
    "K = 1\n",
    "L = 4\n",
    "xp = [-L, L]\n",
    "tol = 1e-6\n",
    "x = np.linspace(-L,L,20*L+1)\n",
    "dx = 0.1\n",
    "\n",
    "# setting up the matrix N\n",
    "Dn = 2*np.ones(20*L-1)\n",
    "Un = -1*np.ones(20*L-2)\n",
    "Ln = -1*np.ones(20*L-2)\n",
    "\n",
    "N = (1/dx**2) * np.diag(Dn) + (1/dx**2) * np.diag(Un, 1) + (1/dx**2) * np.diag(Ln, -1)\n",
    "\n",
    "#boundary conditions\n",
    "N[0,0:2] = [2/3/dx**2,-2/3/dx**2]\n",
    "N[78,77:79] = [-2/3/dx**2,2/3/dx**2]\n",
    "\n",
    "#filling in \n",
    "iters = 20*L-1\n",
    "for i in range(iters) : \n",
    "    N[i,i] = N[i,i] + K*(x[i+1])**2\n",
    "#print(N)\n",
    "\n",
    "# sort eigenvalues and eigenvectors \n",
    "D1, V1 = np.linalg.eig(N)\n",
    "index1 = D1.argsort()[::1]   \n",
    "D = D1[index1]\n",
    "#print(D)\n",
    "V = V1[:,index1]\n",
    "#print(w)\n",
    "\n",
    "V_0 = np.zeros(5)\n",
    "V_81 = np.zeros(5)\n",
    "V_norm = []\n",
    "\n",
    "for i in range(5):\n",
    "    V_0[i] = (4*V[0,i]-V[1,i])/(2*dx*np.sqrt(K*L**2-D[i])+3)\n",
    "    V_81[i] = (V[77,i]-4*V[78,i])/(-2*dx*np.sqrt(K*L**2-D[i])-3)\n",
    "    \n",
    "    V_temp = np.append(V[:,i], V_0[i])\n",
    "    V_final = np.append(V_temp, V_81[i])\n",
    "    \n",
    "    #norm = scipy.integrate.trapz(V_final*V_final,x)\n",
    "    V_norm_temp = V_final / np.sqrt(scipy.integrate.trapz(V_final**2,x))\n",
    "    V_norm.append(V_norm_temp.reshape(-1,1))"
   ]
  },
  {
   "cell_type": "code",
   "execution_count": 41,
   "id": "b5e8a219",
   "metadata": {},
   "outputs": [],
   "source": [
    "#V_norm[0]"
   ]
  },
  {
   "cell_type": "code",
   "execution_count": 53,
   "id": "a21a4e4e",
   "metadata": {},
   "outputs": [
    {
     "data": {
      "text/plain": [
       "(81, 1)"
      ]
     },
     "execution_count": 53,
     "metadata": {},
     "output_type": "execute_result"
    }
   ],
   "source": [
    "V_norm_0 = np.abs(V_norm[0])\n",
    "np.shape(V_norm_0)"
   ]
  },
  {
   "cell_type": "code",
   "execution_count": 28,
   "id": "33d35530",
   "metadata": {},
   "outputs": [],
   "source": [
    "#x = np.linspace(-4, 4, 20*4+1)\n",
    "#fig, ax = plt.subplots()\n",
    "#ax.plot(x, V_norm[0], linewidth=3)\n",
    "#ax.plot(x, V_norm[1], linewidth=3)\n",
    "#ax.plot(x, V_norm[2], linewidth=3)\n",
    "#ax.plot(x, V_norm[3], linewidth=3)\n",
    "#ax.plot(x, V_norm[4], linewidth=3)\n",
    "#ax.legend([r\"$\\phi_1$\", r\"$\\phi_2$\",  r\"$\\phi_3$\",  r\"$\\phi_4$\", r\"$\\phi_5$\"])"
   ]
  },
  {
   "cell_type": "code",
   "execution_count": 48,
   "id": "5cf0aebe",
   "metadata": {},
   "outputs": [],
   "source": [
    "#reshaping\n",
    "A7 = copy.deepcopy(np.abs(V_norm[0]))\n",
    "A8 = copy.deepcopy(np.abs(V_norm[1]))\n",
    "A9 = copy.deepcopy(np.abs(V_norm[2]))\n",
    "A10 = copy.deepcopy(np.abs(V_norm[3]))\n",
    "A11 = copy.deepcopy(np.abs(V_norm[4]))"
   ]
  },
  {
   "cell_type": "code",
   "execution_count": 57,
   "id": "e27ce2a7",
   "metadata": {},
   "outputs": [
    {
     "data": {
      "text/plain": [
       "(79,)"
      ]
     },
     "execution_count": 57,
     "metadata": {},
     "output_type": "execute_result"
    }
   ],
   "source": [
    "#np.shape(D)"
   ]
  },
  {
   "cell_type": "code",
   "execution_count": 76,
   "id": "29de57c7",
   "metadata": {},
   "outputs": [],
   "source": [
    "A12_temp = np.asarray(D[0:5])\n",
    "#print(type(A6_temp))\n",
    "A12 = copy.deepcopy(A12_temp.reshape(5,1).T)\n",
    "#print(np.shape(A6))\n",
    "#A12"
   ]
  },
  {
   "cell_type": "code",
   "execution_count": 75,
   "id": "3f3c4a48",
   "metadata": {},
   "outputs": [],
   "source": [
    "#A12 = D[0:5]\n",
    "#np.shape(A12)"
   ]
  },
  {
   "cell_type": "code",
   "execution_count": 50,
   "id": "a60bc776",
   "metadata": {},
   "outputs": [],
   "source": [
    "#checks from gradescope\n",
    "#print(np.mean(A7-A1))\n",
    "#print(np.mean(A8-A2))\n",
    "#print(np.mean(A9-A3))\n",
    "#print(np.mean(A10-A4))\n",
    "#print(np.mean(A11-A5))"
   ]
  },
  {
   "cell_type": "code",
   "execution_count": 77,
   "id": "99eeb814",
   "metadata": {},
   "outputs": [],
   "source": [
    "#Q3\n",
    "# Define ODE\n",
    "def rhsfunc1(t, y, beta,gamma):\n",
    "    f1 = y[1] #f1 = y1'= y2 = phi'\n",
    "    K = 1\n",
    "    n0 = K*t*t #n(x) = x*x (here t is the independent variable)\n",
    "    f2 = (gamma*y[0]*y[0]+n0 - epsilon)*y[0]#this changes #f2 = y2' = phi\"\n",
    "    return np.array([f1, f2])\n",
    "\n",
    "# Define some constants\n",
    "#n0 = 0 #defined inside the function\n",
    "# Define our initial conditions\n",
    "#A = 1 # This is the shooting-method parameter that we will change , y1_(-1) = A\n",
    "#y0 = np.array([A, 1]) # y1_(-1) = A, y2_(-1) = 1 #do I need to keep updating A? yes!\n",
    "L = 3 \n",
    "xp = [-L,L] # xspan\n",
    "tol = 1e-5 # We want to find beta such that |y(x=1)| < tol\n",
    "K = 1\n",
    "epsilon_start = 0 # This is our initial beta value, we will change it#recommended on piazza to start from epsilon = 0\n",
    "A_start = 0.001\n",
    "gamma = 0.05\n",
    "\n",
    "eigen_values_q3_A = []\n",
    "eigen_functions_q3_A = []\n",
    "\n",
    "# Make a loop over beta values to find more eigenvalue-eigenfunction pairs\n",
    "#modes is another way to say eigenfunction\n",
    "\n",
    "for modes in range(2): # Try to find 5 modes\n",
    "    epsilon = epsilon_start \n",
    "    depsilon = 0.01 # This is the amount we will decrease beta by each time we don't have an eigenvalue\n",
    "                 # until we get an eigenvalue\n",
    "    A =A_start\n",
    "     \n",
    "    for j in range(1000):\n",
    "        x_evals = np.linspace(-L, L, (20*L)+1) #20L + 1 linearly spaced points in between\n",
    "        \n",
    "        #update/define y0 again, initial conditions\n",
    "        y0 = np.array([A, A*np.sqrt(K*L*L-epsilon)])\n",
    "        \n",
    "        ##check\n",
    "        sol = scipy.integrate.solve_ivp(lambda x,y: rhsfunc1(x, y, epsilon,gamma), xp, y0, t_eval = x_evals)\n",
    "        y_sol = sol.y[0, :] #gives phi\n",
    "        y_sol_1 =sol.y[1,:] #gives phi'\n",
    "        \n",
    "        \n",
    "        #compute norm and boundary condition\n",
    "        norm = scipy.integrate.trapz(y_sol**2,x=x_evals)\n",
    "        BC = y_sol_1[-1]+(np.sqrt(K*L*L-epsilon)*y_sol[-1]) #don't multiply by A boundary condition\n",
    "\n",
    "            \n",
    "        #checking both conditions\n",
    "        if np.abs(BC) < tol and np.abs(norm - 1) < tol :\n",
    "            #the boundary condition at phi'(x=L) should be limited to be less than here\n",
    "            #phi'(L) = - sqrt(epsilon)*phi(L) -->given < tol\n",
    "            #print(r'We got the eigenvalue! $\\epsilon = $', epsilon)\n",
    "            eigen_values_q3_A.append(epsilon)\n",
    "            break\n",
    "        else:\n",
    "            #update initial condition with new A\n",
    "            A = A/np.sqrt(norm)\n",
    "        \n",
    "        #update/define y0 again, initial conditions\n",
    "        y0 = np.array([A, A*np.sqrt(K*L*L-epsilon)])\n",
    "        \n",
    "        #solving ode\n",
    "        sol = scipy.integrate.solve_ivp(lambda x,y: rhsfunc1(x, y, epsilon,gamma), xp, y0, t_eval = x_evals)\n",
    "        y_sol = sol.y[0, :] #gives phi\n",
    "        y_sol_1 =sol.y[1,:] #gives phi'\n",
    "        \n",
    "        #compute norm and boundary condition\n",
    "        norm = scipy.integrate.trapz(y_sol**2,x=x_evals)\n",
    "        BC = y_sol_1[-1]+(np.sqrt(K*L*L-epsilon)*y_sol[-1]) #don't multiply by A boundary condition\n",
    "      \n",
    "        #checking both conditions\n",
    "        if np.abs(BC) < tol and np.abs(norm - 1) < tol:\n",
    "            #the boundary condition at phi'(x=L) should be limited to be less than here\n",
    "            #phi'(L) = - sqrt(epsilon)*phi(L) -->given < tol\n",
    "            #print(r'We got the eigenvalue! $\\epsilon = $', epsilon)\n",
    "            eigen_values_q3_A.append(epsilon)\n",
    "            break\n",
    "       \n",
    "        #shooting for BC\n",
    "        if (-1)**(modes)*(BC) > 0:\n",
    "            \n",
    "            #phi'(L) = - sqrt(KL^2 - epsilon)*phi(L)\n",
    "            epsilon = epsilon + depsilon \n",
    "            # Decrease beta if y(1)>0, because we know that y(1)>0 for beta = beta_start\n",
    "            \n",
    "        else:\n",
    "            epsilon = epsilon - depsilon/2  # Increase beta by a smaller amount if y(1)<0\n",
    "            depsilon = depsilon/2 # Cut dbeta in half to make we converge\n",
    "\n",
    "\n",
    "            \n",
    "    epsilon_start = epsilon + 0.1 # increase beta once we have found one mode.\n",
    "\n",
    "    \n",
    "    eigen_functions_q3_A.append(y_sol)\n",
    "    \n",
    "    #plt.plot(sol.t, eigen_functions_q3_A, linewidth=2)\n",
    "    #plt.plot(sol.t, 0*sol.t, 'k')"
   ]
  },
  {
   "cell_type": "code",
   "execution_count": 79,
   "id": "7bbfb7ec",
   "metadata": {},
   "outputs": [],
   "source": [
    "#A13 = eigen_functions_q3_A[0]\n",
    "#A14 = eigen_functions_q3_A[1]\n",
    "#eigen_values_q3_A"
   ]
  },
  {
   "cell_type": "code",
   "execution_count": 83,
   "id": "cbc31b05",
   "metadata": {},
   "outputs": [],
   "source": [
    "#final answer\n",
    "A13 = copy.deepcopy((np.abs(eigen_functions_q3_A[0])).reshape(61,1))\n",
    "A14 = copy.deepcopy((np.abs(eigen_functions_q3_A[1])).reshape(61,1))\n",
    "#A15 = eigen_values_q3_A\n",
    "#np.shape(A13)"
   ]
  },
  {
   "cell_type": "code",
   "execution_count": 84,
   "id": "54225258",
   "metadata": {},
   "outputs": [],
   "source": [
    "A15_temp = np.asarray(eigen_values_q3_A)\n",
    "#print(np.shape(A18_temp))\n",
    "A15 = copy.deepcopy(A15_temp.reshape(2,1).T)\n",
    "#print(np.shape(A15))"
   ]
  },
  {
   "cell_type": "code",
   "execution_count": 85,
   "id": "b3bbf271",
   "metadata": {},
   "outputs": [],
   "source": [
    "#np.shape(A13)"
   ]
  },
  {
   "cell_type": "code",
   "execution_count": 86,
   "id": "59b732e1",
   "metadata": {},
   "outputs": [],
   "source": [
    "#type(A13)\n",
    "#A13"
   ]
  },
  {
   "cell_type": "code",
   "execution_count": 87,
   "id": "958e78f6",
   "metadata": {},
   "outputs": [],
   "source": [
    "# Define ODE\n",
    "#def rhsfunc1(t, y, beta,gamma):\n",
    "    #f1 = y[1] #f1 = y1'= y2 = phi'\n",
    "    #K = 1\n",
    "    #n0 = K*t*t #n(x) = x*x (here t is the independent variable)\n",
    "    #f2 = (gamma*y[0]*y[0]+n0 - epsilon)*y[0]#this changes #f2 = y2' = phi\"\n",
    "    #return np.array([f1, f2])\n",
    "\n",
    "# Define some constants\n",
    "#n0 = 0 #defined inside the function\n",
    "# Define our initial conditions\n",
    "#A = 1 # This is the shooting-method parameter that we will change , y1_(-1) = A\n",
    "#y0 = np.array([A, 1]) # y1_(-1) = A, y2_(-1) = 1 #do I need to keep updating A? yes!\n",
    "L = 3 \n",
    "xp = [-L,L] # xspan\n",
    "tol = 1e-5 # We want to find beta such that |y(x=1)| < tol\n",
    "K = 1\n",
    "epsilon_start = 0 # This is our initial beta value, we will change it#recommended on piazza to start from epsilon = 0\n",
    "A_start = 0.001\n",
    "gamma = -0.05\n",
    "\n",
    "eigen_values_q3_B = []\n",
    "eigen_functions_q3_B = []\n",
    "\n",
    "# Make a loop over beta values to find more eigenvalue-eigenfunction pairs\n",
    "#modes is another way to say eigenfunction\n",
    "\n",
    "for modes in range(2): # Try to find 5 modes\n",
    "    epsilon = epsilon_start \n",
    "    depsilon = 0.01 # This is the amount we will decrease beta by each time we don't have an eigenvalue\n",
    "                 # until we get an eigenvalue\n",
    "    A =A_start\n",
    "     \n",
    "    for j in range(1000):\n",
    "        x_evals = np.linspace(-L, L, (20*L)+1) #20L + 1 linearly spaced points in between\n",
    "        \n",
    "        #update/define y0 again, initial conditions\n",
    "        y0 = np.array([A, A*np.sqrt(K*L*L-epsilon)])\n",
    "        \n",
    "        ##check\n",
    "        sol = scipy.integrate.solve_ivp(lambda x,y: rhsfunc1(x, y, epsilon,gamma), xp, y0, t_eval = x_evals)\n",
    "        y_sol = sol.y[0, :] #gives phi\n",
    "        y_sol_1 =sol.y[1,:] #gives phi'\n",
    "        \n",
    "        \n",
    "        #compute norm and boundary condition\n",
    "        norm = scipy.integrate.trapz(y_sol**2,x=x_evals)\n",
    "        BC = y_sol_1[-1]+(np.sqrt(K*L*L-epsilon)*y_sol[-1]) #don't multiply by A boundary condition\n",
    "\n",
    "            \n",
    "        #checking both conditions\n",
    "        if np.abs(BC) < tol and np.abs(norm - 1) < tol :\n",
    "            #the boundary condition at phi'(x=L) should be limited to be less than here\n",
    "            #phi'(L) = - sqrt(epsilon)*phi(L) -->given < tol\n",
    "            #print(r'We got the eigenvalue! $\\epsilon = $', epsilon)\n",
    "            eigen_values_q3_B.append(epsilon)\n",
    "            break\n",
    "        else:\n",
    "            #update initial condition with new A\n",
    "            A = A/np.sqrt(norm)\n",
    "        \n",
    "        #update/define y0 again, initial conditions\n",
    "        y0 = np.array([A, A*np.sqrt(K*L*L-epsilon)])\n",
    "        \n",
    "        #solving ode\n",
    "        sol = scipy.integrate.solve_ivp(lambda x,y: rhsfunc1(x, y, epsilon,gamma), xp, y0, t_eval = x_evals)\n",
    "        y_sol = sol.y[0, :] #gives phi\n",
    "        y_sol_1 =sol.y[1,:] #gives phi'\n",
    "        \n",
    "        #compute norm and boundary condition\n",
    "        norm = scipy.integrate.trapz(y_sol**2,x=x_evals)\n",
    "        BC = y_sol_1[-1]+(np.sqrt(K*L*L-epsilon)*y_sol[-1]) #don't multiply by A boundary condition\n",
    "      \n",
    "        #checking both conditions\n",
    "        if np.abs(BC) < tol and np.abs(norm - 1) < tol:\n",
    "            #the boundary condition at phi'(x=L) should be limited to be less than here\n",
    "            #phi'(L) = - sqrt(epsilon)*phi(L) -->given < tol\n",
    "            #print(r'We got the eigenvalue! $\\epsilon = $', epsilon)\n",
    "            eigen_values_q3_B.append(epsilon)\n",
    "            break\n",
    "       \n",
    "        #shooting for BC\n",
    "        if (-1)**(modes)*(BC) > 0:\n",
    "            \n",
    "            #phi'(L) = - sqrt(KL^2 - epsilon)*phi(L)\n",
    "            epsilon = epsilon + depsilon \n",
    "            # Decrease beta if y(1)>0, because we know that y(1)>0 for beta = beta_start\n",
    "            \n",
    "        else:\n",
    "            epsilon = epsilon - depsilon/2  # Increase beta by a smaller amount if y(1)<0\n",
    "            depsilon = depsilon/2 # Cut dbeta in half to make we converge\n",
    "\n",
    "\n",
    "            \n",
    "    epsilon_start = epsilon + 0.1 # increase beta once we have found one mode.\n",
    "\n",
    "    \n",
    "    eigen_functions_q3_B.append(y_sol)\n",
    "    \n",
    "    #plt.plot(sol.t, eigen_functions_q3_A, linewidth=2)\n",
    "    #plt.plot(sol.t, 0*sol.t, 'k')"
   ]
  },
  {
   "cell_type": "code",
   "execution_count": null,
   "id": "91f2063a",
   "metadata": {},
   "outputs": [],
   "source": [
    "#np.shape(eigen_functions_q3_B)"
   ]
  },
  {
   "cell_type": "code",
   "execution_count": null,
   "id": "66f8a7df",
   "metadata": {},
   "outputs": [],
   "source": [
    "#A16 = eigen_functions_q3_B[0]\n",
    "#A17 = eigen_functions_q3_B[1]\n",
    "#np.shape(eigen_values_q3_B)"
   ]
  },
  {
   "cell_type": "code",
   "execution_count": 89,
   "id": "ef27b150",
   "metadata": {},
   "outputs": [],
   "source": [
    "#final answer\n",
    "A16 = copy.deepcopy((np.abs(eigen_functions_q3_B[0])).reshape(61,1))\n",
    "A17 = copy.deepcopy((np.abs(eigen_functions_q3_B[1])).reshape(61,1))\n",
    "#np.shape(A16)"
   ]
  },
  {
   "cell_type": "code",
   "execution_count": 91,
   "id": "341b36e5",
   "metadata": {},
   "outputs": [],
   "source": [
    "A18_temp = np.asarray(eigen_values_q3_B)\n",
    "#print(np.shape(A18_temp))\n",
    "A18 = copy.deepcopy(A18_temp.reshape(2,1).T)\n",
    "#print(np.shape(A18))"
   ]
  },
  {
   "cell_type": "code",
   "execution_count": null,
   "id": "d420a5ec",
   "metadata": {},
   "outputs": [],
   "source": []
  }
 ],
 "metadata": {
  "kernelspec": {
   "display_name": "Python 3 (ipykernel)",
   "language": "python",
   "name": "python3"
  },
  "language_info": {
   "codemirror_mode": {
    "name": "ipython",
    "version": 3
   },
   "file_extension": ".py",
   "mimetype": "text/x-python",
   "name": "python",
   "nbconvert_exporter": "python",
   "pygments_lexer": "ipython3",
   "version": "3.9.7"
  }
 },
 "nbformat": 4,
 "nbformat_minor": 5
}
