{
 "cells": [
  {
   "cell_type": "markdown",
   "id": "63a88281",
   "metadata": {},
   "source": [
    "## AMATH Scientific Computing\n",
    "### Homework-3\n",
    "#### Manjaree Binjolkar"
   ]
  },
  {
   "cell_type": "code",
   "execution_count": 1,
   "id": "64369ede",
   "metadata": {},
   "outputs": [],
   "source": [
    "import numpy as np\n",
    "import scipy.sparse \n",
    "import matplotlib.pyplot as plt\n",
    "import pdb\n",
    "import numpy.matlib\n",
    "import time\n",
    "import copy\n",
    "\n",
    "from matplotlib import animation, rc\n",
    "from scipy.sparse.linalg import spsolve\n",
    "from scipy.integrate import solve_ivp\n",
    "from scipy.sparse.linalg import splu\n",
    "from scipy.sparse import csr_matrix, triu, spdiags"
   ]
  },
  {
   "cell_type": "code",
   "execution_count": 2,
   "id": "501a6138",
   "metadata": {},
   "outputs": [],
   "source": [
    "#conda install -c conda-forge ffmpeg"
   ]
  },
  {
   "cell_type": "markdown",
   "id": "6a484a7e",
   "metadata": {},
   "source": [
    "### Q1"
   ]
  },
  {
   "cell_type": "markdown",
   "id": "dfe9b8d6",
   "metadata": {},
   "source": [
    "(a) Setup the matrix $A ≈ ∂x$ using second-order central differences and sparse\n",
    "storage.\n",
    "\n",
    "(b) Solve the advection equation with $c(x,t) = −0.5$, this corresponds to a constant velocity field. In other words, solve $ut= 0.5Au $."
   ]
  },
  {
   "cell_type": "code",
   "execution_count": 3,
   "id": "f6f7b9dc",
   "metadata": {},
   "outputs": [],
   "source": [
    "#define our initial condition\n",
    "f = lambda x: np.exp(-(x-5)**2) #gaussian initial condition\n",
    "L = 10\n",
    "dx = 0.1\n",
    "x = np.arange(-L,L,0.1)\n",
    "#print(x)\n",
    "N = len(x)\n",
    "dt = 0.5 #step size\n",
    "times = np.arange(0,10+dt, dt)\n",
    "#print(times)\n",
    "#np.shape(times)\n",
    "#type(times)\n",
    "#times\n",
    "c = -0.5\n",
    "#function for adevction equation\n",
    "def advecPDE(t, x, A, c):\n",
    "    u_t = -c*A*x #time derivative\n",
    "    return u_t\n",
    "\n",
    "#creating sparse matrix A\n",
    "e = np.ones((N))\n",
    "Bin = np.array([5*e, -5*e, -0*e, 5*e, -5*e])\n",
    "d = np.array([-N+1, -1, 0, 1, N-1])\n",
    "A = spdiags(Bin, d, N, N)\n",
    "#print(A.toarray()[0:4,0:4])\n",
    "#print(A.toarray())\n",
    "\n",
    "A1 = copy.deepcopy(A.todense())\n",
    "\n",
    "\n",
    "\n",
    "\n",
    "#print(A1)\n",
    "#A = A/(dx*2) #from piazza discussion\n",
    "#print(A.toarray())\n",
    "#plt.spy(A)\n",
    "y0 = f(x)\n",
    "\n",
    "tic =time.time()\n",
    "sol =solve_ivp(lambda t,x: advecPDE(t,x,A,c), [0,10], y0, t_eval = times)\n",
    "toc = time.time()\n",
    "#print(toc-tic)\n",
    "\n",
    "#print('x = ',np.shape(x))\n",
    "#print('y = ',np.shape(sol.y))\n",
    "#print('t = ',np.shape(sol.t))\n",
    "\n",
    "A2 = copy.deepcopy(sol.y)\n",
    "\n",
    "\n",
    "#X, T = np.meshgrid(x,sol.t)\n",
    "#fig, ax = plt.subplots(subplot_kw = {\"projection\":\"3d\"}, figsize =(25,10))\n",
    "#surf = ax.plot_surface(X,T,sol.y.T, cmap='magma')\n",
    "#ax.plot3D(x,0*x,f(x),'-r',linewidth=5)\n",
    "#plt.xlabel('x')\n",
    "#plt.ylabel('time')\n",
    "#plt.show()"
   ]
  },
  {
   "cell_type": "code",
   "execution_count": 4,
   "id": "1acaa549",
   "metadata": {},
   "outputs": [],
   "source": [
    "#Check\n",
    "#np.shape(A1)\n",
    "#np.shape(A2)"
   ]
  },
  {
   "cell_type": "markdown",
   "id": "a8c87c73",
   "metadata": {},
   "source": [
    "c) Solve the advection equation with\n",
    "$c(x,t) = −(1 + 2 sin(5t) −H(x −4))$ ,\n",
    "where\n",
    "$H(z) =\n",
    "1, z > 0\n",
    "; \n",
    "0, z ≤0$"
   ]
  },
  {
   "cell_type": "code",
   "execution_count": 5,
   "id": "5ec847c3",
   "metadata": {},
   "outputs": [],
   "source": [
    "#A.toarray()\n",
    "#print(x)\n",
    "#print(times)"
   ]
  },
  {
   "cell_type": "code",
   "execution_count": 6,
   "id": "b8f65c9d",
   "metadata": {
    "scrolled": true
   },
   "outputs": [],
   "source": [
    "#define new function for c\n",
    "def c_func(t,x):\n",
    "    c = 1+2*np.sin(5*t)-(np.heaviside((x-4), 0))\n",
    "    return c\n",
    "\n",
    "def advecPDE_c(t, u, A, x):\n",
    "    u_t = np.multiply(c_func(t,x),A@u) #time derivative\n",
    "    return u_t\n",
    "\n",
    "#print(y0)\n",
    "tic = time.time()\n",
    "sol = solve_ivp(lambda t,u : advecPDE_c(t, u, A, x), [0,10], y0, t_eval = times)\n",
    "toc = time.time()\n",
    "#print(toc-tic)\n",
    "\n",
    "A3 = copy.deepcopy(sol.y)\n",
    "\n",
    "\n",
    "#X, T = np.meshgrid(x,sol.t)\n",
    "#fig, ax = plt.subplots(subplot_kw = {\"projection\":\"3d\"}, figsize =(25,10))\n",
    "#surf = ax.plot_surface(X,T,sol.y.T, cmap='magma')\n",
    "#ax.plot3D(x,0*x,f(x),'-r',linewidth=5)\n",
    "#plt.xlabel('x')\n",
    "#plt.ylabel('time')\n",
    "#plt.show()"
   ]
  },
  {
   "cell_type": "code",
   "execution_count": 7,
   "id": "e963e7b6",
   "metadata": {},
   "outputs": [],
   "source": [
    "#Check\n",
    "#np.shape(A3)"
   ]
  },
  {
   "cell_type": "markdown",
   "id": "2992cf2c",
   "metadata": {},
   "source": [
    "### Q2"
   ]
  },
  {
   "cell_type": "markdown",
   "id": "0e9a0d52",
   "metadata": {},
   "source": [
    "(a) Use sparse-matrix storage (spdiags) to generate the three matrices $ A = r2 =\n",
    "@2\n",
    "x + @2\n",
    "y , B = @x, and  C = @y$ which take derivative in two dimensions. Use\n",
    "the discretization of the domain and its transformation to a vector as in class.\n",
    "Use the second-order central di erence formula for each matrix. To make sure\n",
    "that A is nonsingular, set the  rst element of A ( rst row,  rst column) equal\n",
    "to 2 instead of the usual -4"
   ]
  },
  {
   "cell_type": "code",
   "execution_count": 8,
   "id": "620c86b2",
   "metadata": {},
   "outputs": [],
   "source": [
    "#setting up \n",
    "m = 64\n",
    "n = m*m\n",
    "x = np.linspace(-L, L, m, endpoint = False)\n",
    "#x = x[0:-1]\n",
    "y = np.linspace(-L, L, m, endpoint = False)\n",
    "#y =y[0:-1]\n",
    "dx = x[1] - x[0]\n",
    "e1 =np.ones((n))\n",
    "l1 =np.concatenate((np.ones(m-1), np.array([0])))\n",
    "Low1 = np.matlib.repmat(l1,1,m).reshape(n)\n",
    "l2 =np.concatenate((np.array([1]), np.zeros(m-1)))\n",
    "Low2 = np.matlib.repmat(l2,1,m).reshape(n)\n",
    "Up1 = np.roll(Low1,1)\n",
    "Up2 = np.roll(Low2, m-1)"
   ]
  },
  {
   "cell_type": "code",
   "execution_count": 9,
   "id": "a512ebe3",
   "metadata": {},
   "outputs": [],
   "source": [
    "#Constructing A\n",
    "Bin_A = np.array((e1, e1, Low2, Low1, -4*e1, Up1, Up2, e1, e1))\n",
    "d_A = np.array([-(n-m), -m, -m+1, -1, 0, 1, m-1, m , (n-m)])\n",
    "\n",
    "A = spdiags(Bin_A, d_A, n, n, format ='csc')\n",
    "A[0,0] = 2\n",
    "A = A/(dx**2)\n",
    "#plt.spy(A)\n",
    "#print(A.toarray())\n",
    "\n",
    "A4 = copy.deepcopy(A.todense())"
   ]
  },
  {
   "cell_type": "code",
   "execution_count": 10,
   "id": "b022b6f2",
   "metadata": {},
   "outputs": [],
   "source": [
    "#Constructing B\n",
    "Bin_B = np.array((e1, -e1, e1, -e1))\n",
    "d_B = np.array([-(m**2-m), -m, m, (m**2-m)])\n",
    "\n",
    "B = spdiags(Bin_B, d_B, n, n, format ='csc')\n",
    "B = B/(2*dx)\n",
    "#print(np.shape(B))\n",
    "#print(B.toarray()[4:16,4:16])\n",
    "#plt.spy(B)\n",
    "#print(B.toarray())\n",
    "\n",
    "A5 = copy.deepcopy(B.todense())"
   ]
  },
  {
   "cell_type": "code",
   "execution_count": 11,
   "id": "c10e3d71",
   "metadata": {},
   "outputs": [],
   "source": [
    "#Constructing C\n",
    "Bin_C = np.array((Low2, -Low1, Up1, -Up2))\n",
    "#d = np.array([ -(m-1), -1, 1, (m-1) ]) \n",
    "#d_C = np.array([ -3, -1, 1, 3 ]) \n",
    "d_C = np.array([ -(m-1), -1, 1, (m-1) ])\n",
    "\n",
    "C = spdiags(Bin_C, d_C, n, n, format ='csc')\n",
    "C = C/(dx*2)\n",
    "#plt.spy(C)\n",
    "#print(np.shape(C))\n",
    "#print(C.toarray()[0:4,0:4])\n",
    "#plt.spy(C)\n",
    "#print(C.toarray())\n",
    "\n",
    "A6 = copy.deepcopy(C.todense())"
   ]
  },
  {
   "cell_type": "code",
   "execution_count": 12,
   "id": "47517f6d",
   "metadata": {},
   "outputs": [],
   "source": [
    "#Check \n",
    "#print(np.shape(A4))\n",
    "#print(np.shape(A5))\n",
    "#print(np.shape(A6))"
   ]
  },
  {
   "cell_type": "markdown",
   "id": "185a7e82",
   "metadata": {},
   "source": [
    "(b) Now we want to integrate the equations numerically in time. Start by dis-\n",
    "cretizing (2), using the matrices above, so that it is a linear problem.\n",
    "Then discretize (1) using the matrices created above and use the built-in RK45\n",
    "algorithm to step forward in time (your time step will include both solving\n",
    "and the ODE (1)). In each step you will need to solve the linear\n",
    "system $A~x =~b$. Do this in two separate ways:\n",
    "\n",
    "i. using Gaussian Elimination (A\\b in Matlab or\n",
    "scipy.sparse.linalg.spsolve in python)\n",
    "\n",
    "ii. using LU decomposition. When using LU decomposition, make sure to\n",
    "create the matrices L; U; and P outside of the function and pass the decomposition into the function for a fast solve. If using python, use\n",
    "scipy.sparse.linalg.splu."
   ]
  },
  {
   "cell_type": "code",
   "execution_count": 13,
   "id": "bdc24858",
   "metadata": {},
   "outputs": [],
   "source": [
    "#defining the initial values\n",
    "nu = 0.001\n",
    "L = 10\n",
    "x = np.linspace(-L, L, 64, endpoint = False)\n",
    "#x = x[0:-1]\n",
    "y = np.linspace(-L, L, 64, endpoint = False)\n",
    "#y = y[0:-1]\n",
    "\n",
    "#making the meshgrid\n",
    "yv, xv = np.meshgrid(x, y)\n",
    "\n",
    "#setting up t\n",
    "dt = 0.5\n",
    "t = np.arange(0,4.5,dt)\n",
    "#print(len(t))\n",
    "\n",
    "#defining inital condition for omega\n",
    "omega_0 = lambda x,y: np.exp(-2*(x**2)-(y**2)/20)\n",
    "omega_0_val = np.concatenate(omega_0(xv,yv))\n",
    "\n",
    "def rhs_ode_GE(t, omega, A, B, C):\n",
    "        \n",
    "        #solving for A.psi = w using GE\n",
    "        #psi0 = spsolve(A,omega_0)\n",
    "        psi = spsolve(A,omega)\n",
    "        psi_x = B@psi\n",
    "        psi_y = C@psi\n",
    "        omega_x = B@omega\n",
    "        omega_y = C@omega\n",
    "        omega = nu*(A)@omega - np.multiply(psi_x,omega_y) + np.multiply(psi_y,omega_x)\n",
    "         \n",
    "        \n",
    "        return omega\n",
    "\n",
    "def rhs_ode_LU(t, omega, A, B, C):\n",
    "        \n",
    "        #solving for A.psi = w using GE\n",
    "        #psi0 = spsolve(A,omega_0)\n",
    "        plu = splu(A)\n",
    "        psi = plu.solve(omega)\n",
    "        psi_x = B@psi\n",
    "        psi_y = C@psi\n",
    "        omega_x = B@omega\n",
    "        omega_y = C@omega\n",
    "        omega = nu*(A)@omega - np.multiply(psi_x,omega_y) + np.multiply(psi_y,omega_x)\n",
    "        \n",
    "        return omega\n"
   ]
  },
  {
   "cell_type": "code",
   "execution_count": null,
   "id": "4e2b6e61",
   "metadata": {},
   "outputs": [],
   "source": []
  },
  {
   "cell_type": "code",
   "execution_count": 14,
   "id": "dd5de376",
   "metadata": {},
   "outputs": [],
   "source": [
    "#%%time\n",
    "sol_GE = scipy.integrate.solve_ivp(lambda t,omega: rhs_ode_GE(t,omega, A, B, C), [0, 4], \n",
    "                                omega_0_val, t_eval = np.arange(0, 4.5, 0.5))\n",
    "\n",
    "A7 = copy.deepcopy(sol_GE.y.T)\n"
   ]
  },
  {
   "cell_type": "code",
   "execution_count": 15,
   "id": "c6b1ef39",
   "metadata": {},
   "outputs": [],
   "source": [
    "#%%time\n",
    "sol_LU = scipy.integrate.solve_ivp(lambda t,omega: rhs_ode_LU(t,omega, A, B, C), [0, 4], \n",
    "                                omega_0_val, t_eval = np.arange(0, 4.5, 0.5))\n",
    "A8 = copy.deepcopy(sol_GE.y.T)"
   ]
  },
  {
   "cell_type": "code",
   "execution_count": 16,
   "id": "ca1cfcd2",
   "metadata": {},
   "outputs": [],
   "source": [
    "A9 = copy.deepcopy(A8.reshape(9,64,64))"
   ]
  },
  {
   "cell_type": "code",
   "execution_count": 17,
   "id": "2148cc49",
   "metadata": {},
   "outputs": [],
   "source": [
    "#Check\n",
    "#print(np.shape(A7))\n",
    "#print(np.shape(A8))\n",
    "#print(np.shape(A9))"
   ]
  },
  {
   "cell_type": "code",
   "execution_count": 18,
   "id": "cb2cf305",
   "metadata": {},
   "outputs": [],
   "source": [
    "#np.shape(sol.y)\n",
    "#print(sol.y[0])\n",
    "\n",
    "#reshaping sol.y\n",
    "\n",
    "#sol_y_reshaped = np.column_stack(sol.y).reshape(-1,64,64)\n",
    "#np.shape(sol_y_reshaped[0])\n",
    "#np.shape(sol_y_reshaped[8])\n",
    "#type(sol_y_reshaped[8])\n",
    "#print(type(sol_y_reshaped))\n",
    "#np.shape(sol_y_reshaped)"
   ]
  },
  {
   "cell_type": "code",
   "execution_count": 19,
   "id": "cd068017",
   "metadata": {},
   "outputs": [
    {
     "name": "stdout",
     "output_type": "stream",
     "text": [
      "(9, 64, 64)\n"
     ]
    }
   ],
   "source": [
    "print(np.shape(sol_GE.y.T.reshape(9,64,64)))"
   ]
  },
  {
   "cell_type": "code",
   "execution_count": 20,
   "id": "8e8ff881",
   "metadata": {},
   "outputs": [
    {
     "name": "stdout",
     "output_type": "stream",
     "text": [
      "(9, 64, 64)\n"
     ]
    },
    {
     "data": {
      "image/png": "[encoded data removed]",
      "text/plain": [
       "<Figure size 864x720 with 9 Axes>"
      ]
     },
     "metadata": {
      "needs_background": "light"
     },
     "output_type": "display_data"
    }
   ],
   "source": [
    "#reshaping sol.y\n",
    "sol_y_reshaped = np.column_stack(sol_GE.y).reshape(-1,64,64)\n",
    "print(np.shape(sol_y_reshaped))\n",
    "#Plotting\n",
    "f, axa = plt.subplots(3, 3, figsize=(12,10))\n",
    "for ax, i in zip(axa.ravel(), range(len(t)+1)):\n",
    "    #ax.imshow(sol_y_reshaped[i], interpolation = 'none');\n",
    "    #ax.contourf(sol_y_reshaped[i],cmap = 'viridis');\n",
    "    #ax.colorbar(cp)\n",
    "    cp = ax.pcolormesh(sol_y_reshaped[i].T,cmap='viridis',shading='auto')\n",
    "    #fig.colorbar(cp, ax = ax)\n",
    "    ax.set_title(i)\n",
    "    #ax.setxlabel()\n",
    "    #ax.setylabel()\n",
    "#plt.colorbar()\n",
    "plt.tight_layout()"
   ]
  },
  {
   "cell_type": "code",
   "execution_count": 21,
   "id": "3db29250",
   "metadata": {},
   "outputs": [
    {
     "data": {
      "text/plain": [
       "(9, 64, 64)"
      ]
     },
     "execution_count": 21,
     "metadata": {},
     "output_type": "execute_result"
    }
   ],
   "source": [
    "np.shape(sol_y_reshaped)"
   ]
  },
  {
   "cell_type": "code",
   "execution_count": 22,
   "id": "c2b68e5a",
   "metadata": {},
   "outputs": [
    {
     "name": "stdout",
     "output_type": "stream",
     "text": [
      "(64,)\n"
     ]
    }
   ],
   "source": [
    "print(np.shape(sol_y_reshaped[0][:,:][:,0]))"
   ]
  },
  {
   "cell_type": "code",
   "execution_count": 23,
   "id": "c4000891",
   "metadata": {},
   "outputs": [
    {
     "data": {
      "image/png": "[encoded data removed]",
      "text/plain": [
       "<Figure size 432x288 with 2 Axes>"
      ]
     },
     "metadata": {
      "needs_background": "light"
     },
     "output_type": "display_data"
    }
   ],
   "source": [
    "#single time screenshot\n",
    "i = 0\n",
    "fig,ax=plt.subplots(1,1)\n",
    "cp = ax.pcolormesh(sol_y_reshaped[i],cmap='viridis',shading='auto')\n",
    "fig.colorbar(cp)\n",
    "plt.show()"
   ]
  },
  {
   "cell_type": "code",
   "execution_count": 26,
   "id": "66ccf3dd",
   "metadata": {},
   "outputs": [
    {
     "data": {
      "image/png": "[encoded data removed]",
      "text/plain": [
       "<Figure size 432x288 with 1 Axes>"
      ]
     },
     "metadata": {
      "needs_background": "light"
     },
     "output_type": "display_data"
    }
   ],
   "source": [
    "rc('animation',html = 'html5')\n",
    "fig,ax=plt.subplots()\n",
    "ax.set_xlim((-10,10))\n",
    "#ax.set_ylim((0,2))\n",
    "ax.set_ylim((0,2))\n",
    "ln, =ax.plot([],[],'r-')\n",
    "title = ax.text(0.5,0.85,\"\",bbox={'facecolor':'w','alpha':0.5,\"pad\":0.5},transform = ax.transAxes,ha='center')"
   ]
  },
  {
   "cell_type": "code",
   "execution_count": 27,
   "id": "1d48c40e",
   "metadata": {},
   "outputs": [],
   "source": [
    "#initialisation function\n",
    "def init():\n",
    "    ax.set_xlim(x[0],x[-1])\n",
    "    ax.set_ylim(0,1)\n",
    "    ax.set_xlabel(\"x\")\n",
    "    ax.set_ylabel(\"y\")\n",
    "    return ln,"
   ]
  },
  {
   "cell_type": "code",
   "execution_count": 28,
   "id": "122a75c9",
   "metadata": {},
   "outputs": [],
   "source": [
    "def update(frame):\n",
    "    xdata = x\n",
    "    ydata = y\n",
    "    zdata = z[:,frame]\n",
    "    ln.set_data(xdata,ydata)\n",
    "    ax.set_title(\"Heat at time t = %0.2f\" % sol.t[frame])\n",
    "    return ln,"
   ]
  },
  {
   "cell_type": "code",
   "execution_count": 29,
   "id": "a8a9de58",
   "metadata": {},
   "outputs": [],
   "source": [
    "def update(frame):\n",
    "    xdata = sol_y_reshaped[0][:,0]\n",
    "    ydata = sol_y_reshaped[0][:,:][:,0]\n",
    "    ln.set_data(xdata,ydata)\n",
    "    ax.set_title(\"Heat at time t = %0.2f\" % sol.t[frame])\n",
    "    return ln,"
   ]
  },
  {
   "cell_type": "code",
   "execution_count": 30,
   "id": "e35a1e8c",
   "metadata": {},
   "outputs": [
    {
     "ename": "NameError",
     "evalue": "name 'sys' is not defined",
     "output_type": "error",
     "traceback": [
      "\u001b[0;31m---------------------------------------------------------------------------\u001b[0m",
      "\u001b[0;31mNameError\u001b[0m                                 Traceback (most recent call last)",
      "\u001b[0;32m/var/folders/53/h0tv1tdj205_xg1pvfhdgbj00000gn/T/ipykernel_38411/3759505414.py\u001b[0m in \u001b[0;36m<module>\u001b[0;34m\u001b[0m\n\u001b[0;32m----> 1\u001b[0;31m \u001b[0mani\u001b[0m \u001b[0;34m=\u001b[0m \u001b[0manimation\u001b[0m\u001b[0;34m.\u001b[0m\u001b[0mFuncAnimation\u001b[0m\u001b[0;34m(\u001b[0m\u001b[0mfig\u001b[0m\u001b[0;34m,\u001b[0m\u001b[0mupdate\u001b[0m\u001b[0;34m,\u001b[0m\u001b[0mframes\u001b[0m \u001b[0;34m=\u001b[0m \u001b[0mrange\u001b[0m\u001b[0;34m(\u001b[0m\u001b[0mlen\u001b[0m\u001b[0;34m(\u001b[0m\u001b[0mt\u001b[0m\u001b[0;34m)\u001b[0m\u001b[0;34m)\u001b[0m\u001b[0;34m,\u001b[0m \u001b[0minit_func\u001b[0m\u001b[0;34m=\u001b[0m\u001b[0minit\u001b[0m\u001b[0;34m,\u001b[0m\u001b[0mblit\u001b[0m \u001b[0;34m=\u001b[0m \u001b[0;32mTrue\u001b[0m\u001b[0;34m,\u001b[0m\u001b[0msave_count\u001b[0m\u001b[0;34m=\u001b[0m\u001b[0msys\u001b[0m\u001b[0;34m.\u001b[0m\u001b[0mmaxsize\u001b[0m\u001b[0;34m)\u001b[0m\u001b[0;34m\u001b[0m\u001b[0;34m\u001b[0m\u001b[0m\n\u001b[0m",
      "\u001b[0;31mNameError\u001b[0m: name 'sys' is not defined"
     ]
    }
   ],
   "source": [
    "ani = animation.FuncAnimation(fig,update,frames = range(len(t)), init_func=init,blit = True,save_count=sys.maxsize)"
   ]
  },
  {
   "cell_type": "code",
   "execution_count": null,
   "id": "15eebe6b",
   "metadata": {},
   "outputs": [],
   "source": [
    "np.shape(sol_y_reshaped)"
   ]
  },
  {
   "cell_type": "code",
   "execution_count": 31,
   "id": "fd9bb59a",
   "metadata": {},
   "outputs": [
    {
     "data": {
      "text/plain": [
       "(9, 64, 64)"
      ]
     },
     "execution_count": 31,
     "metadata": {},
     "output_type": "execute_result"
    }
   ],
   "source": [
    "arr = sol_y_reshaped\n",
    "arr[:, 1:] = np.roll(arr[:, 1:], -1, 1)\n",
    "np.shape(arr)"
   ]
  },
  {
   "cell_type": "code",
   "execution_count": 32,
   "id": "661a5694",
   "metadata": {},
   "outputs": [],
   "source": [
    "x = sol_y_reshaped[0,0,:]\n",
    "y = sol_y_reshaped[0][:,:][:,0]\n",
    "z = sol_y_reshaped[0,:,:]\n",
    "t_new = np.shape(sol_y_reshaped[:,0,0])"
   ]
  },
  {
   "cell_type": "code",
   "execution_count": 33,
   "id": "2523dbb0",
   "metadata": {},
   "outputs": [
    {
     "data": {
      "text/plain": [
       "tuple"
      ]
     },
     "execution_count": 33,
     "metadata": {},
     "output_type": "execute_result"
    }
   ],
   "source": [
    "type(t_new)"
   ]
  },
  {
   "cell_type": "code",
   "execution_count": 34,
   "id": "1829fbb6",
   "metadata": {},
   "outputs": [
    {
     "data": {
      "text/plain": [
       "(64, 64)"
      ]
     },
     "execution_count": 34,
     "metadata": {},
     "output_type": "execute_result"
    }
   ],
   "source": [
    "np.shape(sol_y_reshaped[0])"
   ]
  },
  {
   "cell_type": "code",
   "execution_count": 35,
   "id": "ef79b2ca",
   "metadata": {},
   "outputs": [
    {
     "data": {
      "text/html": [
       "<video width=\"432\" height=\"288\" controls autoplay>\n",
       "  <source type=\"video/mp4\" src=\"data:video/mp4;base64,AAAAIGZ0eXBNNFYgAAACAE00ViBpc29taXNvMmF2YzEAAAAIZnJlZQAAH+ZtZGF0AAACrgYF//+q\n",
       "3EXpvebZSLeWLNgg2SPu73gyNjQgLSBjb3JlIDE2MSByMzAzME0gOGJkNmQyOCAtIEguMjY0L01Q\n",
       "RUctNCBBVkMgY29kZWMgLSBDb3B5bGVmdCAyMDAzLTIwMjAgLSBodHRwOi8vd3d3LnZpZGVvbGFu\n",
       "Lm9yZy94MjY0Lmh0bWwgLSBvcHRpb25zOiBjYWJhYz0xIHJlZj0zIGRlYmxvY2s9MTowOjAgYW5h\n",
       "bHlzZT0weDM6MHgxMTMgbWU9aGV4IHN1Ym1lPTcgcHN5PTEgcHN5X3JkPTEuMDA6MC4wMCBtaXhl\n",
       "ZF9yZWY9MSBtZV9yYW5nZT0xNiBjaHJvbWFfbWU9MSB0cmVsbGlzPTEgOHg4ZGN0PTEgY3FtPTAg\n",
       "ZGVhZHpvbmU9MjEsMTEgZmFzdF9wc2tpcD0xIGNocm9tYV9xcF9vZmZzZXQ9LTIgdGhyZWFkcz02\n",
       "IGxvb2thaGVhZF90aHJlYWRzPTEgc2xpY2VkX3RocmVhZHM9MCBucj0wIGRlY2ltYXRlPTEgaW50\n",
       "ZXJsYWNlZD0wIGJsdXJheV9jb21wYXQ9MCBjb25zdHJhaW5lZF9pbnRyYT0wIGJmcmFtZXM9MyBi\n",
       "X3B5cmFtaWQ9MiBiX2FkYXB0PTEgYl9iaWFzPTAgZGlyZWN0PTEgd2VpZ2h0Yj0xIG9wZW5fZ29w\n",
       "PTAgd2VpZ2h0cD0yIGtleWludD0yNTAga2V5aW50X21pbj01IHNjZW5lY3V0PTQwIGludHJhX3Jl\n",
       "ZnJlc2g9MCByY19sb29rYWhlYWQ9NDAgcmM9Y3JmIG1idHJlZT0xIGNyZj0yMy4wIHFjb21wPTAu\n",
       "NjAgcXBtaW49MCBxcG1heD02OSBxcHN0ZXA9NCBpcF9yYXRpbz0xLjQwIGFxPTE6MS4wMACAAAAV\n",
       "OmWIhAAT//73sY+BTcgADZc6inof4RWx9JBRerHZoGTqAAADAACKdD+CXH1AEcFM8HUdUjn9bxS4\n",
       "EmYbgNdmx+b0DG2kAAvVbTmajXLADsJ5v4VNlCWzeAnhtCu9t17nn58kqpMPVsYMY9bLD4LXJcvl\n",
       "qEi6M/SU7VWb2q/E0FCtVLMkrYqFyP5hCxFz0v09dJpuxzr+FRs/br25HGf6i4TQ1IS+1QO1jpR9\n",
       "GgPdVuCiSe4JcxupMsndwNJTFPLdXU54yqUi+kPFMPd7mOeW4oz+VMNa+y//eeooStA2HvqbJdLO\n",
       "5/TXMRh9Ls2G8kIAyWAL89YTqg5uE46PSWH8wEYU2orCD7g6FbnJ1QKfq+HFZc/xg3IUwYKtXq7n\n",
       "N0p/qwRzv9ehkXX7hNiCUrBQ3lpwMHZRsXpXxq2BX46TAllanbE8f9UiOAwtWZDI2mdeYUERhwTa\n",
       "/7QuYTvFiJK0qd2WyLojNRSqb/ilzS7d5vTUGMKGBRFaWID6PIWkRG22Pq0/vfzRrMSnvxfYGRVg\n",
       "0CmM0ExrgByis/OD4DjqvOSgDVh4BSZNvCJWwmXOh/XmRgdXHkBfqQxaX2OKmzQnWPf3y9QDsiH0\n",
       "QNV2qnkMtf3rwWX8+Q0KsskyDwimGE5+prEOvkEQPbd+Ivt9/sCbgCGmjZnYKWOnow70mW9SoePa\n",
       "Fp9m9CGCQlZ9QAF5qqr/yvr8ck2K5B5iF5Bs0/UbRsCVN4Fm6BnBl36bZimibCjbAFLFgUbdB7O1\n",
       "qvwsYtK4k/oMyGAsynixYTrFuUshflMqrkuUAb6MxIdD/hP9NEl6HlzaoyE9l0OR6xSvryokeySW\n",
       "qrI806+AEl8gHS741soFH952f/+rBt1sp+WwEobqEv/3aJ7d4/YYRWSsTsjYFoAxlY6okVATwZhH\n",
       "4gC+tYNqDvzbewuqwz0Oc8zPgaH3Nb+CG4VEn7+PU/Lr++KtiELgEfNyUeJ0Zr05RGxmWksmpvWN\n",
       "28RoyfXI8v1x6N6n2DZeml0iX172/2xNgfNqegZTKKVvpJl5qzICTcgjIG9tIB+5slOoDtq1c9d6\n",
       "fSeaNgEGpKVqVPYMWnH0juiDOXKg00Vmrb5L8DlQRDNkal9RWorw778LUuk8P1ojtpXf8tIzMhru\n",
       "bweU3MZHWwVCBwmbhzrWmoTvGjZfWUOdRS/AXmgufLWa+pqlx7grNY2lOySYwHMgqVVBCVKjutCy\n",
       "3s6zml6H77iAHp2KgShsKnjFnL+PrLT0VmI6Wz1gKwiYhpHhuTnanBSzW2t1+dC9A/wpgcQkKGEV\n",
       "Zojb4N8Z5JjQmJbNkHsxpAqC1ZCQ2xtXtHAAEvgf5rwWv/Rf5vhK32hvOtl7SonIfrjhd/RLL/tf\n",
       "WsWMOAis3+IO8cc4FWW6dk27Fti0HG8HCuxYdsn+lCxRX6q8g96Osy0yb+Loq8gn3lJj7GTVU06F\n",
       "MqgpHhmUfxRN8vIuvoYT6CjUdU3Ac1QjXaVx8ZHjsvOZ7RKnwX7p1z7rJ5DBGDDmnMj6aPJovEVN\n",
       "c8v8HOgLQVGk/V15cZ2HSLG2W0gVMzm6QI4yxZBLuK9fJnYbS5sGmKNHhcRaPXjZrS2Y0tu1UX3f\n",
       "EO5YVWRqJkGRr8XGyoA4fUlrOe6V1unZHxs1ZD3HsytLkYW/ZLJsN3I/E+VPYCrvyvqPk2hPXqiW\n",
       "xIJyI/vgho6suFiDoj5iT0V7Fdq6n+tNizIAnld39x8ldy7yQXrERw23THN/YejhOLXzwps1sq0g\n",
       "ge4HRM8AFRCDUmAuIt/8j8sFKb3LVuiKnNIRWPBEGSL0e0vuySNvtA0nHkLoxREREbECPU/Lj/75\n",
       "n4XiDjNLoX84POmoVTKeii8pFh9UfJI7A/pWInCbhxTXKyOzE23qIx3RDYFZPO7OxXvHyTJZ4BNs\n",
       "kJ2Q52FUJ4pYpTIdYAAt2pnsQBCzzRx+4Bc+fMTPf95k1WD9jFa8S0Qs5RkcHmgBhUEdy7rft+PH\n",
       "aH2QIN3GZCzbiC8ffVa8LTzk/54QJ7OnYVhq5hnbvoLJXuypyUbFI031RnyyUkKYRH6C0bgpp/mh\n",
       "IbNl5bgBFUKoPDpofIP4K/uGeVEUZUR5K3Ylv12AQw5YCGeHy4kUDcaY8rPdZbHZbsuIducnYWqH\n",
       "TK6Pd3TGlOVORz/Vh9+yCSuqveUTvBjw/8A0mzmLpvIsKIoWbvESGw9hPVm2hWYjHbjgfmqgmNbJ\n",
       "oufIlLmdipd0F6OeRYSnRFku5IkWkh9Mz0OB44putkdrpoA14Y/05PLody4x2rwkVmAAA9W8ReOm\n",
       "ZR5gzbA3zk7BvCxTg/ilucAzADY/ydFQUUj2r3BWJJf5Z/raZN17Oi58oX005WrkHNhlGq7bCjvf\n",
       "eRNCWGgy4uARV0DwJ7PZc9V2zTG2aBnNzwaDJ6SLkBxGHXhWtzPhRddY+/rZVYYvkHpH7xhu7q3Q\n",
       "5GmEm///233N9E/mky5w3KvSDJMD54JNAKw8K0sAT6/Dcod1gkhmsfmWpctHLKqufMrQ1hcrV75B\n",
       "zgbvdtP4j9ryuNWYL8MOZojAzoD7qC+N/xCSqGQXndbwf7pNdkX9MlEostmmUBMYiwZ8yVa2P28e\n",
       "FkNPmmjrjOI/ToLEG0RJhitudjUSdywKtWm22DYQN9lQUeao9NM0L7kWHEREkDZOJW0khvogm6Df\n",
       "Qfh+jMiSm/vvouY6FJg8hOIOdEbzbHzrDovvrSdkQz5pfgY9v7rJ2seQr27ZjhB14QD4LCYKki+1\n",
       "YtJ9H0HZvwhaJe07IBWc3mPJIaXLwMmnHKv9Mxk2SzAfpRiGmxmhYqgAQWJP7xpuX+3lYJXWeLJW\n",
       "o8QjV7hIo/7bpvP+Cl1b2EmAmGivMShGv0ggqtZQoR278Enjwj0jNfu6NnKXKSGlLcPK4CBA8S7i\n",
       "3xOlFg68lX7S2CUPB47zwtSu0tzPq2bDxPQySMjud4lOTXY9T4xE5nB5hoQQp3CyuDWVv8H6Snv3\n",
       "rhMGV1SYSAziLv9vVKFQiVpH755geKgvCEQdbIKgERm5BnW+NJbJP6gpBrPMLgmnGI2UMSAsMXoR\n",
       "XuAW+wIq6KaGHBMkF6Ujm5SDNsl//8aA3686n9xcKcZiPhg14ZqHF+tSBZKv1vsc/oCL0laDJfaX\n",
       "Gpg2wATrNYPKrp2EA6en/TsZ967/7h6/cIYCORFtiHAppMnzuN2TnWVote3Bh0CeCgWf8gCKgvQz\n",
       "hHkSnqKYCSkCbyeH2fBl5X+YAgZbaHRDlk504xTRH1wz3mYaDQvtaQ/EEXQmT1pzOK3F8n4pVq4A\n",
       "iqZeNvZN92J07uuezIZxHYm8NVAC3oI6b0Zd2fj2oax5kjNAt3iUTUh1Hd9E8vAlz4PqU84E6BPm\n",
       "mvDN1IIealUwEW2urFJu/4jNu4ME+Ks4TShmXnXL4NEK1ef6QI2dFSHvV+Q5Z1zFU6rwDHg0rUK4\n",
       "9Qhvb2m6Z+3zTku7xvyFEsRFv/kD13Grd9vAFPDKSbmpPONrJDr7i1/1ApgPwmrr6OFHFrpOVVLk\n",
       "V0pKLtjOp4GfxkM9o40Z+X9bO9Hm00AZKjcE/j4w/7mCWM6k2aBVOMv4VWDS2GfJWrIq/AI5/5yC\n",
       "1Jhj2NuFP8OUqvS9e+Nf4ipUAnngXI4mb9kskCh3b2yl02pdMO+8F9bpLfOsGudUQqbxks6j2AAp\n",
       "xsR/EtrGulkVN36A6ZXGsuF8GrN5IZje0//jEhBV+VakZI2x7sNLYLa7FtARyNbDS2C2uwfbgXdU\n",
       "tXZnBthn6KmnRME7L2jms977G6uOsggBNY/8YNn76XkvJC2iGQnLdfY/92lQfTaOAZqRHm897jjC\n",
       "F/Lv/Tvx9XIiaOE+cG6YTn/8w/8mAQFZpvsfwrkoab4e4rEMMufyp4Kx/wgSwDzx6B0uWzAdBbsy\n",
       "MiBAi3Xkxi1fKOVogNUAApACrB0qtNO+79jgN4Y1I5DagrRFZH4pcIaTCV0FGB6ZNOxMqF46vVln\n",
       "p4UKxIKO+O6J4DjV/BDuvd19UTq2FMtqMZxYrHB7VSf5RNcGcjJnAqtBc/+xJ28q5dcMs3vxZfG4\n",
       "3e+XxiAiv83OIQC/G7y+s8u5wEIkYTgqn4IgII+WpfGF3rMCmaRKvy8r8j6tSRLhCQzh9js9G6YY\n",
       "12RbyBLmCU2TzCbTFpXQWXVpUXuX+rAmWx8GVMuwLdauo06kj9uEm5ceAgPbShREQuZmXHVSxJ9f\n",
       "vTsBbVr3+x91TdixoJZvaPuUQY13+bWnnRM57yUaJABnJBgtd2qpTOhkxNXHDDiORygotVZ0+iYB\n",
       "AwoRmS3G0F3Jf4unf1C5JN25h8XCk8MHswk4gVcBys/wAeiNAWdFoqZrbqJBbCuvP1/XVl36Xd1C\n",
       "Z0BZMEjMXVzyZOxOZb250hL6rs5i5Pg/hO4jdISxps64FdXA5ejLoEjX7ywK5kg+I5bSD676gVp+\n",
       "cN966e8fVrTG/nkBqfouiIlF3EXiVecVcwFD7+yTv4/zod8Ts2+BzWE/cMCimlK83v9YQMXl4U/m\n",
       "FFNMzh7IIupm11hJuw8gyROXJnX8p2ruL9Tn0uBk/KdIbOee/k/r4pZ0XvpFhltAsKnWErOShEu2\n",
       "PAxRlm8pntn9nt4o5TJSUcghqkToyNKyULELdGeaWxMJ0WOqAhIlEHU860H+tvRTv4O63dv4Qukk\n",
       "Px8PUhTQLZn6RAuLnGEezE1g8tLvv5nHnGcMAsNFkKIStJL2UYOWLOF3ye9DxRpsrgx1knzu+f9k\n",
       "Uuk1jmheKmWydzA41HKR+UWVeD4VyuUtL8VuLifYCeT417ZEIQH6wSqauqFrpg/5WbtWev7yVHx9\n",
       "c3laeFnUXVlJEqENMWOqohYP3QC9BlCcueO+CpA1Dj/bZ/XmkjYVVOjuqPLmCSOEyEKUV86+cs4L\n",
       "SU2M1RNkFmJk2vCA3V4hjc+THXMJm95OeCFbvaTT4hNaYjtfi4EQGrKcZT4/ly6TIqF/oPbtRlUW\n",
       "ikR4k1JNrWc1VvfBcNvoKBsHmhpWhDFYffBUUGNkK8aa4rsyrk6/iyaG79L9HWLJFMYod/zi3Uvf\n",
       "g92xGmTUjxGmkGI1KAVBCXr+CiEAX0p7xdL8wLrRR4RylEh8ENOldt7hmuQRTf81g63pEKu+jxDz\n",
       "vV9jn/dERA/oG5PpCqlIEsj8kn0Z6kZVwxpXPgYfkl5dMjIYouSiuPwb35ThOmmWlkOdPWHHdR/Q\n",
       "rtHSwKbCcqSey/sIYz5hYC+WdOfcRoaP/MJzHTqOl9/sAndkKCDWaLLnf3lJVQjHNqywiAKjasEh\n",
       "/BXgSlRXRTbTEvd4t4v/dLohLB6cQbsUi2ripMg1v0KwVQQZ5Zji8C1MjNkQp8KKIUuapsKlVlaS\n",
       "ksnWzTiglNUuZRa/uevt7qbMmt+d4CIBaFCw4ytsn+sLrukvKIFK7JtIMYUpvHKVpHrDQrTAgI3N\n",
       "zGyZsyewoWYk238gR/g+88Qyzvf6p+fz8ShTWPLOHQVo/AnP1fICmOplJwba4Z41vlNUK8iGiAhr\n",
       "pDfhZSqESaGYachPu9Omf/VfSpfhe0o4uRcAxR8Nt7xiX3oazwJiMsQ6CqlaQJD0FCKU52w91+6N\n",
       "YBxnIHlJ3NUiju78YoWbGmCP5/q/TLxXduTuJHTlZUvH5xzyiCG3uYJEmZ1LgboAoVhqJ/mBLkUA\n",
       "2HtoJP7qB3Qwm907DtfOqMez3ezlGEqay5Q7GLRUSXVPnzw8RxuMdJ0aM/n+U60m3DIOLC1H3RnB\n",
       "Ytv4SCU8mJCkgp14j+Sf3KzIJeIYxd3XuSph95IyPbDBzrZfThoTt3lJFowdoeShJNvWRA5m2Mz8\n",
       "GxFoVv4qiN3qfcjI/JtH7N/Ca6aXYzEQphoeOCuGosDQ3zrCViZX1PQeuCia6w0VVIMs1r50LD/m\n",
       "9qub2U0nF+q4GHIPEyVYoePgy47yjGrIFriFJG9s6MMmXzkBqz+qiOWvkaCc21IRW8WYrBczcgX8\n",
       "vQkup6LPJZO/ONtFXYRYDUkhi1aIWl5g2OQ53nv/xlCZw0TIzY8cCbyhCJ/6qRnZLKAM93cPBD2A\n",
       "q1tqOQ5Ctr7CntXPEplMXlZgdd04Ux+gESsQH84pcE7aFdcwA+/rUMUea1VOxeAAc+/8Rl3hVTNl\n",
       "Wwx7/4K/X9S5vhgPB5YMwN+U+AcB4evuwBlnztpKC89LlV9DXH10u/x1MgatITqeUwVD4qPxFV6X\n",
       "j5eIge615ST00+h0jQVQ7YxeahQL0y4/MAqE/s29dyjLpTnJN5dNYe7F7OL9V9NfKUSrjG9DKfdz\n",
       "+0wa60oZJpkFA874EYs5qp9fDlKqPvFxaPffsEPkvqxK9dyCgqtWT4NZ1pHYBGuqyGKHg84dYoa0\n",
       "35+22YXxZCTJ9OB3f/f35q+NDSYqoDEiHgYNp22j7w7jTAtzFcBS/27D+j5rYzGDW81P/29+cncR\n",
       "0lv6otbbimGGU2YNVI3+IzHw6vutKatI0P6KJ3nCDdMncMUKlQUEoZ1mYpGxmNUhn2a4ZTdCPcoY\n",
       "dCUcKCeMPM7Ee86sYogjT33Uw3Zp4UZ3NUkJgRtDHHBrjNBFeRdsm8rOORvjo+RmbSlUbdK6exta\n",
       "V+VgRNZbELMV03WhhtZnl4HlOsFth43lXw8ascV+L3CGpH5wX+AhbQmp0j12aU5NbgvM0GHtf9+l\n",
       "MUMbHW1dRx06TKndqEzW/3/SGhYLHh58dmWQuO4JK4OAbGgitqo7I+b2MNM7Wrpfe+Q3YyaUbH3e\n",
       "3r+1dJ7llbWZa4Iibd6yCZcucD2jZb7bzwx0rxJQFRGCJQ7gnon2VWyoYykOOVGFa920N24F4A9z\n",
       "Awy5aNiqor5BA25wVebfZoszN4iJdVS02u3U53IrBtJ6XrjaPOZGcSBY/g1Lw9GJIrDb/cBQ2R1/\n",
       "/KmWFxxcARuzaNbbyuCrFojhlJdfALh4F0J2SmbbhiFimrfWHa7D3w+TGZKtkFIhlO9qKf08457Q\n",
       "Ucrpz9L8PRDCi/BwXQKy/MyL9KC2PoPE2epVYmXDEpId92v8rmf4XNhGz6xAcEtya2/1qBqU0XLW\n",
       "is/amix7xSt3c884zvClX1vjQz6WMqYCG6L8FoXJDNg29psPTheVhO49nmt89wsmlfyoMMMdrRgS\n",
       "X/p46WIkVAPUZiWvlE5z+OdHExTEUabsmv77RN9Hn+UVcfs5p9DNe6Qb4STYe3AD4C4kC/jLfcXA\n",
       "wbkK5KNQx09Rr08OeNzHeRsdIDcturTq3a7qVMZGLPTKr/keG8YByi4DuvpKKxCsHuMaTwVSZ15s\n",
       "tCHX5OCt4baE06uixiQLKh5qPqEAAALAQZokbEEv/rUqgQGtigAuV4Jj//0gsWngrsM4+NtLSLKB\n",
       "/JHjE8EV9Lgp9nZn0wNod3axzcKKfiTa0PwrpTaMY16CW/j5TNE/PPQV7P1OVgIy9DhO8tqU22pq\n",
       "0K1Jz5nV1amcXcSYewy6zMlGnWYz4WwW5Jxo0ST8nLSdv3fuC4zLlZnNzYJdHYnQVy7htWQYBsmJ\n",
       "EU7a+HxXFJ4/788KBRSJTbL00QbKjt6B0qcrNqQ7TEhoeemNF2C8o8jTiet9WNZd5bme0EgQj7ta\n",
       "M5QsKQg22His3Jj/6+/4QOQBkigL+Zfxsox87/qXR1jrqX8PkJIaSbgbytCzcRVDQoFTpPCX7uFV\n",
       "dmD6VYtaqk20IJk9XCDzymkL/Y8LQsPK3hczarLYgaX3qSauiYoEWmv8dgTiaCBpDPIma/Gvlsgk\n",
       "nDNgdBgDl+LmBWIfQrKYJvq4Zc67iCz976aw1lftpui45aT8KJdiUNLn2rHvcFO0tKze4e/FYDUu\n",
       "o4PLZNruaTlhBalQYNZHiRGbSXMYB0rrOiNIJFrWGr2TH4qJ2QjY7Xtuyt+Z3tleiBErC4K8pl2Z\n",
       "YENQFm7t6yI1zSOLerMtzTX0ofyh3AY2Lyyq5zhn1Vi4xZUDeZfFXG/Ep1c+6YIUrAlQ2jKAj86/\n",
       "XXSzAZeBpWS/VFmdl6kNUlMDPgPmT7Wd8GLSIVez739z5WoFT5ZsmLCq9Aa0zjwNBYOm4hBnUK09\n",
       "kfXn3HShBjoyViABy4C0dH1DZF4v+gk29/7rsYbHVo+IjnAKSlg1ex0wGL3++mlS6tbE3aRz6IJp\n",
       "Y6R5myitv3DSlyCGYNrzeeeQCEyyQBm3SMQYYESGEbfSiRW58XmctVsx/VL6QEqCfzsCkhr7SLav\n",
       "NWtIhgysZGy7dRRktkWzKFuxjHdP1cqtxF45Yj+ykU0FsKOdajTcWfHZM9gAAADVQZ5CeIIfAHd5\n",
       "9A+NM6u0fYtS8gAAG0oz9SIkUSoC/UVvKO6fhJ6XOUhZ52evF4hr7HaIpDQak1M+Fs4dV/uMXPgx\n",
       "nc3JTMzem/8jMy3goxHKP+pNYUzmhObsO+0e6tyHzloytn/AqXcrQiZ4e/T7pH9y3pPM8s4nwTVu\n",
       "dCZ2ta6dqVU8cAnoo+js+8o5gDV8cOFYJVi+gK1hbfl8dVbx/0pCPcmACc+vC2cxAUU9RwYIPlqE\n",
       "eNpTA9P6PBT/jMYc/aQang5YTcGfGb17UWrVJmANRpqJAAAAyAGeYXRD/wDuaUhAnYhfeSPl7rAC\n",
       "EmSpte7KS/2wq1JXcGtX/pA/hVBUu+uR8CDu+x1u61Md9mRPypRQTT/RUE2z+WU3P3rI2WL+uihN\n",
       "61pgfpGM8lPXqLwqmhcRlEiChNasqHj3jNq248QBN60Zh7nzV5eIn5EOxFX7kgSijjwr3MDJ5770\n",
       "y+91EIsL52a/euFL+QZpA/1lM+87P9biK4J+dDgwjY3fcf/V999pZ2xtBc0imDOyC3buW5B8HP5K\n",
       "Sxo2IIE3EUh8AAAAsQGeY2pD/wDuaUg+cth3hABtKIg2gxSFiG2PB2EZRFQVV1PqP31DxFnZ7h+5\n",
       "AYDXVVVPm6KNAns4oCsv03QgiBm46uyubr4/Yv30bF9eXpUTzZ0+XHgNG8iLn/HCyC8gYfvL8alP\n",
       "yDzLprvR/lR44aIQKzG38Uy+q4PDLQjr4igU3HJSCb2ZmhyjInrwbhrki2RKqJMg4WBu13MB1ymz\n",
       "p1owRPlkyUil0AK4BY/qRJCf4QAAAKBBmmhJqEFomUwIf//+qZYFIcQP4AHNoiV3nJbKwEHeoVIU\n",
       "KsikuFVxr/jAZueDaY58Tr+O4F1VT/nhkgsHrigvv5e8zESLK9GD1//1hC+HSh3MRFJgN/PPrLId\n",
       "79nKkPF57OGzsXQSwa1SEkKnMUMVFRos5c9RNFm30OsqRGkexpoHxSKx2OD/6F//KLsfrugn18B4\n",
       "dQweUaOLx1UHnHHRAAAAsEGehkURLBD/AHd59BGVyEc0qADs0dk1X9/F7VaBCZdtmaXxa04F/5gF\n",
       "Z9DrjBNGZzwJFv0Wrc5sXIc3wORUZg82N03v61/P3KoMH3Tzs/jRaqO3pF/yUV5rF+h3jV2bfgiU\n",
       "XAnv+yxDovMZMZwoi97R7DkhTaDJLLFh/nNh/oaMRZ5zZ0h1HpCNNdwwiajZK+cajJaD2YrNyRbR\n",
       "USy10xeoDXz+7shsAyZcvIzUwS3RAAAAtQGepXRD/wDuaUW+kJs4LG4QAbSfmu28Zmn2JH4QN6aG\n",
       "uE4LXyE2GNcnjD7ujCwMHSafdgc+pse6XBrx/iZWZR2ujQZl9GiXOk/WWIpyskrl3WWBB8ItwN/x\n",
       "r1QxtyBQ3xmN61kdYJukcmlCHmH98k2oyzx+h2n6sRTu5rCn2ZyDeCgtEZ42AVuw5qKmCVIZRe3R\n",
       "E/LvMRtlqBA61sH/l0gj8dKe5bnm7keJIB6R+VNIIOeCqdsAAAC7AZ6nakP/AO5pSEK+2E/CADaU\n",
       "RK8qiSyK2DqQFgvB+TIWH26Xs21FHda4HsSUDNnMjBUBOFAVvQqwGqUlPnqN5J1O9eT5KZoEvX0d\n",
       "jP3hO31IkzrRdxIHWUJXZ6/VWxHSKNKdNWKt/+9aeNGgu3zt4oMbuij0DdNDOtRoPyjeVZo1Amn9\n",
       "2oCpZwMNS3tApSCelH5N3ErVh04+oxBrLrXSk4CkI4dYngoF+gB3jMVFn1moubw7LWG0jawCVgAA\n",
       "A55tb292AAAAbG12aGQAAAAAAAAAAAAAAAAAAAPoAAAHCAABAAABAAAAAAAAAAAAAAAAAQAAAAAA\n",
       "AAAAAAAAAAAAAAEAAAAAAAAAAAAAAAAAAEAAAAAAAAAAAAAAAAAAAAAAAAAAAAAAAAAAAAAAAAAC\n",
       "AAACyHRyYWsAAABcdGtoZAAAAAMAAAAAAAAAAAAAAAEAAAAAAAAHCAAAAAAAAAAAAAAAAAAAAAAA\n",
       "AQAAAAAAAAAAAAAAAAAAAAEAAAAAAAAAAAAAAAAAAEAAAAABsAAAASAAAAAAACRlZHRzAAAAHGVs\n",
       "c3QAAAAAAAAAAQAABwgAABAAAAEAAAAAAkBtZGlhAAAAIG1kaGQAAAAAAAAAAAAAAAAAACgAAABI\n",
       "AFXEAAAAAAAtaGRscgAAAAAAAAAAdmlkZQAAAAAAAAAAAAAAAFZpZGVvSGFuZGxlcgAAAAHrbWlu\n",
       "ZgAAABR2bWhkAAAAAQAAAAAAAAAAAAAAJGRpbmYAAAAcZHJlZgAAAAAAAAABAAAADHVybCAAAAAB\n",
       "AAABq3N0YmwAAAC3c3RzZAAAAAAAAAABAAAAp2F2YzEAAAAAAAAAAQAAAAAAAAAAAAAAAAAAAAAB\n",
       "sAEgAEgAAABIAAAAAAAAAAEAAAAAAAAAAAAAAAAAAAAAAAAAAAAAAAAAAAAAAAAAAAAY//8AAAA1\n",
       "YXZjQwFkABX/4QAYZ2QAFazZQbCWhAAAAwAEAAADACg8WLZYAQAGaOvjyyLA/fj4AAAAABx1dWlk\n",
       "a2hA8l8kT8W6OaUbzwMj8wAAAAAAAAAYc3R0cwAAAAAAAAABAAAACQAACAAAAAAUc3RzcwAAAAAA\n",
       "AAABAAAAAQAAAFhjdHRzAAAAAAAAAAkAAAABAAAQAAAAAAEAACgAAAAAAQAAEAAAAAABAAAAAAAA\n",
       "AAEAAAgAAAAAAQAAKAAAAAABAAAQAAAAAAEAAAAAAAAAAQAACAAAAAAcc3RzYwAAAAAAAAABAAAA\n",
       "AQAAAAkAAAABAAAAOHN0c3oAAAAAAAAAAAAAAAkAABfwAAACxAAAANkAAADMAAAAtQAAAKQAAAC0\n",
       "AAAAuQAAAL8AAAAUc3RjbwAAAAAAAAABAAAAMAAAAGJ1ZHRhAAAAWm1ldGEAAAAAAAAAIWhkbHIA\n",
       "AAAAAAAAAG1kaXJhcHBsAAAAAAAAAAAAAAAALWlsc3QAAAAlqXRvbwAAAB1kYXRhAAAAAQAAAABM\n",
       "YXZmNTguNDUuMTAw\n",
       "\">\n",
       "  Your browser does not support the video tag.\n",
       "</video>"
      ],
      "text/plain": [
       "<matplotlib.animation.FuncAnimation at 0x122511f40>"
      ]
     },
     "execution_count": 35,
     "metadata": {},
     "output_type": "execute_result"
    },
    {
     "data": {
      "image/png": "[encoded data removed]",
      "text/plain": [
       "<Figure size 432x288 with 2 Axes>"
      ]
     },
     "metadata": {
      "needs_background": "light"
     },
     "output_type": "display_data"
    }
   ],
   "source": [
    "import matplotlib.animation as animation\n",
    "#plt.rcParams['animation.ffmpeg_path'] = r\"C:\\some_path\\ffmpeg.exe\"   # if necessary\n",
    "\n",
    "# Generate data for plotting\n",
    "L = 10\n",
    "#Nx = Ny = 11\n",
    "#Nt = 20\n",
    "#x = numpy.linspace(0, Lx, Nx)\n",
    "#y = numpy.linspace(0, Ly, Ny)\n",
    "#x,y = numpy.meshgrid(x,y)\n",
    "#z0 = numpy.exp(-(x-Lx/2)**2-(y-Ly/2)**2)   # 2 dimensional Gaussian\n",
    "\n",
    "x = sol_y_reshaped[0,0,:]\n",
    "y = sol_y_reshaped[0][:,:][:,0]\n",
    "z = sol_y_reshaped[0,:,:]\n",
    "t_new = np.shape(sol_y_reshaped[:,0,0])\n",
    "\n",
    "def some_data(i):   # function returns a 2D data array\n",
    "    return z0 * (i/Nt)\n",
    "\n",
    "fig = plt.figure()\n",
    "ax = plt.axes(xlim=(-L, L), ylim=(-L, L), xlabel='x', ylabel='y')\n",
    "\n",
    "#cvals = numpy.linspace(0,1,Nt+1)      # set contour values \n",
    "cvals = t\n",
    "cont = plt.contourf(x, y, z, cvals)    # first image on screen\n",
    "plt.colorbar()\n",
    "\n",
    "Nt =9\n",
    "# animation function\n",
    "def animate(i):\n",
    "    global cont\n",
    "    x = sol_y_reshaped[i][:,i]\n",
    "    y = sol_y_reshaped[i][:,:][:,i]\n",
    "    z = sol_y_reshaped[i]\n",
    "    \n",
    "    for c in cont.collections:\n",
    "        c.remove()  # removes only the contours, leaves the rest intact\n",
    "    cont = plt.contourf(x, y, z, cvals)\n",
    "    plt.title('t = %i:  %.2f' % (i,t[8]))\n",
    "    return cont\n",
    "\n",
    "anim = animation.FuncAnimation(fig, animate, frames=Nt, repeat=False)\n",
    "#anim.save('animation.mp4', writer=animation.FFMpegWriter())\n",
    "anim"
   ]
  },
  {
   "cell_type": "code",
   "execution_count": null,
   "id": "4c2f33cf",
   "metadata": {},
   "outputs": [],
   "source": []
  },
  {
   "cell_type": "code",
   "execution_count": 36,
   "id": "232aac12",
   "metadata": {},
   "outputs": [],
   "source": [
    "X, Y = np.meshgrid(x,sol.t)"
   ]
  },
  {
   "cell_type": "code",
   "execution_count": 37,
   "id": "207f2a8e",
   "metadata": {},
   "outputs": [
    {
     "data": {
      "text/html": [
       "<video width=\"432\" height=\"288\" controls autoplay>\n",
       "  <source type=\"video/mp4\" src=\"data:video/mp4;base64,AAAAIGZ0eXBNNFYgAAACAE00ViBpc29taXNvMmF2YzEAAAAIZnJlZQAAIfJtZGF0AAACrgYF//+q\n",
       "3EXpvebZSLeWLNgg2SPu73gyNjQgLSBjb3JlIDE2MSByMzAzME0gOGJkNmQyOCAtIEguMjY0L01Q\n",
       "RUctNCBBVkMgY29kZWMgLSBDb3B5bGVmdCAyMDAzLTIwMjAgLSBodHRwOi8vd3d3LnZpZGVvbGFu\n",
       "Lm9yZy94MjY0Lmh0bWwgLSBvcHRpb25zOiBjYWJhYz0xIHJlZj0zIGRlYmxvY2s9MTowOjAgYW5h\n",
       "bHlzZT0weDM6MHgxMTMgbWU9aGV4IHN1Ym1lPTcgcHN5PTEgcHN5X3JkPTEuMDA6MC4wMCBtaXhl\n",
       "ZF9yZWY9MSBtZV9yYW5nZT0xNiBjaHJvbWFfbWU9MSB0cmVsbGlzPTEgOHg4ZGN0PTEgY3FtPTAg\n",
       "ZGVhZHpvbmU9MjEsMTEgZmFzdF9wc2tpcD0xIGNocm9tYV9xcF9vZmZzZXQ9LTIgdGhyZWFkcz02\n",
       "IGxvb2thaGVhZF90aHJlYWRzPTEgc2xpY2VkX3RocmVhZHM9MCBucj0wIGRlY2ltYXRlPTEgaW50\n",
       "ZXJsYWNlZD0wIGJsdXJheV9jb21wYXQ9MCBjb25zdHJhaW5lZF9pbnRyYT0wIGJmcmFtZXM9MyBi\n",
       "X3B5cmFtaWQ9MiBiX2FkYXB0PTEgYl9iaWFzPTAgZGlyZWN0PTEgd2VpZ2h0Yj0xIG9wZW5fZ29w\n",
       "PTAgd2VpZ2h0cD0yIGtleWludD0yNTAga2V5aW50X21pbj01IHNjZW5lY3V0PTQwIGludHJhX3Jl\n",
       "ZnJlc2g9MCByY19sb29rYWhlYWQ9NDAgcmM9Y3JmIG1idHJlZT0xIGNyZj0yMy4wIHFjb21wPTAu\n",
       "NjAgcXBtaW49MCBxcG1heD02OSBxcHN0ZXA9NCBpcF9yYXRpbz0xLjQwIGFxPTE6MS4wMACAAAAS\n",
       "T2WIhAAT//73sY+BTcgADZc6inof4RWx9JBRerHZoGTqAAADAACJgfrf2nbevwAEVohkMMDh1nhO\n",
       "imTKO6raCbBrkXRxY3L6sf5uH6n3V6uCvXtLkjktzaqlb/ngSU3o+4jOqEm47DKOInXWH2t3EvUA\n",
       "A+SaBzwnIB5Tva/cPrh1T/ytXo57rOnl+aKEtdzNpWZ+3XtyOM/1Gmq0cGw5CncBEjOn0aA91YAZ\n",
       "S5bglzG6kyyd3IU1MjEbkapcALat896ulvtgvlelHTiuiR+ExDh+Vw66ANaBsPfVExgqUehNcxGC\n",
       "rezYbyQgDJYAyL1hOqDm4TkfCbh9oiRAqhzkM6ABX62HaEoZ+r6PXIG++ic/iajH62UYvZ2bua+z\n",
       "JiB2N/2Rzsc39g4OHYwdCMRT3FNT0Jean+bjDuCmvAVHLKtzfNZpQrJLC9Lj4yeAe/hq+DPmYoY9\n",
       "IHpHSN1EYunJJUZny9E7Kh87mNFaMcDQnSl6YOTVOkZqKVTf7xjDkfenz1BjChgURWliCdu6Pb4j\n",
       "bbFb8P3x0AMv2r34vsDKpZrMNmLWNcAN9/In+uELWH3jccN1wScs50ej674JfczsmiwvxesfYK/i\n",
       "y1EbG+ZjMhdhh4I/6QEjtUTU1I1+tGb4a0ZPdEdpCp72M+zxhzdBnWRNP6FOliIxplwZj2t06L0d\n",
       "Jl2wO6rSKDOz1GBRut4jD2/62yclmFABH/xdaRuv/WohV/oIhdEDAB5zzwrQmkcqxHUnAUpb8EFM\n",
       "SeZlnpfxgTKVa4v0i1jKvNYEy2BkapFjNvTouIt4+uCQeeg15hxFBvWQOLsOIIM422JdrJS6Tzxr\n",
       "2cknAsDXJLgVNazqILgom8GceDiKsX4Lbm/f2PqJ9yjxDVXRJp5+yaZpqpyFq1qd6mqsA47hYt4M\n",
       "/RG7uzgFPJ2en1dOt9Ci7b3RC1+PSXrVD+4yqkCeWNkrA7BSRMH+xgBas8evZ4zOs450adn4HRsK\n",
       "Gq/GZwsAJUnDr/ztN2EwfED4+LvwNyKdNVqjgE1DTAEKYZ1Y7sGk4Ev5sGEozY143L3mJ/DFK9dr\n",
       "x+PjDdTufkaJ6bkTkLKe+1JpKNuJwgGbGkBa+NJwlZ4DAl+kG5GS+pDmuumgZdGBUxJ2ftg5AwU/\n",
       "KOgXQvPk50qs13hH3ouCqlQKhnMvYyIm0ZMOiF6R5c0xlYrQ07eXQwzEnMabNmwhMDuuwB3nZITv\n",
       "A71dOG37Tdvz6cHHSBhL6ejFfC0rPKl5G37A0LZsokdn0Vb2KsF1ITU87CoxSxYqfwjjbELlJRBx\n",
       "rZPY29jlkZ3G0uZUcNfvu44qcIX50V/1CDTd03LK6q2g0G5G84CWvaQ7J2E8f+wC+HiTneE8aKt0\n",
       "fyz5OJulusq24C0/pwHh4TVYllCm4qG9ELFhUpITm2Hx2JNC6nOGl7TlhjVImWVgv56HV2SKZBqK\n",
       "OdYcUQvOPJFq/Pxh6o4m2+FzGCPyVouW56OpF+2JDKvzTldkJdGteuqWxvdD1jzezyKBEhcC4n/6\n",
       "+zaSiTXjycJlRqu6OmfEVksb6mKrdXtLQ6cVRbXjPbJYVQsGnX7cfZ/T7f1Ak5568SMd5NnYy78I\n",
       "pnOAC4s/EXV/EOWinVIdIKEZVH0INELYdzIiPc9+ToL/Y07TT5QXYyya1RhhEi2ZCtPJGnqBd07S\n",
       "Wo0i7Io4BlSbw/UfTIP4Mj0s1NMvi2IkuIkMOwtRz9JnTawHTepVtpRWALZbod+IK36/rtUyd5RV\n",
       "2j3kvN18iYmtR6J6XBvGpqcU9QoATiphnrucrILlF2+QFXeZy9NyQBYJDu3jF9q2C8nsoOjCEpW/\n",
       "cag464AAqHb0N/6j5LLzdLQeeFLtj06VzRkt2eZTIl7YilS8mnHYFKQwYrjGVBuJcYDCIrhtIR0g\n",
       "Vw68ImepIqmEvb7oGOkZcgQnMRW/J5T5iB8E93sRKD3iybGEB78np/BNO3fU/+zMgJ73MdMyF7UK\n",
       "Kki+vmy4G8WOTHgrOjNLY5jYiBbcrYug/qV3/Ie76VKLmZOLmrrcchpvm9vivqTw/cCF30qx38ow\n",
       "n4DLK4DifiZbym9KTKG65kn3EOKZzLA37fNll/2Ldpuk1dkYTobOCaIHVB7LZGLkgr2Kh4jCgFwq\n",
       "krYCDXoPXfy4eKydAcNVgCQlLSoBgS646HaMmbBWKiMFwDD12gtFCoZtw2pMQ7sjoQQ+vJFBfmJN\n",
       "dcdFizJZkwky8yS/ImJ8EXBtdO6kzEdUTNpwckcTQqKsy1V7BjoTc91K2L9w4gr9CunIU03ERMPE\n",
       "cp9AgJLTMqPHx/7ymZd6cKs/K8Vg/IdvE/tDV0zI90wbGsBVEXy6GevGO54+70qB9nBDbjSJrkua\n",
       "HwYEwyKhoIbNEMa0KVSSEcgJ+zq+tI15Mgq1LtDsjvRnNFp0T/sFnpvHy72CbdTJDewfe2tscj3U\n",
       "ko7Qw80OM5O6LhvVufPScOnE//X2bNbyQ+iXEvfZNIO6aNKoxZzVT6/WKTj2MZ/ogY6xH1QONCR1\n",
       "VzawSAkTvjzgUOOPqDr/VHE2hsF9HatiP+yM/jWIK1yAhmTeAYJ8rYZPoeix/HnlLXP3cdwP00w+\n",
       "lBQKzZPXXtd2G25lWpUS7uSqmiY7RgsBCCLjb//Iz8lQQLkMDVPOht+qPlaq/SYD3CURRlzFS1E+\n",
       "Mh96sVK11Q880dJvVvsGYfiz9/hKVxHMCBsyq4iBIXGCkUXbfLLcNQwuatq78Uoq/gU4G8gn4+uH\n",
       "tfGritzKBKji8CdjSaROvFaaYaBcyIsmgBsmNGzIjMDI8vuwE62L3r3nRA4S6L0UJXEYK93h0AF2\n",
       "4R9WCv7rpjJK+iJxLBdQhQlBq1SHDTjivkJRXGVxWTAhQC/U1/kUVR0oIZE4e7JRDptifaRKlg99\n",
       "v+tsnJZhQAR+lUQxcPUGN6pYA7j7/5BntZqxRqNubmXJIAxi6AEHVMmvJeAnaM2CeUiRKH1w4fbV\n",
       "eTX2eFMYF7dye3bx4371ikaBKnvOX2H0o/j7YC/fxaaChXyzNNoKThW65jdd7ZoL18b3HsvNr/uo\n",
       "z2rWrcKiy3PWhQ78aja6SmOFy05zvF6tgY9ob+ARz4xpU0T7LfII9Z3tFkLReaFxCGvRWzpJyB85\n",
       "XGPAoLR5mayzK60WxE/9v/KThT6rnK4hpQNZGMTZP1TY4Ec9lynnm2d/YogC0+Z43wG6ZlIcgAyJ\n",
       "lPhUVKPOdDV1+yiWEd3mB0n9jhRW53+jQ+FctXSm0J99baKXJBahKXZCrsg6l146DlROKmd1OApi\n",
       "UpOLQwaFWK5jqKopl3DwiwiqWpizpF95y5xHycKEaShyrijbBYT3myk4EIpf//EctCISBO/uTV5L\n",
       "REpL55Te+RJvJ9P7bedzljdV0NGPCCjUDzlM5v9OaG0Lf1PZfR6+p0RG/EtCPj1rQqbrySjkyXhb\n",
       "Kzz8gRSnwIQ73FkLo9L2+p/jzHaJceUWmdg18nI8k1AEMVUAW9UEJNAY0+RujdC8kpxbfoxW4ZMp\n",
       "+Nz1Gnx+WGvvxNo01BW7oZ5iMs05fNHBbOwaSM/BxtIvxzAbIz1DIv6lVot2i++lts0y7dlSIaFk\n",
       "RwenDCp1F6rW8oc8SOkezfT+M+c5TxhxuEqM1OIL1RiOQzm08naCDNpm8ixO30cxnMjNuKZ6jIu2\n",
       "612QyYkf4gWsqT//jigllRhazaVcje2wHq3rJw56rLkIbJ3sTP1i6Ufn50oCBBkv3SWjm04GqRDa\n",
       "4p8vFhLU57C2qSIo/QwDcBtlef1kxSysxUB98m21IXhCLJ/3cysM1Y+DU/oT8mMO6+0I589I8y45\n",
       "n5QBHIdKmq4Puoq4MxRi6smL9K4RiebhnBLFR66yDVkq1P8Td9Rh8izFJWxLLTtOJ96LVugw16cQ\n",
       "HrY5eEX117XCGwe8uV5EMDZO9b/uC4/YLZw0zb2GDsKgAN6/ubf9+XVDu+ihfR8bFbLxRXZAyC3g\n",
       "aPVuY23PTkEctV3b3tvIMBcaYseMHeMT4G6HrFD3DGqzt16r9DjBk8xXhk/4iMV0d9zFusxCR5SE\n",
       "59SVfbFJKi3X+eDbk07hDrfW4trjqU29UC1rWHtWpqCjCaBsC2i0OAsvCmCc3q66BlZgqSYeWpPu\n",
       "KogZUqJHv6LI+Urkj/rTcwlbk7m/3I8ZQna6+3wo1FMWPsOheZpQOFNvFhybBqzyws2bJuwJT/c0\n",
       "9WQSqLRbwU2fu5aLkINbeDBMd77EQDfG5bi6IRZD8QiXgbKkwd/kyGAvHRnPKmT99y118zUVV7lT\n",
       "HWzfW1airTiWYhDiaW8UB4mYwrZp+1CUv60oSjHIjRMMWHblsFf7SHmvCM8EBA+gbxFFMyibKDmp\n",
       "DMdbn9Z5uZHbvAKlVg49DiyJykls2KnZLNjBqfccVkHTfcu972jLlYAlwcalAK1n2QbeMbaq3RG3\n",
       "lHT5eBKRvzB8t+GlGBY58r4TnE4Tahg6GLpUEnZyvd4G8AERsoCLsByw5ZfWynUfzMDER7+9K8fh\n",
       "zwnQdCTBVVosGL7ttxO6nttX9rckl2P0LFW8N5G5w6uCXxq+uGuYMcW+SWCP0poE/6hp7iCZF+Yl\n",
       "e4q/1MniopcZaVlZGAWHRauRNaC9eMmcWMzhrLF1qxsPZGupqBZfG7Cvjz5cwnMEgSR28WMFohIM\n",
       "5UKjKCuvpXeLAKQ5qjf8OkZsjs0ekxDEVx5UABkbzpBX/CV+Xnp7eoRg94xFMHqr+7cZm3HHpUc/\n",
       "MI30+3YroLTgWbu2sjnIRGEDDop1YzxiMY9m27sFHvMVa+c2dONN7YpQTDNm8KaLsW6oUnvSfCvD\n",
       "EGX5q+ALYI5xFcxxp/qpeUkxbO+IPGU+ei9nlrhLUUOnK5VJc/+4A4chi6FDejDhSzCXQY9o8HAg\n",
       "/qCU2skhaxBC839PUik0CGNMWC19FD9a0qECvDzz0sQRHjpHM1xhUAdiXSBVS+LUJmyBHampRZqd\n",
       "CVihba5Lsl5ya+fUk6Jugq9GYf4RihSssnLUeYWCblBTLCjgX9+GIUVzYoxRwTzfVikcJsu7mv0t\n",
       "a1je9djJgaHmsYQgUDDNgvCrxf2gcbNYFebkydBygtzFumw+9gNDCH1HVb0rJK5diu/pqz4U3mhC\n",
       "fjeWsg5gFvP2RB7h4/OWcFpKbGapr6QyLAbXmbOb04xhj9wAqkXiJRexKnPWmlazmqt798vcipzT\n",
       "oDHjRZchDOH/6v8NtYzeOMrmgeN7Zo0L9UUfbpzQbq5KvlDOckOuC7yEnZdkgO0Vqov9Kua/M7Iv\n",
       "09CFVajrneK/yGUngbMxpyGwoSxnf5BbHPBEyNm4OuODIqVdoBSqbsoR5U37FjO61jmyyLBot1EW\n",
       "8BC0sSV89s4FDHN/YMOQhn+6HJYQ0p8hYr21/72EMZ8wsBfLs8mKI0NH/mE5vN+Cfig9a4dslvt3\n",
       "FWINkjZD1uQImkC1OMAce1e4bLf2SBhTmIjpZwDUuVWhpVKlABREMTGc2RUgzQ3+lqQU0pkDFVGs\n",
       "ggnYw5pMX5dOjZ/biZH9//yhMXYs5LzYmgVq4yP4nYZqlOXuCAA2zCGnnkjZWvYyfbvFdi8/4/Zc\n",
       "LMqqkvD6MPJufJ084MqNtxpcV2U+WMUn2UmWLvWxcMt/txZMayh3qu1tjmFjAIOqZ52AiTbogarC\n",
       "6S0imZxsX2oBLnYFOLWY8QhN0tLrnX4y57D0eUd+ov8TL5rG/1TVf4ha92V5XuPu0b3RcxX6g9L8\n",
       "pSIKMKlatkOOP62fwq19c3blqbNfpGChUOWmONIhvjbLTThepumup+uROb7tPftetf6zgJn/dzJ8\n",
       "8nk5RCvM/Fsr5xRHs6MNqLwp29iTNmv+QAxffvZT6Ry6lj00z3EmZqM71vFYudB0BUV1pSvmDiW2\n",
       "pW7Bb3mwlS/9Wb8pFsPdE1ULGr2NwiVF00rMZyD6cVkbt8tthvHMPGWtaJcUSuTmh3ClTSgVzObn\n",
       "F9DsWOzSeWzRjsrQMcymHT7pn0dKebm7q5Dr97wqMLaoyDEvnuwpTJNl8xKcqmET5eYGqKkuDPF8\n",
       "7QkwaGqBLrT6buAAbsa9DLoS9p3/AVMovflsVNfd5QzCldsSjjbWa7+pIVnlCg1E+WlvE/JCgZxv\n",
       "fbkrobGp28musdYz7bQIyjld89SOEfuN19vei0RV3y6xCncBatGcBbGxiJt53FA4PCLwBD3xmrCW\n",
       "/OWi2pAwP/2vtcfnHPKPy2SYwzdJmMUVeYoH/KRqDS+SihrkTDP02IVWibefaFDiWdpkkgoT2S0Q\n",
       "4baE06ujgGyXsfodrb0AAAPKQZokbEEv/rUqgQGtigAuV4Jj//0gsWngrsM4+NtLSLKB/JHjE8EV\n",
       "9Lgp9nZn0wNod3axzcKKfiTa0PwrpTaMY16CW/j5TNE/PPQV7P1OVgIy9DhO8tqU22pq0K1Jz5nV\n",
       "1amcXcSYt4moLR3bKa0UBVFzt25PEboqKJZFfikNh+zi150tJDe6AxbvUwrDS54aoHYYutCN6TFm\n",
       "rvPRuPtVleZ2fnszr6J46fdznkWdg4bDEyA0z4tW52N4En1L1ireXEKsaLgPdqI262qALzek3EW/\n",
       "qHgasSNGYm23W/04WSPPorTlL11Dcf7xIUBWxKeJcDvmq7GAYduBvHCOHcaBxmJAEmE+c3BsBMqz\n",
       "4HmZzJvGWDSGr5jrLjDDv5XqvXghIvehncOPPvFoEhGCE+0XJnpT7Vlxv6YJBQWF4hICSxX4evG5\n",
       "Z6TOiD5HlysR0zjokVMYeQzgqxKscbgKeSbsyhnV/zrtOUTC8O23EgpZnERBf4bZ5XU1jt0ak0uc\n",
       "P3AdROl8ulXcGPIvRvdyhRvFTINcawuXhRSpL6zHiMa8Ujn6PC1nqSYAc4gy9eI9bg8Lwaj84Zut\n",
       "AaBkYArT86gk3eXbKQOAyefa1WDzfEUIGumcJUcRf3DZYCxoEpNBkCzsmJd6nGuUND+4Nfs+gFCB\n",
       "RsR/6SZn52uaqnCnT6yqtzAxyXRtqdHMLwArhQ1xOTwcqC+HDkNBEKDeSFGVW9lKAw5ioApBqtYS\n",
       "NGtzYBEekn609hGyrboEq8NDaj8UBiOZCJNi7wTfmitZclvopTvslxElwtv1ZPdLxL1z9GwXhJfX\n",
       "ku4zcD4spqfOwWSr4b73XwtG1G9LRSL9GLeKPI6x/vpywycsN+9t1PgP5hbMz5zTR7RIGrno3qlA\n",
       "80KOdZGHnK6f9FUDcg3WLc0UFJ01slsZeUPI+qDMsmmivgYXY7b8GoUwk+1xebEIOEwvuGYPD3a8\n",
       "yZLZ3AOSFy+f4z23/KuP5FxPCVLFdl/n8l+K9XujXb8IqXm1eDSTuVl1ZYnrObqHpe34M8r6VW4M\n",
       "qAND17SrnXIgl+cHfZe/vn8GEKfVBDg/pSLLt19UH+GZc4YzhS9t0D7lIhvyIsbercNuuvzmR1uG\n",
       "zdQWEQlXUVZawA+jdXwO4Un33MC20NWbosgR5Xl5yibUKjuoO7/tjGJ9TCX5+buntyzw5YCwITOh\n",
       "ybu2b9hj6MY844B/W7EpJFKi4yHB1vyK/h+FxSN7LrlIFu4RUnMJKNSGhH+cRInXdrrLzbVeEVw+\n",
       "kFqOx24vQxISMFtJ9pcXiW906QAAATNBnkJ4gh8ATDz28wAAQ/avooGM0MNMmhj7FqjPwmL+22pq\n",
       "2iiNUhO6P0pOEX0Nv5iHLRq2TOqQWqvZUmL+2KCAA0cgoG1Ep9jL9pEbycNfSCKwedQiyY3TZk8R\n",
       "KiVM5sUcWhj1lzpDN7a9DvEXqUig7bhfagmeq/V8eTd20mh5KQ2BAeNu0gKjdbN4ZRgAymgSKRMw\n",
       "vosATZfjZxeL2qWPdT23NgRbL7aMq5Dl98NEaivH2brq1MDzLTzE6Qmql+Dh/+hcvT6qzhE6YmFN\n",
       "ETY7/hY+q6R0uI0Yw4fowFmwKOOsl9PGgCZh32swYygCb49GOUELIvnjYKfLZIsmT1yvp+rJ5IAU\n",
       "YOartZz2WiOaKkwtsFf8gO/h4Lj+RZJF0c8FB4mNDC8ljRKmGcopOUXJWscFAAAAhwGeYXRD/wD2\n",
       "n6o50LP4xaW78AGz4EzeX3gXi/01WdRay9YjqaA/FLB0rIr5xbDOdWj/C/ooXY1P7bdB9EO3Q02J\n",
       "VuFQATk6fMytLrGR5rqklSbBmmXGpSiReOjMRH7Lb25+jZl9o3VnQ5J9Y03PvlmitQHL20R09c4j\n",
       "HYLaP9hmAPmvRlSTfAAAANwBnmNqQ/8A9jpn6Da/rqACH1qc12V77SJPUOFHeC5gnaox0RESvIiv\n",
       "ACMJdQqr+47a9cuOwpQJuG7zRiJH53nM3987bmLju0YjzQCzNjL+Uuo3Pd8hHObZIzkw7F6G2cbF\n",
       "CNrYN6kNYmvqQi0yu0jyUPg9pzMdddu0mFh3PpMQRTFkMirGDuVRUksw8n/ZM0SPXqhGrnn33sfZ\n",
       "Fp0C9VU8heqMWGs9fV+cFTZKDkuVpz8yn0260wdc5VAjjg29WN/PcmsxMHFzffIJnk4RamCbVxMt\n",
       "Iv8g7MXlWxMxAAACkUGaaEmoQWiZTAh///6plgba6V4ANiUbwjd40y901WLTzvxtpBsgb9mTKbCy\n",
       "HqYxf+mKwUUn3zx5QynFr8gczTn7dEzKD2qJY1FvLC4zAPAUwshc+jxtDep3D7Qa9nnqQay+8ngH\n",
       "Ypx9T7gcilkyoXiCTxJjqwExEoTvRS+flpjDJGgrEXM2xulEqO1Aw/cKBYtLBZctyQA2lBt0usiW\n",
       "YePQOpc2GxhhJjnVDSz44SInWZEs/vBM9Z8KK+J8qssrwBUWbntw9iShmCbI2VXz6mxxT8gOc0CI\n",
       "w9cwLO4QmGI+2oqzchCWGpwgx5EwBrrJ0f3A/Doza+LI+m+fcwZmGg9eNvGMAS0wGyCyKiiUXTqu\n",
       "VMEilnrQVbws5gp8LUwnYTfhAWgnZMPsyj3LXnsAs/addmPb9VQkuhF7PlD3PnSK1eRO83oD1hME\n",
       "Oh3K4UaFOd0m2YrndOtgFMgk6CO7I9Bzflrq61UnDtTWCafJzYQ4LmqRxSFvadb20vRO2rlnS6gA\n",
       "eX4sss4Vn9uJ4u/m7PpBSOBkyuSKkycm2xPDfylHvFgenQkITaE/eI7bQ/LTskZj1tqX9cvJ3VKa\n",
       "agv6jdEM5RI+ZQWFHdODFo+TjTSgl3aro5AzKBOqxDQNkZ0Yfi3U0ZzIZr1GAkKwygzdL30a+eQL\n",
       "n0VPNHkjvmTsRuBPXrWwnSUbB3NByDel34bl7SLsaell1HRG73Uk27/bhsSWv+A1LuxWqDnRjMqc\n",
       "I36MjxO4fR11bCfZh873rqmcOmVxKdiG5PNE9qJTjuzIT8pcKqPGeS7JaBEp+YS0kxfiQ8zB4h/c\n",
       "4ZWVH40xEiJ6qfWf/VBEjeyxyhXhxiNJRwDvS67eoNNhGDe7zw1vp0eakQAAAalBnoZFESwQ/wBR\n",
       "Y38YAJwkqMXsxCyG/2zFpVOnfxe1WgQmXbZml9p+EC/8wCs+h1xgiUJXx1C36LVucvkowbmKLT4M\n",
       "v8yEdPdafn7ewMgu/+OrdB29pu6W7eikVvpmiE0S3Basnkoc6loU+zE+O66uCRHJnJK7bybymNP/\n",
       "733VCwznSkQvpGSJ0WR2whHZ9Y1iQXx4Yp7cvirZlFUrbcQl7Y7Hj07z2Lx/PNOALtjsDeAOwYzS\n",
       "EW7TkOztrP4VatP5WO4WgAg3Sn5vPkzYWQoVipka5K143OP1awd8RPtgY4+J6cTLBnLNIQVGz5W5\n",
       "mTJqEI+zjHvfmsQq7eBSJKy418gu3GE5sEIAXuOCPCcLBRc6rGWlup+kQhGKFk1osNpMzpkSLcYn\n",
       "0aLp2X8E3hqq06kQqfxi3YfrnuOo36tjaJheWz152JTCYonbRq+XncStfuUev1wxQE9QjLaC1Ldz\n",
       "pQ5b4NxtflxeAojBVOQFAWCNPfIs9LeNELC7UAxu+wj+K/VEQPLq6BF88EzWxjoywqBJKTHRSIXj\n",
       "fnrA8xFg37wtAtnOechLwQAAAPoBnqV0Q/8AqajQAQ/GdTy2adC4um/REVInE1NNXCvLe7aR3j77\n",
       "2Ejr74SU4TYY1qys/joYWBg3RMMBqlhwq6cs+sX65R5C0jD4iOymiAtQXk4Dtznpr0dVYRyzWs/o\n",
       "LUz0CWqzz6zRcUAoMaWEpylXAeHUuTVot9sAqz2JFpIjdm/3CHw2HkSWBk7zzkkBbZhx5FogAO/j\n",
       "z3EyCkhJO9fNIVsd7Pdf4fxQzlqQC9IBFwHK782ym3ihs7Onv0xiXd2kLbnfEFI0Kz2dSQ7V+amq\n",
       "Nj8MaykeFdxnF4fNXPnLHSuOkkpE0c7SW+xVHnebzX0ytyLgIXjAwFHBAAABMQGep2pD/wCpDPLw\n",
       "AbSKYTy3WjqxckKAVr8k6FjlrYOpAWC8H5TmuE8vSU8uEhwpaOIhWfNT5slQE4UBW9CrARtZ94dr\n",
       "WT9TvXk+SmZwnM1Oxn7wnb6kVLbCmQkJrjfEljcysnAkcCPwLWF9QzWr25UrVSVROckAGz71B0im\n",
       "uQpdsSKhz01hdaDhxM8UuNS5QVk0i3BTmZojfxNhECBj5e0lIAq6ppk3aJuNaJ/WvwxJxXNNBMGW\n",
       "34bj1X8aRTMPWn1hOYLAGsQ6/jmbluJp+hlOSPTBVMhEwBRaKfS4vGMHVMs/9X7rAVz2rIGAsLqv\n",
       "/gnA6LD1+OCLN/jyp7LbRq3fhq31lNsAC0m92PRC2Nb3CwhPJb1eAUN52rYbZXStLFJgbxuVosp4\n",
       "1iAshwaVlf3AAAADnm1vb3YAAABsbXZoZAAAAAAAAAAAAAAAAAAAA+gAAAcIAAEAAAEAAAAAAAAA\n",
       "AAAAAAABAAAAAAAAAAAAAAAAAAAAAQAAAAAAAAAAAAAAAAAAQAAAAAAAAAAAAAAAAAAAAAAAAAAA\n",
       "AAAAAAAAAAAAAAIAAALIdHJhawAAAFx0a2hkAAAAAwAAAAAAAAAAAAAAAQAAAAAAAAcIAAAAAAAA\n",
       "AAAAAAAAAAAAAAABAAAAAAAAAAAAAAAAAAAAAQAAAAAAAAAAAAAAAAAAQAAAAAGwAAABIAAAAAAA\n",
       "JGVkdHMAAAAcZWxzdAAAAAAAAAABAAAHCAAAEAAAAQAAAAACQG1kaWEAAAAgbWRoZAAAAAAAAAAA\n",
       "AAAAAAAAKAAAAEgAVcQAAAAAAC1oZGxyAAAAAAAAAAB2aWRlAAAAAAAAAAAAAAAAVmlkZW9IYW5k\n",
       "bGVyAAAAAettaW5mAAAAFHZtaGQAAAABAAAAAAAAAAAAAAAkZGluZgAAABxkcmVmAAAAAAAAAAEA\n",
       "AAAMdXJsIAAAAAEAAAGrc3RibAAAALdzdHNkAAAAAAAAAAEAAACnYXZjMQAAAAAAAAABAAAAAAAA\n",
       "AAAAAAAAAAAAAAGwASAASAAAAEgAAAAAAAAAAQAAAAAAAAAAAAAAAAAAAAAAAAAAAAAAAAAAAAAA\n",
       "AAAAABj//wAAADVhdmNDAWQAFf/hABhnZAAVrNlBsJaEAAADAAQAAAMAKDxYtlgBAAZo6+PLIsD9\n",
       "+PgAAAAAHHV1aWRraEDyXyRPxbo5pRvPAyPzAAAAAAAAABhzdHRzAAAAAAAAAAEAAAAJAAAIAAAA\n",
       "ABRzdHNzAAAAAAAAAAEAAAABAAAAWGN0dHMAAAAAAAAACQAAAAEAABAAAAAAAQAAKAAAAAABAAAQ\n",
       "AAAAAAEAAAAAAAAAAQAACAAAAAABAAAoAAAAAAEAABAAAAAAAQAAAAAAAAABAAAIAAAAABxzdHNj\n",
       "AAAAAAAAAAEAAAABAAAACQAAAAEAAAA4c3RzegAAAAAAAAAAAAAACQAAFQUAAAPOAAABNwAAAIsA\n",
       "AADgAAAClQAAAa0AAAD+AAABNQAAABRzdGNvAAAAAAAAAAEAAAAwAAAAYnVkdGEAAABabWV0YQAA\n",
       "AAAAAAAhaGRscgAAAAAAAAAAbWRpcmFwcGwAAAAAAAAAAAAAAAAtaWxzdAAAACWpdG9vAAAAHWRh\n",
       "dGEAAAABAAAAAExhdmY1OC40NS4xMDA=\n",
       "\">\n",
       "  Your browser does not support the video tag.\n",
       "</video>"
      ],
      "text/plain": [
       "<matplotlib.animation.FuncAnimation at 0x1225fe580>"
      ]
     },
     "execution_count": 37,
     "metadata": {},
     "output_type": "execute_result"
    },
    {
     "data": {
      "image/png": "[encoded data removed]",
      "text/plain": [
       "<Figure size 432x288 with 2 Axes>"
      ]
     },
     "metadata": {
      "needs_background": "light"
     },
     "output_type": "display_data"
    }
   ],
   "source": [
    "import matplotlib.animation as animation\n",
    "#plt.rcParams['animation.ffmpeg_path'] = r\"C:\\some_path\\ffmpeg.exe\"   # if necessary\n",
    "\n",
    "# Generate data for plotting\n",
    "Lx = Ly = 10\n",
    "Nx = Ny = 11\n",
    "Nt = 9\n",
    "#x = numpy.linspace(0, Lx, Nx)\n",
    "#y = numpy.linspace(0, Ly, Ny)\n",
    "\n",
    "x = xv\n",
    "y = yv\n",
    "\n",
    "\n",
    "z0 = numpy.exp(-(x-Lx/2)**2-(y-Ly/2)**2)   # 2 dimensional Gaussian\n",
    "\n",
    "def some_data(i):   # function returns a 2D data array\n",
    "    return z0 * (i/Nt)\n",
    "\n",
    "\n",
    "fig = plt.figure()\n",
    "ax = plt.axes(xlim=(0, Lx), ylim=(0, Ly), xlabel='x', ylabel='y')\n",
    "\n",
    "cvals = numpy.linspace(0,1,Nt+1)      # set contour values \n",
    "cont = plt.contourf(x, y, some_data(0), cvals)    # first image on screen\n",
    "plt.colorbar()\n",
    "\n",
    "# animation function\n",
    "def animate(i):\n",
    "    global cont\n",
    "    z = some_data(i)\n",
    "    \n",
    "    for c in cont.collections:\n",
    "        c.remove()  # removes only the contours, leaves the rest intact\n",
    "    cont = plt.contourf(x, y, z, cvals)\n",
    "    plt.title('t = %i:  %.2f' % (i,z[5,5]))\n",
    "    return cont\n",
    "\n",
    "anim = animation.FuncAnimation(fig, animate, frames=Nt, repeat=False)\n",
    "anim.save('animation.mp4', writer=animation.FFMpegWriter())\n",
    "anim"
   ]
  },
  {
   "cell_type": "code",
   "execution_count": 38,
   "id": "6bfd5963",
   "metadata": {},
   "outputs": [
    {
     "data": {
      "text/plain": [
       "(64, 64)"
      ]
     },
     "execution_count": 38,
     "metadata": {},
     "output_type": "execute_result"
    }
   ],
   "source": [
    "np.shape(y)"
   ]
  },
  {
   "cell_type": "code",
   "execution_count": 39,
   "id": "511613e4",
   "metadata": {},
   "outputs": [],
   "source": [
    "import matplotlib.animation as animation\n",
    "#plt.rcParams['animation.ffmpeg_path'] = r\"C:\\some_path\\ffmpeg.exe\"   # if necessary\n",
    "\n",
    "# Generate data for plotting\n",
    "Lx = Ly = 10\n",
    "#Nx = Ny = 11\n",
    "Nt = 9\n",
    "\n",
    "x = xv\n",
    "y = yv\n",
    "i = 0\n",
    "\n",
    "anim_mat = sol_GE.y.T.reshape(9,64,64)"
   ]
  },
  {
   "cell_type": "code",
   "execution_count": 40,
   "id": "5abfd995",
   "metadata": {},
   "outputs": [
    {
     "data": {
      "text/html": [
       "<video width=\"432\" height=\"288\" controls autoplay>\n",
       "  <source type=\"video/mp4\" src=\"data:video/mp4;base64,AAAAIGZ0eXBNNFYgAAACAE00ViBpc29taXNvMmF2YzEAAAAIZnJlZQAAHn1tZGF0AAACrgYF//+q\n",
       "3EXpvebZSLeWLNgg2SPu73gyNjQgLSBjb3JlIDE2MSByMzAzME0gOGJkNmQyOCAtIEguMjY0L01Q\n",
       "RUctNCBBVkMgY29kZWMgLSBDb3B5bGVmdCAyMDAzLTIwMjAgLSBodHRwOi8vd3d3LnZpZGVvbGFu\n",
       "Lm9yZy94MjY0Lmh0bWwgLSBvcHRpb25zOiBjYWJhYz0xIHJlZj0zIGRlYmxvY2s9MTowOjAgYW5h\n",
       "bHlzZT0weDM6MHgxMTMgbWU9aGV4IHN1Ym1lPTcgcHN5PTEgcHN5X3JkPTEuMDA6MC4wMCBtaXhl\n",
       "ZF9yZWY9MSBtZV9yYW5nZT0xNiBjaHJvbWFfbWU9MSB0cmVsbGlzPTEgOHg4ZGN0PTEgY3FtPTAg\n",
       "ZGVhZHpvbmU9MjEsMTEgZmFzdF9wc2tpcD0xIGNocm9tYV9xcF9vZmZzZXQ9LTIgdGhyZWFkcz02\n",
       "IGxvb2thaGVhZF90aHJlYWRzPTEgc2xpY2VkX3RocmVhZHM9MCBucj0wIGRlY2ltYXRlPTEgaW50\n",
       "ZXJsYWNlZD0wIGJsdXJheV9jb21wYXQ9MCBjb25zdHJhaW5lZF9pbnRyYT0wIGJmcmFtZXM9MyBi\n",
       "X3B5cmFtaWQ9MiBiX2FkYXB0PTEgYl9iaWFzPTAgZGlyZWN0PTEgd2VpZ2h0Yj0xIG9wZW5fZ29w\n",
       "PTAgd2VpZ2h0cD0yIGtleWludD0yNTAga2V5aW50X21pbj01IHNjZW5lY3V0PTQwIGludHJhX3Jl\n",
       "ZnJlc2g9MCByY19sb29rYWhlYWQ9NDAgcmM9Y3JmIG1idHJlZT0xIGNyZj0yMy4wIHFjb21wPTAu\n",
       "NjAgcXBtaW49MCBxcG1heD02OSBxcHN0ZXA9NCBpcF9yYXRpbz0xLjQwIGFxPTE6MS4wMACAAAAY\n",
       "OWWIhAAT//73sY+BTcgADZc6inof4RWx9JBRerHZoGTqAAADAACJgfrf2nbevwAEVohkMMDh1nhO\n",
       "imTKO6raCbBrkXRxY3L6sf5uH6n3V6uCvXtLkjktzaqlb/ngSU3o+4jOqEm47DKOInXWH2t3EvUA\n",
       "A+SaBzwnIB5Tva/cPrh1T/ytXo57rOnl+aKEtdzNpWZ+3XtyOM/1Gmq0cGw5CncBEjOn0aA91YAZ\n",
       "S5bglzG6kyyd3IcfC7gWP7j7dRxcUkS7AtpC6+9siWqUni+3V4VcrMSkpDrupmzjINod07jL43mF\n",
       "q4pdTKQ6UNxVHa7XaevaHblSHySFNjQFi4k2+GK8VfrufQMJQ1DX4g3mXk97DZH5X5w3VOutbp4c\n",
       "39BqxurGZ0xnYp6M0RYreYpnnR+fbNQCJ8Q5BDJ7/8vUMu7+PiptCDFJbpKrOSY4WOTdUI3HyKIj\n",
       "eC6FQRaViCprRN6dN53XV9SOZ3Rw+BXUalQMZC8V27zWEIKQZTBPeSGhwdwRERgGfJjMIy+8Adut\n",
       "7wnIVIVg1ozQh+M6205Lpgu5Bu7tjPEotfVVrv/gAcgv8Zy3MEaSrQ/+Mjb7J4Eyl20IF2niSu5M\n",
       "iASiMAi9FwEs/t+tB/bULh6UPAyyOfliRf+hSFswBUCOWqMH/jDRo0VDByqigkHAT6VqLdFh/hrM\n",
       "conq4cTLalXVhH4HDKc4DEmICJAVl+Q8KRl0z/Sy1IPJ5ZhQAR/8WxFXbtlF0q/0EQzsBiEc554V\n",
       "oTYaTYDqTgKUt+CCmJW/Gz0v4wJlKtcXCEeb1rNsI9NSHM3HEbeFB+m09XLlV/DAa8w4ig3rIHF2\n",
       "Lg6IBwOZ4rSWKTzxr2a4eHC0KyXAqa1nUQ429WGbnd1DhfOBLKV+/s60z4/9rlAzRJp5+yaZfqpy\n",
       "Fq1qd6mqsA47hYt4M/RG7uio1+UAZ6w5GCXpr6tjYT+jwagTAvSdUOTmCRi2WmSxxjFCKDHUrqHf\n",
       "W3+7lOWVL5/F6rnjXL4XXqEuytwZG1lerizLaxOwUx59OK2PabdTfT09U/hilet9s/kHZxMYRpd/\n",
       "ZN3JsXC71VhekVLS5s9jYyDQyQpGgfN+5S+gSeiR9ugwaZ2r05S6qYk7P2wcgYKfkGf+0kNoxZ1W\n",
       "a7wlxPOCqlQKhnMvYyl24dB2fDe/l1OdRoZvBt/a9XzEnMabNmwhMDuuwr9E5rFvA71dOG36zfUc\n",
       "WlLgQlrd9PRKGHJSqcOMXHYGEFwTSaV59UgQs2hrVKlBOwqMUsWDNCmkhi37O7w4LzwIZXIUyM7j\n",
       "aXMqOGv1D8+KnCF+dFf/Do7+uNfvYJO76ULcQudjijeK0Qq9hXeOGGa9i/66L4d7T9I9PdwRV/bi\n",
       "hBR0cF8/ZLZe/hmF59W2nE/cvxHS5F/asaPJQvFHxYk0Lqc4aVm/2GNUiZZWC/nohfLxtTlbJzrD\n",
       "ih86V5ItX5+MPVHEe3wuYwR+StFy3QT1Iv2xIZV+acrshMJjr11S2N7oeseb3BxQIkLgXE//X2bS\n",
       "USHceThMqNV3R0z4irdzfUxVbq9paHTiqLa8Z7ZLCp42ToLjEljJX79QVOeevEjHeTZ2Mup9YjVa\n",
       "5AQzJvG1ufmgV+Rm3oqvPJ9QoaxU87BG2+4RIsry1smqFmNpLW2Yr+owiRbMhWnkjR0tyOtDkO/m\n",
       "FiuOAZUm8P1H0yEfriDWg1NMvi2IkjhNesq1jjs7x6kMT7UeEl0Ssptv7bYlf/BXEmr5k7yirWHv\n",
       "Jebr5ExNaj0TwVC4QsxVsCiCSDqcPXdeGUna72XN3xOGSdc6eQr0e5EPGL7VsE9MQBsNy2ih6JDh\n",
       "0/aAABmqHbvosFYjM+Sy9tO7H0IUJYLqEKEoZmbq6jz0V8hKK4ykuheW3Cd4xlQbiW45jvGJJL3C\n",
       "MgIVhnWo0WR0DbNzOgY6RlyBCcxFb8mVPmIHwT3exEoPmg3NLwBGVj0/gmmPJ7f/IoIh9H1muvq4\n",
       "0KKki+vmy4W8WOTHgrOEwwQxmrihZD5Jym9kQffn9Z8O5m1EomqrZmqvFKSiLA9uCw/cCF3xKx38\n",
       "own4DLK4DofiZbym9KTKG65koHEOKZzLA37fNll+/niNahpczXRCvtL6kEjXUCqn8GAwVohLpDYF\n",
       "LPJYI+DXoPXfy4eKydAcNVcCQlLSoBgS646HaMmc5WKiMFwDD12gtFCoMtw2pMQ7sjoQQ+vJKSWG\n",
       "D5dcdFizJZkwkfO0QQ9958EXBtdO6maBAmrppwckcTQqKtC1V7BjoTc91K2L9w3gr9CunIU03ERM\n",
       "OlXnJVW7k3ILF6pKN5Xf+fmPgolOlWWz6D/ahH70YF6YZIkaoWV4QVk+SnKmqGr84X2arRJv9jRS\n",
       "v3wTFLh7juU81qOqLOM2VsvEsY/TmR1dmAoYy/9wj2eftuUR9CGUouvtJf/lqXekcWUyCEbm8o2T\n",
       "if7TVFiXL9D4Pk5bAbjZi5IPh2w0TS3fFvf1fnKZRp75rwsQ/K+djDsurX6pqV0kDKU+DCwK07tE\n",
       "UYoVztRkkT0da1/G4nYl77JpBQ5DDGHrCkhjMbvLON2WQ/2PuuSraKLnSziA5jgG54JtuIrbOxhc\n",
       "xX+qGCVDYL6O1bEf9kZLGsQVrkBDMm78vf5WwyfQ9Fj+PPKWucOY7gfpph9KCgVizdzJKsL0MflD\n",
       "0/1o9x5euIn92ft9iLjYGTYz8lQQLkMDUWAA/K7czcfBSYDyhtvf7Le//hjOslZsVK11Q880dIyx\n",
       "pBQD6U83DQno0cwIGzKriICCEYKRRdt8stw1DNBxaL34pRV/ApwN46c/JaCmRNXFbmUEkXBBm7Gk\n",
       "0ideJw0w0C5kRZNADZMW1mRAwMCa+7ATrYvevedBDfMV+WaowbGs3oRBhVFwsJh2YVoe/xMWCnMx\n",
       "y6JlFHZDNZe1tMCHXV4lwJfcB93Nq8ER0wQ4utTTyr/X1Izzpw91sfzfBNktlm4Z9hAlrgL0jSvG\n",
       "2wvSgUbXdzlbFENUO/B1q/0tavzNpqTplxCZHIX1ajbDpey7aRblGU8dmf7Jz+f3QwtcaeDG1VtN\n",
       "37M/tqkFF8ZqEbCmA2D+zD4BvwG3DCjBDpf6vDCl1ECBB9pAexvJQrEqHVJuMxnOB5k296gM+DD9\n",
       "9WzPsnsrc8TQuCUE/9OETdapZKpRhsyGrTX0fpEUcyVc2G5VJrHkHVa9runcPKO1/FRpMDCJa5LT\n",
       "4ZmMa83QqwOoGWRbf5OMkOyJd3qAGQhsi/9r6C1kiubr00Dlze1BxNXY/3atV74AlCLldjMFUEEr\n",
       "YGtGu8VVRKpRzL9XAiKTB0tZMc5i/HkkEkt49T+FGNduAsWtmcdECR5uCryeWYUAEfponFCKywts\n",
       "2dSsNCG+zGniGYHvZAXUwMArPxfBKZzwmkmvJeAnaM2CeUeQ5jDPLckMTeBJQsq1QgnH7k9u3jxv\n",
       "+rFGu3nwfu48UdcmVY4NGL3mP/+rlB9JkElsG1/XSBUp1fe12yTTnz6er5/jGA5jgzqFcoRZGg48\n",
       "5SpTRwqgbbt8KLFrjNubI0xpJwHioGEY8B1e2qaVe7LJSzC24aDEZUcOY/I1IiIWyrAGXc6EvZnD\n",
       "AZ3ruUvnR8aPWsQpGTWGi9sGWLOwsksqRr2lZfL+oB46LGvvT+Cv8vGlfDO0ImgAR61FO0DC7+JB\n",
       "8eBwboTJAVQU/3pe4V9aEbs2fJXEm6bJ72EVaeHtqA7GFRAUnm3Glu/lgjU1i9NyP+6oNWnqY7qD\n",
       "N72b/JxYa7A9K5TZyBa++jo6ZJjLqJCyWLO0guEgtIWPmS6/Hp2zNY6n/QMGwWKcGfbc+ToJQIq2\n",
       "BUZFsxT1C1fuT5sFa2Osrgr8Ohpsw5ug+AbwaJp+rB6iubSb5o1Pz90vCm0IX/KRNNmHGADSyo2Z\n",
       "6Ke7ksSl4K+XtPubhp9jrkyJJsAYmZvazZgFcF454cep3/FuX7TZjHs1d36XEVxCFq+JOYcJblIP\n",
       "PG0+snZ/uJWvQ96UTgk7T1Ib2HQ7Or0HKRC8u8bj1DvX9NW0Hjsqgr9puu2y53WHdwcu21O5DnQS\n",
       "LxFEK8CCtMY9CxRNEANUWGrw2G1w2+4UxjWXC0VIepnXnggStJ3f+BxhoLJkqcd65Vw9RYRt/H+3\n",
       "ArON5HPV+gJf5U7CF6nk+9uB7e6oPBf9s7rXFYQovzYmm+SAoHEJI7srdx9tpYR4fIUGRYAPYn3c\n",
       "JgfPOey5TzzXkqFA67VO6H0B96VRtRKpkdrYEHqipR5zoB8GQ3bSwju8wOk/sYQOlAOq3GwV/GPy\n",
       "h0xpzWoWSVTkG8aLFLfNsrV2LtNm1dBV9Y+mGretZedtbrKm6y/sfXomyClQXSq1q3LbAz6QmLop\n",
       "5yJKNqQ7VxRtjcPIHCbLO4zfF1YLQiEgTvydLryWiJSXzym98iQPSGVFIzzucsbquhow6YCsxrTb\n",
       "4ONNba34loildWmIxzwwBd/tC2Fz/j+gmMh1oZhWhxpwM63pkeZYKxIYTi/2GKbqgurqmQL96lk8\n",
       "Sm/C77ujBf/lHnRmsO2un9ZKwZvlGZ0okI6PRyRpABWg323/VVrA7ViklxqauRvT53aRjjv5lmSO\n",
       "1Tr4hcHL3/K1nJnZSNmZD5shZJRnW5KEbfyfJgeaB0VSjNKRTXmcMvM+9kQtgsbTpEj1O6aILynr\n",
       "V0C821dNdrokuHbcEZa6jfYyIDX2YKftrR4f8OpNyAFR3mo0C1PiprVRNJp4HZPHm1/9mcfiul9a\n",
       "NFHJe/0QZD8Te9uKNh1A4D6Xz8BQl5BViWG+tsX7YuLNduBJKhe95ksp13csq2lk4euJ0tDMPu1v\n",
       "jee9cAMiwg6CZSvd7Zf0XIxW/zEXg30T41IQ/sUZ+dqwyVm+acE7TN5MgSX4SLK6qWnZgzel5uvv\n",
       "ldlN953rRd7PxRNX7Imv9ap99osCqsv0LZGOX5W3Y6L0AWIOXhiidnJatzK5QTaqUxGxfJKJavxL\n",
       "uRW0yuDgFh/nv85rEZWJKmmq/rGXm2g9fr6KNFENnFXb5cwVslEF7A8yjk7ZK7t1H8DTBlddDsio\n",
       "eW89cO7LgiIuy1/7TZoJ0z+pIDZA534OzP760j18/23Lp016qCQ7OvyBorX1cd1CSk9nJbwLXl6v\n",
       "9OQHotmmENOsZUia2TEEcoIQKXPzg1awrXNeys8+KBNe/UzqFl+t2wlRbYMu/35u47UEENsITStM\n",
       "iT63LySi8+gtUQWTzAqRiianUXqtbyhzxI58QOYJMQ5gjJHZ+AQArDgI+D1RiJG2THOO4aTmgpm8\n",
       "iwvJdYbKR+d/c/Z04wTr+1sEuDBm821KxbYxIsDu96ftC5NDoaIV5Evf+3iTpsnexM/WLpPrR+dK\n",
       "AgQZL90lo5sGlehIhtcU+Xiwlk23kMMXXHabtSuwKYC5nFA7wmURKrPItrtLqirBKp9pUEFwhgWG\n",
       "6aE/JjDuvs7YDvFO9ybSo4XL6ZhE3duD7qKuDMUYurJi8d9wjE83DOCWKj1OUY5OCtTUD2Oly2UE\n",
       "Nh8zM/0UFvCn0Wrc/IYh4gPWxy8Ivrxucl/GqrJ4jXqfK5UksqtS9VP/M06N5xYJpUq8arNMMGr8\n",
       "NTBGn8mbBBqyYp+BJCiCgHpfRvgkHvKPYGSGbGO0HSlKXfNqUAIWG4VKsmqiCD1hXNoBM3LfVLUm\n",
       "Y8/1OjvjYqQ/GvdycAqor+uRMzTEuxo+5FWuWHxDA6r1CZAlAGcmH9WiqKDqvAtqvphz0WcobmwO\n",
       "mHNrRZyotpglFPNSQRmbFajozTe8K0QTTnf5jqgnkzJWILANFPmKA4QNurCUlbbjNBeXUlVH54ns\n",
       "mw1tQMPwPGI26/2nJK9NmhOGgSHHu15aWKkIkmRxwAGgfzQDrAPIsECN+3pWRE16WTqyPyvPnDgm\n",
       "Z4B8TYy1YDUQVCTnAnjBUunj11RKsQ+cQ7gwuZqEUMshCakul/JfVw8Zybb9Uy9CP48m9IFVsMcJ\n",
       "g8/lMv6lIETRFBoC+7h4qeWwFpn7WtQUzZaCPvAPuMjlEVon7F2UL5DK0Z92PlrSBN7f54NUdKaN\n",
       "YeVDNAGT8s7xqs0MR58kMupFLbgGwzQBWXHIEdxqoODe1IpocnpDmZmqERThICb6dT5b4OHYzFgh\n",
       "61NT2KaRLU65aSvmZ2EFRDVjvouHkaXpzgFNNkUAIw3FiFFZf1KXRdWLKYPPylckf9abmDN+nwmc\n",
       "F3CEztdfb2bM4pix9h0LzNKBq0tvFhybBqzyws2bJlEFnAfnIiDnnD/tOSyVBlNUQ4jh8gqk4DWp\n",
       "o20os/9Qcu4JVyUsVK4OfktF0je6fsrmcceERU/q9DSNAyBYg3t1pmvfmAGtn/XNrRCj0Y0nro2i\n",
       "YZ0bWfDx1sdVzKmGI1h++ngXmyeTX3RS332sg0RJYt43r+31uf1nm5kVejcTDIaibXnkyXtZ8Nip\n",
       "2SzYwan3HFXUk4V4sYIEm1ZkJ2sElAK1n2QbeMbaq3LOU4oH4xX0M5XxQ0FcRRgSe6+I9n2nhpaT\n",
       "rhsordzPcr3eBvABEbKAgK6M9E8k5NWA+hHwitWpNorItMjuEhmBIJ9ejjFWcjRJW2ttI5Ri3El2\n",
       "P0LFW8NUgLu4ZY8FMeA7dKswKfQD66vBI6URm99PSXC4P1hQuIe+yeKhwOmWomYlA21VwoWv5U9u\n",
       "SKbc/pbwArq2msLMmJRZDw/VZVFdZ21KNpS4kUmu/RaCZsJfQ6xWFklnDrF3/TI+CtUaBT6cYlxE\n",
       "pCrJFoNE23+ro8/hglQAlDI2jzf/gspqQfjaUINveYoEekNGDDbcjSi8xsW0n4dyAD7xHH/LMQx1\n",
       "TZkFU/0DahESz7LianyQ7gCWUXNUJmb4tLYspAamzwFnPEUzjbSiCb+TaVz+zPkSPyBPrP5CSyg4\n",
       "G5ypLLS6qG4OU8OmyU8eMu5/MFt/w9FrySbe7d6Lq06HpLQ2QtJOwrlLlf7NuspBZ7UlBRJ/NAie\n",
       "u3sZTayKrrPNH2m7YC/4FgMW9AA13c7FfCJRzXw/KYPaZVL4kw9nvje11SAAP6xtF9b++XraqOf/\n",
       "/v/+CVMCXmBR+6ud4zpB9+dAAbb8PCHhSDH2nDZQtC8ZFa+LmTrHCB/h6bJUrvKvFjpzyxrwpo1N\n",
       "iGLyFCHIN0YfjoDrk4HiMzU2H3sDYFw3H14eMZDaKMJg2bfOCYO385YNW/OcQx1/7N6LVXd1vJOO\n",
       "dfOaDUSFIUPImOjawomyS6tZMS8HqZj/iF8Ay77Osa9nnbCM6RZzVW98Fw7stVOkpKlM9WGg4iKo\n",
       "zJM1bm3FdUJWQCbTsQvo1A6Ilz3b23mh0hQr/Amsldt7hgSwDd4+Cfr+p6C5a+igV/pSf5roeAB0\n",
       "b54g/ufqDxHKonw+Bmg+bW8DmjXK62kRch1wLor1PHyRBMt3O7iaLsW6oUnsNn/FKY4xWoFceszi\n",
       "DppIlD5hYC+c+u7qi0aSVcTddT+dDHMBgWI69AsH3uISNipCnQutSmFJzil1peWA1t2hJDGmYSRo\n",
       "w4e5hMEk3vwxrMm/8JoI2Cq0w0dJYeEmuljtUgay00is97XTQcsh3suZ4tjKX8usXFz9/UuVBnpl\n",
       "GRwFbxaEAZkmQuZqlOQyYXBr81IB/4WoqFQOkQcb9FlrSJNWyzp/BupBjgEZzfPoQgrdd6+GJyoj\n",
       "6X9yEeFztZDLty+5RXu/lk+LQmbBwukWOnECS1OcKiICYokGf2nEQJgiSBFTW0UwaJOkRSmocgv5\n",
       "CxzRQG02BwZaZ9+Lnx3e28sGyiH7hrppHlTpe4VmGuWaug3k6kOB1dXGv1cg3YGpfzB4oSin8iaa\n",
       "6MEx6N3G44eWW5wMGAKP2ZdgZz6AJLHzr/WcBM/7uYXdj9InYBxS7IAlEL+A9vTATnk7t7EmbNf8\n",
       "gBj+/eyn0jl1LHppnuJeK0Z3reKxc6DnLNI2/7LRdHQ2pW6Zb3mwlS/9Wb8pFr8OHNULGr2NwiVG\n",
       "C6u+utvZBN2TuUNthvHMPGWtaJcSSuTmh3ClTSgVzObnF9DsWOzSeWzPs3rQMcymHT7pn0caebm7\n",
       "q5Dr97wqLM+uDivG/3YUps/1ms3WFqhbEG0PqJcGeL52mSYNKjoq3Ld/Dd7keQc1Cr1QHbijvHfh\n",
       "7DJV8fIMrqBemxnzhy58ZsQxgENWQ2PlpbxPyQoGoRM6W+HeuI1574JWQZ9toEZRyu+d9Derjdfb\n",
       "3otEVjsC5Yb24vozNspBU5COx4SaBdNPmD/MOUlk8nKPMb2LSv7lFcsLkqGvw+3cBDCt0mYxRV5i\n",
       "m/+shaQJrdVBAuO3MseLuQ3mPeqFDiWdpkkg5W2S0Q4baE06ujgDvN/ZqABPQQAAAYRBmiRsQS/+\n",
       "tSqBAa2KAC5XgmP//SCxaeCuwzj420tIss5EeeCnesXpPPFKPg02i+PHHcvMJqTMspnw+NjXRpU4\n",
       "GLLQY0f/uNJlG4Df/dMsN+/jbrtT7yOIY28hr499rlEAoXkEUtJ4rvFwXcJXi7OYxaK3v0raSPOc\n",
       "CafcERmyH3OSUaNQwhG6zkjGF1tAMDkhGVIpHJIjQhtv6HcBJg6L3F41aC/NGHlt3sw6eKTMt5TH\n",
       "dL/tjcK0GZWqXAN0YbTs7h7LBlV5RHdd48D+t3ASsdhJ+BzuTBESlzcdtcJ1+EvpmXDZcerfdBF1\n",
       "JPYm/UsywHhuxUCtuiu1DF5gQ5tRlibZTjz5ZIkaCFE6yoxPO9XYDS42wlL15evrN3hJuUfYDG2N\n",
       "ps/TnN0FduFr65go0GPdxi7P+PaOcqaB8PurqvHLw77eWri0qQP7ce4nG5gGHtKgzmkwTfNqBBpj\n",
       "uPb98uusECfHJVJgxYinj9koKk98DV41zOvpf5ExlcfcqPq6+ieLAAAATEGeQniCHwBMPQvAg8Gg\n",
       "A2lCsviqrtPNVdy5ms+QHrKRIDsuJTJeL6lu4yhGKsufjkTFx9NDH4yvLRT7P1GQ4LSFxSnYYRd4\n",
       "zQ5CcukAAABNAZ5hdEP/APafqjrqyszXA6O4hZjymLIZ+qe5l4t390SDdvbFtEACHEl/XhI5pib2\n",
       "+qzSAMmOSVwwSiHiAyKrDBgeZG256RoULhEOJXwAAAA7AZ5jakP/APY6ajkvoAF8wS4MDrSP0wdw\n",
       "OR0uD6U2ckeeTjMVMTLMtDZ6mRgc+CjVo5WuF2WJqHKIkgkAAABJQZpoSahBaJlMCH///qmWBtrp\n",
       "XgA2JRvCN3jWFpmM0nzwms5v472tsmW/SR3j2RPg43x4F+sZXHLglIWsMmkr6lp8NPGB57I7oQAA\n",
       "AEVBnoZFESwQ/wBRY38YAJwkqMXsxCnx/e+bYRSUOewEBPbgY7AAprSaAXgdvezyoHxCURTHUbHb\n",
       "5J2P/uA4A/aTAdEOW0EAAAA9AZ6ldEP/AKmo0AEPxnU8tmnQuNnUKI0MpzdwLEVjgp8axN7/Zc+0\n",
       "Cxc1+06zzl5Dh39h7SsPWgaozjw1fQAAAEMBnqdqQ/8AqQzy8AG0imE8t1o6sXGYrmcPh00cc6pd\n",
       "JPjUukyLVMNXUMCx5hJ7kIXzr5WQeWnt0lOjOyyzJwRaQL+AAAADnm1vb3YAAABsbXZoZAAAAAAA\n",
       "AAAAAAAAAAAAA+gAAAcIAAEAAAEAAAAAAAAAAAAAAAABAAAAAAAAAAAAAAAAAAAAAQAAAAAAAAAA\n",
       "AAAAAAAAQAAAAAAAAAAAAAAAAAAAAAAAAAAAAAAAAAAAAAAAAAIAAALIdHJhawAAAFx0a2hkAAAA\n",
       "AwAAAAAAAAAAAAAAAQAAAAAAAAcIAAAAAAAAAAAAAAAAAAAAAAABAAAAAAAAAAAAAAAAAAAAAQAA\n",
       "AAAAAAAAAAAAAAAAQAAAAAGwAAABIAAAAAAAJGVkdHMAAAAcZWxzdAAAAAAAAAABAAAHCAAAEAAA\n",
       "AQAAAAACQG1kaWEAAAAgbWRoZAAAAAAAAAAAAAAAAAAAKAAAAEgAVcQAAAAAAC1oZGxyAAAAAAAA\n",
       "AAB2aWRlAAAAAAAAAAAAAAAAVmlkZW9IYW5kbGVyAAAAAettaW5mAAAAFHZtaGQAAAABAAAAAAAA\n",
       "AAAAAAAkZGluZgAAABxkcmVmAAAAAAAAAAEAAAAMdXJsIAAAAAEAAAGrc3RibAAAALdzdHNkAAAA\n",
       "AAAAAAEAAACnYXZjMQAAAAAAAAABAAAAAAAAAAAAAAAAAAAAAAGwASAASAAAAEgAAAAAAAAAAQAA\n",
       "AAAAAAAAAAAAAAAAAAAAAAAAAAAAAAAAAAAAAAAAABj//wAAADVhdmNDAWQAFf/hABhnZAAVrNlB\n",
       "sJaEAAADAAQAAAMAKDxYtlgBAAZo6+PLIsD9+PgAAAAAHHV1aWRraEDyXyRPxbo5pRvPAyPzAAAA\n",
       "AAAAABhzdHRzAAAAAAAAAAEAAAAJAAAIAAAAABRzdHNzAAAAAAAAAAEAAAABAAAAWGN0dHMAAAAA\n",
       "AAAACQAAAAEAABAAAAAAAQAAKAAAAAABAAAQAAAAAAEAAAAAAAAAAQAACAAAAAABAAAoAAAAAAEA\n",
       "ABAAAAAAAQAAAAAAAAABAAAIAAAAABxzdHNjAAAAAAAAAAEAAAABAAAACQAAAAEAAAA4c3RzegAA\n",
       "AAAAAAAAAAAACQAAGu8AAAGIAAAAUAAAAFEAAAA/AAAATQAAAEkAAABBAAAARwAAABRzdGNvAAAA\n",
       "AAAAAAEAAAAwAAAAYnVkdGEAAABabWV0YQAAAAAAAAAhaGRscgAAAAAAAAAAbWRpcmFwcGwAAAAA\n",
       "AAAAAAAAAAAtaWxzdAAAACWpdG9vAAAAHWRhdGEAAAABAAAAAExhdmY1OC40NS4xMDA=\n",
       "\">\n",
       "  Your browser does not support the video tag.\n",
       "</video>"
      ],
      "text/plain": [
       "<matplotlib.animation.FuncAnimation at 0x1222c3d60>"
      ]
     },
     "execution_count": 40,
     "metadata": {},
     "output_type": "execute_result"
    },
    {
     "data": {
      "image/png": "[encoded data removed]",
      "text/plain": [
       "<Figure size 432x288 with 1 Axes>"
      ]
     },
     "metadata": {
      "needs_background": "light"
     },
     "output_type": "display_data"
    }
   ],
   "source": [
    "\n",
    "Nt = 9\n",
    "cont1 = plt.contourf(x, y, anim_mat[0])\n",
    "# animation function\n",
    "def animate(i):\n",
    "    global cont\n",
    "    \n",
    "    cont1 = plt.contourf(x, y, anim_mat[i])\n",
    "    #plt.title('t = %i:  %.2f' % (i,z[5,5]))\n",
    "    #fig.colorbar(cp, ax = ax)\n",
    "    plt.title(\"t = \" + str(t[i]))\n",
    "    #ax.set_xlabel('x')\n",
    "    #ax.set_ylabel('y')\n",
    "    return cont1\n",
    "\n",
    "anim = animation.FuncAnimation(fig, animate, frames=Nt, repeat=False)\n",
    "anim.save('animation100.mp4', writer=animation.FFMpegWriter())\n",
    "anim"
   ]
  },
  {
   "cell_type": "code",
   "execution_count": null,
   "id": "510e98e4",
   "metadata": {},
   "outputs": [],
   "source": []
  }
 ],
 "metadata": {
  "kernelspec": {
   "display_name": "Python 3 (ipykernel)",
   "language": "python",
   "name": "python3"
  },
  "language_info": {
   "codemirror_mode": {
    "name": "ipython",
    "version": 3
   },
   "file_extension": ".py",
   "mimetype": "text/x-python",
   "name": "python",
   "nbconvert_exporter": "python",
   "pygments_lexer": "ipython3",
   "version": "3.9.7"
  }
 },
 "nbformat": 4,
 "nbformat_minor": 5
}
