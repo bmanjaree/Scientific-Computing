{
 "cells": [
  {
   "cell_type": "markdown",
   "metadata": {},
   "source": [
    "# Demonstrating matrix multiplication with sparse python matrices"
   ]
  },
  {
   "cell_type": "code",
   "execution_count": 56,
   "metadata": {},
   "outputs": [],
   "source": [
    "# Import necessary modules\n",
    "from scipy.sparse import csr_matrix, triu, spdiags\n",
    "import numpy as np\n",
    "import matplotlib as plt"
   ]
  },
  {
   "cell_type": "markdown",
   "metadata": {},
   "source": [
    "Create the matrix \n",
    "$$A = \\begin{bmatrix} 1 & 1 & 1 & 1 \\\\ 0 & 1 & 1 & 1\\\\ 0 & 0 & 1 & 1\\\\ 0 & 0 & 0 & 1 \\end{bmatrix}$$\n",
    "\n",
    "which is an upper triangular matrix of 1s. We will do the matrix multiplacion $$Ax$$ where $$x = [2, 3, 4, 5]^\\intercal$$. We will see two ways to do this."
   ]
  },
  {
   "cell_type": "code",
   "execution_count": 57,
   "metadata": {},
   "outputs": [],
   "source": [
    "# Create the matrix \n",
    "e = np.ones((4,4))\n",
    "A = spdiags(e, [0, 1, 2, 3], 4, 4, format='csc') # Use \"format='csc'\" to make solving faster\n",
    "x = [2, 3, 4, 5]"
   ]
  },
  {
   "cell_type": "markdown",
   "metadata": {},
   "source": [
    "Method 1"
   ]
  },
  {
   "cell_type": "code",
   "execution_count": 58,
   "metadata": {},
   "outputs": [
    {
     "name": "stdout",
     "output_type": "stream",
     "text": [
      "[14. 12.  9.  5.]\n"
     ]
    }
   ],
   "source": [
    "print(A@x)"
   ]
  },
  {
   "cell_type": "markdown",
   "metadata": {},
   "source": [
    "Method 2"
   ]
  },
  {
   "cell_type": "code",
   "execution_count": 59,
   "metadata": {},
   "outputs": [
    {
     "name": "stdout",
     "output_type": "stream",
     "text": [
      "[14. 12.  9.  5.]\n"
     ]
    }
   ],
   "source": [
    "print(A.dot(x))"
   ]
  },
  {
   "cell_type": "markdown",
   "metadata": {},
   "source": [
    "Both methods are the same, but maybe one is more efficient? Let's see how long it takes to do a large matrix multiply. "
   ]
  },
  {
   "cell_type": "code",
   "execution_count": 60,
   "metadata": {},
   "outputs": [],
   "source": [
    "import time # For timing"
   ]
  },
  {
   "cell_type": "code",
   "execution_count": 61,
   "metadata": {},
   "outputs": [],
   "source": [
    "N = int(1e4) # Choose N really big\n",
    "x = np.random.rand(N)\n",
    "e = np.random.rand(N, N)\n",
    "A = spdiags(e, np.linspace(0, N, num=N, dtype='int'), N, N, format='csc')"
   ]
  },
  {
   "cell_type": "code",
   "execution_count": 62,
   "metadata": {},
   "outputs": [
    {
     "data": {
      "text/plain": [
       "array([[0.08101436, 0.68629637, 0.73977078, ..., 0.18860616, 0.15509993,\n",
       "        0.        ],\n",
       "       [0.        , 0.45307105, 0.21630491, ..., 0.78811847, 0.22998014,\n",
       "        0.77071414],\n",
       "       [0.        , 0.        , 0.00486774, ..., 0.06971102, 0.94616428,\n",
       "        0.05101785],\n",
       "       ...,\n",
       "       [0.        , 0.        , 0.        , ..., 0.34776915, 0.23871291,\n",
       "        0.30135511],\n",
       "       [0.        , 0.        , 0.        , ..., 0.        , 0.81182711,\n",
       "        0.44765061],\n",
       "       [0.        , 0.        , 0.        , ..., 0.        , 0.        ,\n",
       "        0.15422389]])"
      ]
     },
     "execution_count": 62,
     "metadata": {},
     "output_type": "execute_result"
    }
   ],
   "source": [
    "A.toarray()"
   ]
  },
  {
   "cell_type": "markdown",
   "metadata": {},
   "source": [
    "First time `A.dot(x)`"
   ]
  },
  {
   "cell_type": "code",
   "execution_count": 63,
   "metadata": {},
   "outputs": [
    {
     "name": "stdout",
     "output_type": "stream",
     "text": [
      "0.14868927001953125\n"
     ]
    }
   ],
   "source": [
    "start = time.time()\n",
    "A.dot(x)\n",
    "print(time.time()-start)"
   ]
  },
  {
   "cell_type": "markdown",
   "metadata": {},
   "source": [
    "Compare it to `A@x`."
   ]
  },
  {
   "cell_type": "code",
   "execution_count": 64,
   "metadata": {},
   "outputs": [
    {
     "name": "stdout",
     "output_type": "stream",
     "text": [
      "0.08609700202941895\n"
     ]
    }
   ],
   "source": [
    "start = time.time()\n",
    "A@(x)\n",
    "print(time.time()-start)"
   ]
  },
  {
   "cell_type": "markdown",
   "metadata": {},
   "source": [
    "We see that both have similar time. Out of curiosity let's check: what if we did this same multiplation with a nonsparse matrix?"
   ]
  },
  {
   "cell_type": "code",
   "execution_count": 65,
   "metadata": {},
   "outputs": [],
   "source": [
    "B = A.toarray()"
   ]
  },
  {
   "cell_type": "code",
   "execution_count": 66,
   "metadata": {},
   "outputs": [
    {
     "name": "stdout",
     "output_type": "stream",
     "text": [
      "3.741682291030884\n"
     ]
    }
   ],
   "source": [
    "start = time.time()\n",
    "B@(x)\n",
    "print(time.time()-start)"
   ]
  },
  {
   "cell_type": "markdown",
   "metadata": {},
   "source": [
    "We can see that this is a lot slower."
   ]
  },
  {
   "cell_type": "markdown",
   "metadata": {},
   "source": [
    "## Elementwise multiplication"
   ]
  },
  {
   "cell_type": "markdown",
   "metadata": {},
   "source": [
    "First consider multiplying every column of the matrix $A$ by a number in an array.\n",
    "\n",
    "Let's start with our old example."
   ]
  },
  {
   "cell_type": "code",
   "execution_count": 67,
   "metadata": {},
   "outputs": [],
   "source": [
    "e = np.ones((4,4))\n",
    "A = spdiags(e, [0, 1, 2, 3], 4, 4)\n",
    "A.todense()\n",
    "x = np.array([2, 3, 4, 5])"
   ]
  },
  {
   "cell_type": "code",
   "execution_count": 68,
   "metadata": {},
   "outputs": [
    {
     "data": {
      "text/plain": [
       "array([[1., 1., 1., 1.],\n",
       "       [0., 1., 1., 1.],\n",
       "       [0., 0., 1., 1.],\n",
       "       [0., 0., 0., 1.]])"
      ]
     },
     "execution_count": 68,
     "metadata": {},
     "output_type": "execute_result"
    }
   ],
   "source": [
    "A.toarray()"
   ]
  },
  {
   "cell_type": "code",
   "execution_count": 69,
   "metadata": {},
   "outputs": [
    {
     "data": {
      "text/plain": [
       "<4x4 sparse matrix of type '<class 'numpy.float64'>'\n",
       "\twith 10 stored elements in COOrdinate format>"
      ]
     },
     "execution_count": 69,
     "metadata": {},
     "output_type": "execute_result"
    }
   ],
   "source": [
    "A.multiply(x)"
   ]
  },
  {
   "cell_type": "code",
   "execution_count": 44,
   "metadata": {},
   "outputs": [
    {
     "data": {
      "text/plain": [
       "array([[2., 3., 4., 5.],\n",
       "       [0., 3., 4., 5.],\n",
       "       [0., 0., 4., 5.],\n",
       "       [0., 0., 0., 5.]])"
      ]
     },
     "execution_count": 44,
     "metadata": {},
     "output_type": "execute_result"
    }
   ],
   "source": [
    "A.multiply(x).toarray()"
   ]
  },
  {
   "cell_type": "markdown",
   "metadata": {},
   "source": [
    "`A.multiply(x)` multiplies colums by the array x. "
   ]
  },
  {
   "cell_type": "markdown",
   "metadata": {},
   "source": [
    "To multiply rows by the array `x`, we need to reshape `x` to be a column vector. "
   ]
  },
  {
   "cell_type": "code",
   "execution_count": 45,
   "metadata": {},
   "outputs": [],
   "source": [
    "y = x.reshape(-1, 1)"
   ]
  },
  {
   "cell_type": "code",
   "execution_count": 46,
   "metadata": {},
   "outputs": [
    {
     "data": {
      "text/plain": [
       "array([[2., 2., 2., 2.],\n",
       "       [0., 3., 3., 3.],\n",
       "       [0., 0., 4., 4.],\n",
       "       [0., 0., 0., 5.]])"
      ]
     },
     "execution_count": 46,
     "metadata": {},
     "output_type": "execute_result"
    }
   ],
   "source": [
    "A.multiply(y).toarray()"
   ]
  },
  {
   "cell_type": "markdown",
   "metadata": {},
   "source": [
    "We can see that this multiplies each row of the matrix by the corresponding element in the column vector `x`."
   ]
  },
  {
   "cell_type": "markdown",
   "metadata": {},
   "source": [
    "# Demonstrating using LU decomposition for sparse matrices."
   ]
  },
  {
   "cell_type": "markdown",
   "metadata": {},
   "source": [
    "If you have sparse matrices, you should use `scipy.sparse.linalg.splu` to solve quickly.\n",
    "\n",
    "Let's create a really big `A` again to see how this works and time it."
   ]
  },
  {
   "cell_type": "code",
   "execution_count": 47,
   "metadata": {},
   "outputs": [
    {
     "data": {
      "text/plain": [
       "10000"
      ]
     },
     "execution_count": 47,
     "metadata": {},
     "output_type": "execute_result"
    }
   ],
   "source": [
    "N = int(1e4) # Choose N really big\n",
    "b = np.random.rand(N)\n",
    "e = np.random.rand(N, N)\n",
    "A = spdiags(e, np.linspace(0, N, num=N, dtype='int'), N, N, format='csc')\n",
    "N"
   ]
  },
  {
   "cell_type": "code",
   "execution_count": 52,
   "metadata": {},
   "outputs": [
    {
     "data": {
      "text/plain": [
       "array([[0.32753022, 0.77688265, 0.50131839, 0.76193937, 0.85699886,\n",
       "        0.07304958, 0.44269547, 0.75117575, 0.50157078],\n",
       "       [0.        , 0.89943727, 0.2969741 , 0.62816537, 0.912055  ,\n",
       "        0.59687116, 0.81727958, 0.48610801, 0.93822761],\n",
       "       [0.        , 0.        , 0.07287084, 0.02798827, 0.085559  ,\n",
       "        0.60256905, 0.32095581, 0.87088685, 0.24301629],\n",
       "       [0.        , 0.        , 0.        , 0.05325078, 0.82121908,\n",
       "        0.24290892, 0.4322692 , 0.467141  , 0.63928451],\n",
       "       [0.        , 0.        , 0.        , 0.        , 0.63194497,\n",
       "        0.22021112, 0.74107796, 0.40388737, 0.29050827],\n",
       "       [0.        , 0.        , 0.        , 0.        , 0.        ,\n",
       "        0.384187  , 0.64051608, 0.90265014, 0.97106841],\n",
       "       [0.        , 0.        , 0.        , 0.        , 0.        ,\n",
       "        0.        , 0.53784907, 0.87624401, 0.60417584],\n",
       "       [0.        , 0.        , 0.        , 0.        , 0.        ,\n",
       "        0.        , 0.        , 0.80623198, 0.36312058],\n",
       "       [0.        , 0.        , 0.        , 0.        , 0.        ,\n",
       "        0.        , 0.        , 0.        , 0.41846131]])"
      ]
     },
     "execution_count": 52,
     "metadata": {},
     "output_type": "execute_result"
    }
   ],
   "source": [
    "A.toarray()[0:9,0:9]"
   ]
  },
  {
   "cell_type": "markdown",
   "metadata": {},
   "source": [
    "Let's also import some libraries for solving sparse systems."
   ]
  },
  {
   "cell_type": "code",
   "execution_count": 53,
   "metadata": {},
   "outputs": [],
   "source": [
    "from scipy.sparse.linalg import spsolve, splu"
   ]
  },
  {
   "cell_type": "markdown",
   "metadata": {},
   "source": [
    "First, we could just solve Ax = b."
   ]
  },
  {
   "cell_type": "code",
   "execution_count": 54,
   "metadata": {},
   "outputs": [
    {
     "name": "stdout",
     "output_type": "stream",
     "text": [
      "4.37162709236145\n"
     ]
    }
   ],
   "source": [
    "start = time.time()\n",
    "spsolve(A,b)\n",
    "print(time.time()-start)"
   ]
  },
  {
   "cell_type": "markdown",
   "metadata": {},
   "source": [
    "But what if we did LU decomposition **first**? To do that, use `splu`."
   ]
  },
  {
   "cell_type": "code",
   "execution_count": 27,
   "metadata": {},
   "outputs": [
    {
     "name": "stdout",
     "output_type": "stream",
     "text": [
      "0.11018586158752441\n"
     ]
    }
   ],
   "source": [
    "PLU = splu(A)\n",
    "start = time.time()\n",
    "PLU.solve(b)\n",
    "print(time.time()-start)"
   ]
  },
  {
   "cell_type": "markdown",
   "metadata": {},
   "source": [
    "It's way faster!"
   ]
  }
 ],
 "metadata": {
  "kernelspec": {
   "display_name": "Python 3 (ipykernel)",
   "language": "python",
   "name": "python3"
  },
  "language_info": {
   "codemirror_mode": {
    "name": "ipython",
    "version": 3
   },
   "file_extension": ".py",
   "mimetype": "text/x-python",
   "name": "python",
   "nbconvert_exporter": "python",
   "pygments_lexer": "ipython3",
   "version": "3.9.7"
  }
 },
 "nbformat": 4,
 "nbformat_minor": 4
}
