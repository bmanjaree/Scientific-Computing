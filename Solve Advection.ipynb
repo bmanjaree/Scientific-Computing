{
 "cells": [
  {
   "cell_type": "code",
   "execution_count": 4,
   "metadata": {},
   "outputs": [],
   "source": [
    "import numpy as np\n",
    "import matplotlib.pyplot as plt\n",
    "import scipy.sparse\n",
    "import scipy.linalg\n",
    "import scipy.sparse.linalg\n",
    "import scipy.optimize\n",
    "from mpl_toolkits.mplot3d import axes3d\n",
    "from matplotlib import cm\n",
    "import matplotlib.pyplot as plt\n",
    "import time"
   ]
  },
  {
   "cell_type": "code",
   "execution_count": 5,
   "metadata": {},
   "outputs": [
    {
     "name": "stdout",
     "output_type": "stream",
     "text": [
      "5.000000000000107\n"
     ]
    },
    {
     "data": {
      "text/plain": [
       "array([0. , 0.2, 0.4, 0.6, 0.8, 1. , 1.2, 1.4, 1.6, 1.8, 2. , 2.2, 2.4,\n",
       "       2.6, 2.8, 3. , 3.2, 3.4, 3.6, 3.8, 4. ])"
      ]
     },
     "execution_count": 5,
     "metadata": {},
     "output_type": "execute_result"
    }
   ],
   "source": [
    "#initialize \n",
    "#grid size\n",
    "Time = 4 # show increasing 10\n",
    "L = 20\n",
    "n = 500\n",
    "x2 = np.linspace(-L/2,L/2,n+1)\n",
    "x = x2[0:n] #periodicity\n",
    "dx = x[1] - x[0] #important to calculate correctly\n",
    "\n",
    "#time\n",
    "dt = 0.2 # show decreasing 0.1,0.05,0.02\n",
    "time_steps = int(Time/dt)\n",
    "t = np.arange(0,Time+dt,dt)\n",
    "\n",
    "# CFL number\n",
    "CFL = dt/dx\n",
    "print(CFL)\n",
    "#sparse matrix for derivative term\n",
    "e1 = np.ones(n)\n",
    "A = scipy.sparse.spdiags([e1,-e1,e1,-e1],[-n+1,-1,1,n-1],n,n);\n",
    "t"
   ]
  },
  {
   "cell_type": "code",
   "execution_count": 6,
   "metadata": {},
   "outputs": [
    {
     "data": {
      "text/plain": [
       "matrix([[ 0.,  1.,  0., ...,  0.,  0., -1.],\n",
       "        [-1.,  0.,  1., ...,  0.,  0.,  0.],\n",
       "        [ 0., -1.,  0., ...,  0.,  0.,  0.],\n",
       "        ...,\n",
       "        [ 0.,  0.,  0., ...,  0.,  1.,  0.],\n",
       "        [ 0.,  0.,  0., ..., -1.,  0.,  1.],\n",
       "        [ 1.,  0.,  0., ...,  0., -1.,  0.]])"
      ]
     },
     "execution_count": 6,
     "metadata": {},
     "output_type": "execute_result"
    }
   ],
   "source": [
    "A.todense()"
   ]
  },
  {
   "cell_type": "code",
   "execution_count": 7,
   "metadata": {},
   "outputs": [
    {
     "data": {
      "image/png": "[encoded data removed]",
      "text/plain": [
       "<Figure size 432x288 with 2 Axes>"
      ]
     },
     "metadata": {
      "needs_background": "light"
     },
     "output_type": "display_data"
    }
   ],
   "source": [
    "#Forward Euler\n",
    "#initial conditions - FE\n",
    "usol_fe =np.zeros((len(x),len(t))) #placeholder for solution - more effcient\n",
    "u0 = np.exp(-x**2).T # Gaussian\n",
    "usol_fe[:,0] = u0\n",
    "u1 = u0\n",
    "for j in range(time_steps):\n",
    "    u2 = u1 + 0.5*CFL*A@u1\n",
    "    u1 = u2\n",
    "    usol_fe[:,j+1] = u2\n",
    "\n",
    "######change^\n",
    "\n",
    "#plotting \n",
    "fig,ax = plt.subplots(1,1)\n",
    "T,X = np.meshgrid(t,x)\n",
    "cp=ax.pcolor(x,t,usol_fe.T,cmap=\"magma\",shading = 'auto') # point out instability for Time = 10\n",
    "fig.colorbar(cp)\n",
    "plt.show() \n"
   ]
  },
  {
   "cell_type": "code",
   "execution_count": null,
   "metadata": {},
   "outputs": [],
   "source": [
    "#Leapfrog\n",
    "#initial conditions\n",
    "usol_lf =np.zeros((len(x),len(t))) #placeholder for solution - more effcient\n",
    "u0 = np.exp(-x**2).T # Gaussian\n",
    "u1 = np.exp(-(x+dt)**2).T # Gaussian\n",
    "\n",
    "usol_lf[:,0] = u0\n",
    "usol_lf[:,1] = u1\n",
    "for j in range(time_steps-1):\n",
    "    u2 = u0 + CFL*A@u1\n",
    "    u0 = u1\n",
    "    u1 = u2\n",
    "    usol_lf[:,j+2] = u2\n",
    "\n",
    "\n",
    "\n",
    "#plotting \n",
    "fig,ax = plt.subplots(1,1)\n",
    "T,X = np.meshgrid(t,x)\n",
    "cp=ax.pcolor(x,t,usol_lf.T,cmap=\"magma\",shading = 'auto') # point out instability for Time = 10\n",
    "fig.colorbar(cp)\n",
    "plt.show()"
   ]
  },
  {
   "cell_type": "code",
   "execution_count": null,
   "metadata": {},
   "outputs": [],
   "source": [
    "#Backward Euler\n",
    "#initial conditions \n",
    "e1 = np.ones(n)\n",
    "A = 0.5*scipy.sparse.spdiags([-CFL*e1,CFL*e1,2*e1,-CFL*e1,CFL*e1],[-n+1,-1,0,1,n-1],n,n,format='csc');\n",
    "B = scipy.sparse.linalg.splu(A)\n",
    "usol_be =np.zeros((len(x),len(t))) #placeholder for solution - more effcient\n",
    "u0 = np.exp(-x**2).T # Gaussian\n",
    "usol_be[:,0] = u0\n",
    "start = time.time()\n",
    "for j in range(time_steps):\n",
    "    u1 = B.solve(u0)\n",
    "    u0=u1\n",
    "    usol_be[:,j+1] = u1\n",
    "\n",
    "end = time.time()\n",
    "print(end-start)\n",
    "\n",
    "#plotting \n",
    "fig,ax = plt.subplots(1,1)\n",
    "T,X = np.meshgrid(t,x)\n",
    "cp=ax.pcolor(x,t,usol_be.T,cmap=\"magma\",shading = 'auto') # point out instability for Time = 10\n",
    "fig.colorbar(cp)\n",
    "plt.show()"
   ]
  },
  {
   "cell_type": "code",
   "execution_count": null,
   "metadata": {},
   "outputs": [],
   "source": [
    "usol_be_b =np.zeros((len(x),len(t))) #placeholder for solution - more effcient\n",
    "u0 = np.exp(-x**2).T # Gaussian\n",
    "usol_be_b[:,0] = u0\n",
    "start = time.time()\n",
    "for j in range(time_steps):\n",
    "    u1,info= scipy.sparse.linalg.bicgstab(A,u0,x0 = u0)\n",
    "    u0=u1\n",
    "    usol_be_b[:,j+1] = u1\n",
    "\n",
    "end = time.time()\n",
    "print(end-start)\n",
    "\n",
    "#plotting \n",
    "fig,ax = plt.subplots(1,1)\n",
    "T,X = np.meshgrid(t,x)\n",
    "cp=ax.pcolor(x,t,usol_be_b.T,cmap=\"magma\",shading = 'auto') # point out instability for Time = 10\n",
    "fig.colorbar(cp)\n",
    "plt.show()"
   ]
  },
  {
   "cell_type": "code",
   "execution_count": null,
   "metadata": {},
   "outputs": [],
   "source": [
    "dt = 0.02 # show decreasing 0.06\n",
    "time_steps = int(Time/dt)\n",
    "t = np.arange(0,Time+dt,dt)\n",
    "\n",
    "# CFL number\n",
    "CFL = dt/dx\n",
    "print(CFL)\n",
    "#sparse matrix for derivative term\n",
    "e1 = np.ones(n)\n",
    "A1 = scipy.sparse.spdiags([e1,-e1,e1,-e1],[-n+1,-1,1,n-1],n,n,format='csc')\n",
    "A2 = scipy.sparse.spdiags([e1,e1,-2*e1,e1,-e1],[-n+1,-1,0,1,n-1],n,n,format='csc')\n",
    "usol_lw =np.zeros((len(x),len(t))) #placeholder for solution - more effcient\n",
    "u0 = np.exp(-x**2).T # Gaussian\n",
    "usol_lw[:,0] = u0\n",
    "\n",
    "for j in range(time_steps):\n",
    "    u1 = u0 + 0.5*CFL*A1@u0+0.5*(CFL**2)*A2@u0\n",
    "    u0=u1\n",
    "    usol_lw[:,j+1] = u1\n",
    "\n",
    "\n",
    "#plotting \n",
    "fig,ax = plt.subplots(1,1)\n",
    "T,X = np.meshgrid(t,x)\n",
    "cp=ax.pcolor(x,t,usol_lw.T,cmap=\"magma\",shading = 'auto') # point out instability for Time = 10\n",
    "fig.colorbar(cp)\n",
    "plt.show()"
   ]
  },
  {
   "cell_type": "code",
   "execution_count": null,
   "metadata": {},
   "outputs": [],
   "source": [
    "# von-Neumann analysis\n",
    "G = lambda l,z: l**4*(4*np.sin(z/2)**4)+l**2*(np.sin(z)**2 - 4*np.sin(z/2)**2)+1\n",
    "#-pi<z<pi\n",
    "\n",
    "zvals =np.linspace(-np.pi,np.pi,50);\n",
    "lvals = np.linspace(0.001,1.6,50);\n",
    "[Z,L]=np.meshgrid(zvals,lvals);\n",
    "\n",
    "fig, ax = plt.subplots(figsize=(10,10),subplot_kw={\"projection\": \"3d\"})\n",
    "cp=ax.plot_surface(Z,L,G(L,Z),cmap=\"magma\")\n"
   ]
  },
  {
   "cell_type": "markdown",
   "metadata": {},
   "source": [
    "## Find the maximum of |g(1.5, z)|"
   ]
  },
  {
   "cell_type": "markdown",
   "metadata": {},
   "source": [
    "Note that this was not done quite correctly in the video."
   ]
  },
  {
   "cell_type": "code",
   "execution_count": null,
   "metadata": {},
   "outputs": [],
   "source": [
    "G_one = lambda z: np.abs(G(1.5,z)); # Define the function we want to maximize\n",
    "x = scipy.optimize.fminbound(lambda z:-G_one(z), -np.pi,np.pi) # This gives the *maximizer*\n",
    "maximum = G_one(x)\n",
    "print(maximum)"
   ]
  },
  {
   "cell_type": "code",
   "execution_count": null,
   "metadata": {},
   "outputs": [],
   "source": [
    "G_one = lambda z: np.abs(G(0.5,z));\n",
    "x = scipy.optimize.fminbound(lambda z:-G_one(z), -np.pi,np.pi)\n",
    "maximum = G_one(x)\n",
    "print(maximum)"
   ]
  },
  {
   "cell_type": "code",
   "execution_count": null,
   "metadata": {},
   "outputs": [],
   "source": [
    "np.linalg.norm(usol_lw-usol_be)"
   ]
  },
  {
   "cell_type": "code",
   "execution_count": null,
   "metadata": {},
   "outputs": [],
   "source": []
  },
  {
   "cell_type": "code",
   "execution_count": null,
   "metadata": {},
   "outputs": [],
   "source": []
  }
 ],
 "metadata": {
  "kernelspec": {
   "display_name": "Python 3 (ipykernel)",
   "language": "python",
   "name": "python3"
  },
  "language_info": {
   "codemirror_mode": {
    "name": "ipython",
    "version": 3
   },
   "file_extension": ".py",
   "mimetype": "text/x-python",
   "name": "python",
   "nbconvert_exporter": "python",
   "pygments_lexer": "ipython3",
   "version": "3.9.7"
  }
 },
 "nbformat": 4,
 "nbformat_minor": 4
}
