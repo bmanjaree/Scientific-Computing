{
 "cells": [
  {
   "cell_type": "code",
   "execution_count": null,
   "id": "8c3eacb8",
   "metadata": {},
   "outputs": [],
   "source": [
    "#Plotting\n",
    "plt.loglog(delta_t, y_fit_fe, ':',label='best fit line for forward euler method')\n",
    "plt.loglog(delta_t,err_FE, 'o',label='data points for forward euler method')\n",
    "\n",
    "plt.loglog(delta_t, y_fit_heun, ':',label=\"best fit line for Heun's method\")\n",
    "plt.loglog(delta_t,err_heun, 'o',label=\"data points for Heun's method\")\n",
    "\n",
    "plt.loglog(delta_t, y_fit_a, ':',label=\"best fit line for Adam's method\")\n",
    "plt.loglog(delta_t,err_adam, 'o',label=\"data points for Adam's method\")\n",
    "\n",
    "\n",
    "\n",
    "\n",
    "plt.xlabel(\"log(delta_t)\")\n",
    "plt.ylabel(\"log(Error)\")\n",
    "plt.title(\"ODE methods\")\n",
    "plt.legend();"
   ]
  }
 ],
 "metadata": {
  "kernelspec": {
   "display_name": "Python 3 (ipykernel)",
   "language": "python",
   "name": "python3"
  },
  "language_info": {
   "codemirror_mode": {
    "name": "ipython",
    "version": 3
   },
   "file_extension": ".py",
   "mimetype": "text/x-python",
   "name": "python",
   "nbconvert_exporter": "python",
   "pygments_lexer": "ipython3",
   "version": "3.9.7"
  }
 },
 "nbformat": 4,
 "nbformat_minor": 5
}
