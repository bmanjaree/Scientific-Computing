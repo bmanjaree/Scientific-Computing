{
 "cells": [
  {
   "cell_type": "markdown",
   "id": "b9c22598",
   "metadata": {},
   "source": [
    "# AMATH Scientific Computing\n",
    "## Homework-1\n",
    "### Manjaree Binjolkar"
   ]
  },
  {
   "cell_type": "code",
   "execution_count": 555,
   "id": "e492c33e",
   "metadata": {},
   "outputs": [],
   "source": [
    "import numpy as np\n",
    "import matplotlib.pyplot as plt\n",
    "import scipy.integrate\n",
    "import scipy\n",
    "from copy import deepcopy\n",
    "%matplotlib inline"
   ]
  },
  {
   "cell_type": "markdown",
   "id": "bc5a35a4",
   "metadata": {},
   "source": [
    " ## Q1"
   ]
  },
  {
   "cell_type": "code",
   "execution_count": 556,
   "id": "5b81d1eb",
   "metadata": {},
   "outputs": [
    {
     "data": {
      "text/plain": [
       "0.25"
      ]
     },
     "execution_count": 556,
     "metadata": {},
     "output_type": "execute_result"
    }
   ],
   "source": [
    "# Problem 1 part a\n",
    "\n",
    "# ODE and time steps:\n",
    "#tspan = [0,5]\n",
    "y0 = np.pi/np.sqrt(2)\n",
    "delta_t = np.power(2.,-2)\n",
    "\n",
    "# dydt = f(t,y):\n",
    "f = lambda t, y: -3*y*np.sin(y)\n",
    "\n",
    "#Given exact solution\n",
    "f_exact = lambda t: (np.pi*(np.exp(3*(np.cos(t)-1))))/np.sqrt(2)\n",
    "delta_t"
   ]
  },
  {
   "cell_type": "code",
   "execution_count": 557,
   "id": "eb4469ca",
   "metadata": {},
   "outputs": [],
   "source": [
    "#Create the FE function\n",
    "def ForwardEuler(f, f_exact, y0, tspan, delta_t):\n",
    "    error = 0\n",
    "    n = len(tspan)\n",
    "    FE = y0\n",
    "    for k in range(int(n)):\n",
    "        yn = y0 + delta_t*f(tspan[k],y0)\n",
    "        y0 = yn \n",
    "    error = abs(f_exact(5)-yn)\n",
    "    \n",
    "    return yn, error"
   ]
  },
  {
   "cell_type": "code",
   "execution_count": 562,
   "id": "91bc313a",
   "metadata": {},
   "outputs": [],
   "source": [
    "tspan = np.arange(0.,5.,np.power(2.,-2))\n",
    "#tspan[0]\n",
    "#tspan"
   ]
  },
  {
   "cell_type": "code",
   "execution_count": 563,
   "id": "cb7b170c",
   "metadata": {},
   "outputs": [],
   "source": [
    "n = len(tspan)\n",
    "    #y = np.zeros(n)\n",
    "FE = y0\n",
    "\n",
    "for k in range(int(n)):\n",
    "        #print(k)\n",
    "        yn = y0 + delta_t*f(tspan[k],y0)\n",
    "        #print(yn)\n",
    "        y0 = yn "
   ]
  },
  {
   "cell_type": "code",
   "execution_count": 564,
   "id": "630254c5",
   "metadata": {},
   "outputs": [],
   "source": [
    "tspan_list = [np.power(2.,-n) for n in np.arange(2,10,1)]\n",
    "#tspan_list"
   ]
  },
  {
   "cell_type": "code",
   "execution_count": 565,
   "id": "49848cda",
   "metadata": {},
   "outputs": [],
   "source": [
    "tspan2 = np.arange(0,5,np.power(2.,-2))\n",
    "FE_2, E_2 = ForwardEuler(f, f_exact, y0, tspan2, np.power(2.,-2))\n",
    "#print(E_2)"
   ]
  },
  {
   "cell_type": "code",
   "execution_count": 566,
   "id": "8613b417",
   "metadata": {},
   "outputs": [],
   "source": [
    "tspan3 = np.arange(0,5,np.power(2.,-3))\n",
    "FE_3, E_3 = ForwardEuler(f, f_exact, y0, tspan3, np.power(2.,-3))\n",
    "#print(E_3)"
   ]
  },
  {
   "cell_type": "code",
   "execution_count": 567,
   "id": "162ada02",
   "metadata": {},
   "outputs": [],
   "source": [
    "tspan4 = np.arange(0,5,np.power(2.,-4))\n",
    "FE_4, E_4 = ForwardEuler(f, f_exact, y0, tspan4, np.power(2.,-4))\n",
    "#print(E_4)"
   ]
  },
  {
   "cell_type": "code",
   "execution_count": 568,
   "id": "88d0f2de",
   "metadata": {},
   "outputs": [],
   "source": [
    "tspa5 = np.arange(0,5,np.power(2.,-5))\n",
    "FE_5, E_5 = ForwardEuler(f, f_exact, y0, tspan5, np.power(2.,-5))\n",
    "#print(E_5)"
   ]
  },
  {
   "cell_type": "code",
   "execution_count": 569,
   "id": "6e688e6d",
   "metadata": {},
   "outputs": [],
   "source": [
    "tspan6 = np.arange(0,5,np.power(2.,-6))\n",
    "FE_6, E_6 = ForwardEuler(f, f_exact, y0, tspan6, np.power(2.,-6))\n",
    "#print(E_6)"
   ]
  },
  {
   "cell_type": "code",
   "execution_count": 570,
   "id": "89c2e846",
   "metadata": {},
   "outputs": [],
   "source": [
    "tspan7 = np.arange(0,5,np.power(2.,-7))\n",
    "FE_7, E_7 = ForwardEuler(f, f_exact, y0, tspan7, np.power(2.,-7))\n",
    "#print(E_7)"
   ]
  },
  {
   "cell_type": "code",
   "execution_count": 572,
   "id": "b33f8de9",
   "metadata": {},
   "outputs": [],
   "source": [
    "tspan8 = np.arange(0,5,np.power(2.,-8))\n",
    "FE_8, E_8 = ForwardEuler(f, f_exact, y0, tspan8, np.power(2.,-8))\n",
    "#print(E_8)\n",
    "A1 = [FE_8]\n"
   ]
  },
  {
   "cell_type": "code",
   "execution_count": null,
   "id": "b795a114",
   "metadata": {},
   "outputs": [],
   "source": []
  },
  {
   "cell_type": "code",
   "execution_count": 573,
   "id": "7706838f",
   "metadata": {},
   "outputs": [],
   "source": [
    "#Problem 2 part a\n",
    "#Given:\n",
    "t0 = 0\n",
    "tf = 32\n",
    "y0 = np.sqrt(3)\n",
    "x0 = 1\n",
    "dt = 0.5\n",
    "\n",
    "#define the vandepols function\n",
    "def vdp(t, z):\n",
    "    x, y = z\n",
    "    return [y, mu*(1 - x**2)*y - x]\n",
    "\n",
    "mus = [0.1, 1, 20]\n",
    "tspan = np.arange(t0,tf+dt,dt)\n",
    "temp=[]\n",
    "for mu in mus:\n",
    "    sol = solve_ivp(vdp, [t0, tf], [y0, x0], t_eval=tspan)\n",
    "    temp.append(sol.y[0])\n",
    "#print(temp)\n",
    "\n",
    "y1=temp[0:1]\n",
    "y2=temp[1:2]\n",
    "y3=temp[2:3]\n",
    "\n",
    "A10_temp = [y1, y2, y3]\n",
    "A10 = deepcopy(np.transpose(A10_temp))\n",
    "#A10"
   ]
  },
  {
   "cell_type": "code",
   "execution_count": 574,
   "id": "c257ca41",
   "metadata": {},
   "outputs": [],
   "source": [
    "#Problem 2 part b\n",
    "\n",
    "#Given\n",
    "y0 = 2\n",
    "x0 = (np.pi)**2\n",
    "mu = 1\n",
    "\n",
    "tols = [np.power(10.,-n) for n in np.arange(4,11,1)]\n",
    "#print(tols)\n",
    "\n",
    "#initialising t_avg\n",
    "t_avgs= []\n",
    "\n",
    "# RK45\n",
    "for tol in tols:\n",
    "        sol = scipy.integrate.solve_ivp(vdp, [0,32], [y0, x0 ], atol=tol, rtol=tol)\n",
    "        T = sol.t\n",
    "        Y = sol.y\n",
    "        #print(T)\n",
    "        t_avgs.append(np.mean(np.diff(T)))\n",
    "        \n",
    "        \n",
    "#print(t_avgs)  \n",
    "\n",
    "x_input1 =np.log(t_avgs)\n",
    "y_input1 =np.log(tols)\n",
    "\n",
    "\n",
    "#trying to find the best fit line\n",
    "s1, i1 = np.polyfit(x_input, y_input, 1)\n",
    "A11 = deepcopy(s1)\n",
    "#print(A11)\n",
    "\n",
    "\n",
    "# RK23\n",
    "\n",
    "#initialising t_avg\n",
    "t_avgs2= []\n",
    "\n",
    "for tol in tols:\n",
    "        sol = scipy.integrate.solve_ivp(vdp, [0,32], [y0, x0 ], atol=tol, rtol=tol, method='RK23')\n",
    "        T = sol.t\n",
    "        Y = sol.y\n",
    "        #print(T)\n",
    "        t_avgs2.append(np.mean(np.diff(T)))\n",
    "\n",
    "x_input2 =np.log(t_avgs2)\n",
    "y_input2 =np.log(tols)\n",
    "\n",
    "#trying to find the best fit line\n",
    "s2, i2 = np.polyfit(x_input2, y_input2, 1)\n",
    "A12 = deepcopy(s2)\n",
    "#print(A12)\n",
    "\n",
    "\n",
    "\n",
    "# BDF\n",
    "#initialising t_avg\n",
    "t_avgs3= []\n",
    "\n",
    "\n",
    "for tol in tols:\n",
    "        sol = scipy.integrate.solve_ivp(vdp, [0,32], [y0, x0 ], atol=tol, rtol=tol, method='BDF')\n",
    "        T = sol.t\n",
    "        Y = sol.y\n",
    "        #print(T)\n",
    "        t_avgs3.append(np.mean(np.diff(T)))\n",
    "        \n",
    "x_input3 =np.log(t_avgs3)\n",
    "y_input3 =np.log(tols)\n",
    "\n",
    "#trying to find the best fit line\n",
    "s3, i3 = np.polyfit(x_input3, y_input3, 1)\n",
    "A13 = deepcopy(s3)\n",
    "#print(A13)"
   ]
  },
  {
   "cell_type": "code",
   "execution_count": 575,
   "id": "544c1cce",
   "metadata": {},
   "outputs": [],
   "source": [
    "#Problem 3\n",
    "def sys_rhs(t, y, d12, d21):\n",
    "    a1 = .05; a2 = .25; b = .01; c = .01; I = .1\n",
    "    v1,v2,w1,w2 = y#v1,v2,w1,w2\n",
    "    dv1 = -v1 ** 3 + (1 + a1) * (v1 ** 2) - a1 * v1 - w1 + I + d12*v2\n",
    "    dw1 = b * v1 - c * w1\n",
    "    dv2 =- v2 ** 3 + (1 + a2) * (v2 ** 2) - a2 * v2 - w2 + I + d21*v1\n",
    "    dw2=b * v2 - c * w2\n",
    "    \n",
    "    dydt1 = [dv1,dw1]\n",
    "    dydt2 = [dv2,dw2]\n",
    "    return  [dv1, dv2, dw1, dw2]#v1,v2,w1,w2"
   ]
  },
  {
   "cell_type": "code",
   "execution_count": 576,
   "id": "562af556",
   "metadata": {},
   "outputs": [],
   "source": [
    "tspan = np.arange(0, 100, 0.5)\n",
    "\n",
    "v_in=0\n",
    "w_in=0\n",
    "\n",
    "yt0 = [.1, .1, 0, 0]#v1,v2,w1,w2\n",
    "\n",
    "d12 = 0\n",
    "d21 = 0\n",
    "sol_0_0 = solve_ivp(sys_rhs, tspan, y0 = yt0, args=(d12, d21), method='BDF')\n",
    "A14 = deepcopy(np.transpose(sol_0_0.y))\n",
    "#print(A14)"
   ]
  },
  {
   "cell_type": "code",
   "execution_count": 577,
   "id": "25d987b5",
   "metadata": {},
   "outputs": [],
   "source": [
    "d12 = 0\n",
    "d21 = 0.2\n",
    "sol_0_02 = solve_ivp(sys_rhs, tspan, y0 = yt0, args=(d12, d21), method='BDF')\n",
    "A15 = deepcopy(np.transpose(sol_0_02.y))\n",
    "#print(A15)"
   ]
  },
  {
   "cell_type": "code",
   "execution_count": 578,
   "id": "ace24316",
   "metadata": {},
   "outputs": [],
   "source": [
    "d12 = -0.1\n",
    "d21 = 0.2\n",
    "sol_01_02 = solve_ivp(sys_rhs, tspan, y0 = yt0, args=(d12, d21), method='BDF')\n",
    "A16 = deepcopy(np.transpose(sol_01_02.y))\n",
    "#print(A16)"
   ]
  },
  {
   "cell_type": "code",
   "execution_count": 579,
   "id": "f55bf053",
   "metadata": {
    "scrolled": true
   },
   "outputs": [],
   "source": [
    "d12 = -0.3\n",
    "d21 = 0.2\n",
    "sol_03_02 = solve_ivp(sys_rhs, tspan, y0 = yt0, args=(d12, d21), method='BDF')\n",
    "A17 = deepcopy(np.transpose(sol_03_02.y))\n",
    "#print(A17)"
   ]
  },
  {
   "cell_type": "code",
   "execution_count": 580,
   "id": "882113f6",
   "metadata": {},
   "outputs": [],
   "source": [
    "d12 = -0.5\n",
    "d21 = 0.2\n",
    "sol_05_02 = solve_ivp(sys_rhs, tspan, y0 = yt0, args=(d12, d21), method='BDF')\n",
    "A18 = deepcopy(np.transpose(sol_05_02.y))\n",
    "#print(A18)"
   ]
  },
  {
   "cell_type": "code",
   "execution_count": null,
   "id": "0f5e181e",
   "metadata": {},
   "outputs": [],
   "source": []
  }
 ],
 "metadata": {
  "kernelspec": {
   "display_name": "Python 3 (ipykernel)",
   "language": "python",
   "name": "python3"
  },
  "language_info": {
   "codemirror_mode": {
    "name": "ipython",
    "version": 3
   },
   "file_extension": ".py",
   "mimetype": "text/x-python",
   "name": "python",
   "nbconvert_exporter": "python",
   "pygments_lexer": "ipython3",
   "version": "3.9.7"
  }
 },
 "nbformat": 4,
 "nbformat_minor": 5
}
