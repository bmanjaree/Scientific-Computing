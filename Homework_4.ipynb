{
 "cells": [
  {
   "cell_type": "markdown",
   "id": "00b072b2",
   "metadata": {},
   "source": [
    "## AMATH Scientific Computing\n",
    "### Homework-4\n",
    "#### Manjaree Binjolkar"
   ]
  },
  {
   "cell_type": "code",
   "execution_count": 1,
   "id": "20aa500b",
   "metadata": {},
   "outputs": [],
   "source": [
    "import numpy as np\n",
    "import scipy.sparse \n",
    "import matplotlib.pyplot as plt\n",
    "import pdb\n",
    "import numpy.matlib\n",
    "import time\n",
    "import copy\n",
    "\n",
    "from matplotlib import animation, rc\n",
    "from scipy.sparse.linalg import spsolve\n",
    "from scipy.integrate import solve_ivp\n",
    "from scipy.sparse.linalg import splu\n",
    "from scipy.sparse import csr_matrix, triu, spdiags\n",
    "\n",
    "import matplotlib.pyplot as plt\n",
    "import matplotlib.animation as animation\n",
    "from mpl_toolkits.axes_grid1 import make_axes_locatable\n",
    "import csv"
   ]
  },
  {
   "cell_type": "markdown",
   "id": "a5f794d1",
   "metadata": {},
   "source": [
    "1. 1. We will start by using 129 equally spaced points between [􀀀L; L] (including L),\n",
    "and then removing L so that your computational domain has 128 equally spaced\n",
    "points. This de nes  x. Use 501 equally spaced points between [0; 2] (including\n",
    "the endpoints). This defines  t. Calculate the CFL number and call it   ."
   ]
  },
  {
   "cell_type": "code",
   "execution_count": 2,
   "id": "aa91fd81",
   "metadata": {},
   "outputs": [],
   "source": [
    "m = 129\n",
    "L = 10\n",
    "x1 = np.linspace(-L, L, m)\n",
    "x = x1[:-1]\n",
    "delta_x = x[1] - x[0]\n",
    "#print(delta_x)\n",
    "#print(np.shape(delta_x))\n",
    "t = np.linspace(0, 2, 501, endpoint = True)\n",
    "delta_t = t[1] - t[0]\n",
    "#print(delta_t)\n",
    "#print(np.shape(delta_t))\n",
    "#print(t)\n",
    "#print(np.shape(t))\n",
    "#calculate the CFL number λ and call it λ∗\n",
    "alpha = 2\n",
    "lambda_star = alpha*(delta_t)/(delta_x**2)\n",
    "#print(lambda_star)\n",
    "#print(np.shape(lambda_star))"
   ]
  },
  {
   "cell_type": "code",
   "execution_count": 3,
   "id": "e4bab50b",
   "metadata": {},
   "outputs": [],
   "source": [
    "#len(t)"
   ]
  },
  {
   "cell_type": "code",
   "execution_count": 4,
   "id": "605c130b",
   "metadata": {},
   "outputs": [],
   "source": [
    "# (1,4)-accurate scheme (first-order accurate in time, fourth-order accurate in space)\n",
    "G = lambda z: lambda_star*(32*np.cos(z)-2*np.cos(2*z)-30)*(1/12)+1"
   ]
  },
  {
   "cell_type": "code",
   "execution_count": 5,
   "id": "02aa6a9b",
   "metadata": {},
   "outputs": [],
   "source": [
    "A1 = copy.deepcopy(G(1))"
   ]
  },
  {
   "cell_type": "code",
   "execution_count": 6,
   "id": "5cd16195",
   "metadata": {},
   "outputs": [],
   "source": [
    "G_one = lambda z: np.abs(G(z)); # Define the function we want to maximize\n",
    "index = scipy.optimize.fminbound(lambda z:-G_one(z), -np.pi,np.pi) # This gives the *maximizer*\n",
    "maximum = G_one(index)\n",
    "#print(maximum)"
   ]
  },
  {
   "cell_type": "code",
   "execution_count": 7,
   "id": "84de4535",
   "metadata": {},
   "outputs": [],
   "source": [
    "A2 = copy.deepcopy(maximum)"
   ]
  },
  {
   "cell_type": "code",
   "execution_count": 8,
   "id": "be96ec87",
   "metadata": {},
   "outputs": [],
   "source": [
    "#D4\n",
    "n = 128\n",
    "#sparse matrix for derivative term\n",
    "e1 = np.ones(n)\n",
    "d_D4 = [-n+1,-n+2,-2,-1,0,1,2,n-2,n-1]\n",
    "D4 = scipy.sparse.spdiags([16*e1,-e1,-e1,16*e1,-30*e1,16*e1,-e1,-e1,16*e1],d_D4,n,n)\n",
    "#print(D4.todense())\n",
    "D4 *= 1/12\n",
    "#print(D4.todense())"
   ]
  },
  {
   "cell_type": "code",
   "execution_count": 9,
   "id": "482944ac",
   "metadata": {},
   "outputs": [],
   "source": [
    "#D4.todense()"
   ]
  },
  {
   "cell_type": "code",
   "execution_count": 10,
   "id": "940f2e3e",
   "metadata": {},
   "outputs": [],
   "source": [
    "#print(D4.toarray()[-1,0])\n",
    "#plt.spy(D4)"
   ]
  },
  {
   "cell_type": "code",
   "execution_count": 11,
   "id": "89041dcf",
   "metadata": {},
   "outputs": [],
   "source": [
    "A3 = copy.deepcopy(D4.todense())\n",
    "#A3"
   ]
  },
  {
   "cell_type": "code",
   "execution_count": 12,
   "id": "3ee20102",
   "metadata": {},
   "outputs": [],
   "source": [
    "#len(x)"
   ]
  },
  {
   "cell_type": "code",
   "execution_count": 13,
   "id": "97502689",
   "metadata": {},
   "outputs": [],
   "source": [
    "#Forward Euler\n",
    "#initial conditions - FE\n",
    "Time = 2\n",
    "dt = delta_t\n",
    "time_steps = int(Time/dt)\n",
    "usol_fe = np.zeros((len(x),len(t))) #placeholder for solution - more effcient\n",
    "#u0 = np.exp(-x**2).T # Gaussian\n",
    "u0 = 10*np.cos((2*np.pi*x)/L) + 30*np.cos((8*np.pi*x)/L)\n",
    "usol_fe[:,0] = u0\n",
    "u1 = u0\n",
    "CFL = lambda_star\n",
    "for j in range(time_steps):\n",
    "    u2 = u1 + CFL*(D4@u1)\n",
    "    u1 = u2\n",
    "    usol_fe[:,j+1] = u2"
   ]
  },
  {
   "cell_type": "code",
   "execution_count": 14,
   "id": "02875083",
   "metadata": {},
   "outputs": [],
   "source": [
    "#np.shape(D4)"
   ]
  },
  {
   "cell_type": "code",
   "execution_count": 15,
   "id": "e7271180",
   "metadata": {},
   "outputs": [],
   "source": [
    "#usol_fe\n",
    "A4 = 0"
   ]
  },
  {
   "cell_type": "code",
   "execution_count": 16,
   "id": "18199992",
   "metadata": {},
   "outputs": [],
   "source": [
    "#np.shape(usol_fe[:,-1].reshape(128,1))"
   ]
  },
  {
   "cell_type": "code",
   "execution_count": 39,
   "id": "585d6cf9",
   "metadata": {},
   "outputs": [],
   "source": [
    "A5 = copy.deepcopy(usol_fe[:,-1].reshape(128,1))\n",
    "#print(A5)"
   ]
  },
  {
   "cell_type": "code",
   "execution_count": 40,
   "id": "318916db",
   "metadata": {},
   "outputs": [],
   "source": [
    "# Crank Nicholoson scheme (first-order accurate in time, fourth-order accurate in space)\n",
    "G_CN = lambda z: (1+lambda_star/2*(2*np.cos(z)-2))/(1-lambda_star/2*(2*np.cos(z)-2))"
   ]
  },
  {
   "cell_type": "code",
   "execution_count": 41,
   "id": "21d96e1b",
   "metadata": {},
   "outputs": [],
   "source": [
    "G_one_CN = lambda z: np.abs(G_CN(z)); # Define the function we want to maximize\n",
    "index_CN = scipy.optimize.fminbound(lambda z:-G_one_CN(z), -np.pi,np.pi) # This gives the *maximizer*\n",
    "maximum_CN = G_one_CN(index_CN)\n",
    "#print(maximum_CN)"
   ]
  },
  {
   "cell_type": "code",
   "execution_count": 42,
   "id": "fbfe9e97",
   "metadata": {},
   "outputs": [],
   "source": [
    "A6 = copy.deepcopy(maximum_CN)"
   ]
  },
  {
   "cell_type": "code",
   "execution_count": 43,
   "id": "b84369c5",
   "metadata": {},
   "outputs": [],
   "source": [
    "d_B = [-n+1,-1,0,1,n-1]\n",
    "B = scipy.sparse.spdiags([(-lambda_star/2)*e1,(-lambda_star/2)*e1,(1+lambda_star)*e1,(-lambda_star/2)*e1,(-lambda_star/2)*e1],d_B,n,n)"
   ]
  },
  {
   "cell_type": "code",
   "execution_count": 44,
   "id": "9499e3f6",
   "metadata": {},
   "outputs": [],
   "source": [
    "#B.todense()"
   ]
  },
  {
   "cell_type": "code",
   "execution_count": 45,
   "id": "da06188e",
   "metadata": {},
   "outputs": [],
   "source": [
    "d_C = [-n+1,-1,0,1,n-1]\n",
    "C = scipy.sparse.spdiags([(lambda_star/2)*e1,(lambda_star/2)*e1,(1-lambda_star)*e1,(lambda_star/2)*e1,(lambda_star/2)*e1],d_C,n,n)"
   ]
  },
  {
   "cell_type": "code",
   "execution_count": 46,
   "id": "5c06aeca",
   "metadata": {},
   "outputs": [],
   "source": [
    "#C.todense()"
   ]
  },
  {
   "cell_type": "code",
   "execution_count": 47,
   "id": "78984158",
   "metadata": {},
   "outputs": [],
   "source": [
    "A7 = copy.deepcopy(B.todense())"
   ]
  },
  {
   "cell_type": "code",
   "execution_count": 48,
   "id": "2a57489d",
   "metadata": {},
   "outputs": [],
   "source": [
    "A8 = copy.deepcopy(C.todense())"
   ]
  },
  {
   "cell_type": "code",
   "execution_count": 66,
   "id": "383a4f92",
   "metadata": {},
   "outputs": [],
   "source": [
    "#initial conditions - Crank Nicholson\n",
    "Time = 2\n",
    "dt = delta_t\n",
    "time_steps = int(Time/dt)\n",
    "usol_CN = np.zeros((len(x),len(t))) #placeholder for solution - more effcient\n",
    "#u0 = np.exp(-x**2).T # Gaussian\n",
    "u0 = 10*np.cos((2*np.pi*x)/L) + 30*np.cos((8*np.pi*x)/L)\n",
    "usol_CN[:,0] = u0\n",
    "u1 = u0\n",
    "#CFL = lambda_star\n",
    "solver = scipy.sparse.linalg.splu(B)\n",
    "for j in range(time_steps):\n",
    "    \n",
    "    u2 = solver.solve(C@u1)\n",
    "    \n",
    "    u1 = u2\n",
    "    usol_CN[:,j+1] = u2"
   ]
  },
  {
   "cell_type": "code",
   "execution_count": 67,
   "id": "35a359a1",
   "metadata": {},
   "outputs": [],
   "source": [
    "A9 = copy.deepcopy(usol_CN[:,-1].reshape(128,1))\n",
    "#A9"
   ]
  },
  {
   "cell_type": "code",
   "execution_count": 68,
   "id": "5b264fcb",
   "metadata": {},
   "outputs": [],
   "source": [
    "#np.shape(A9)\n",
    "#print(A9)"
   ]
  },
  {
   "cell_type": "code",
   "execution_count": 69,
   "id": "f89a5b7a",
   "metadata": {},
   "outputs": [],
   "source": [
    "#A9"
   ]
  },
  {
   "cell_type": "code",
   "execution_count": 70,
   "id": "3905f2cb",
   "metadata": {},
   "outputs": [],
   "source": [
    "#initial conditions - Crank Nicholson\n",
    "Time = 2\n",
    "dt = delta_t\n",
    "time_steps = int(Time/dt)\n",
    "usol_CN_b = np.zeros((len(x),len(t))) #placeholder for solution - more effcient\n",
    "#u0 = np.exp(-x**2).T # Gaussian\n",
    "u0 = 10*np.cos((2*np.pi*x)/L) + 30*np.cos((8*np.pi*x)/L)\n",
    "usol_CN_b[:,0] = u0\n",
    "u1 = u0\n",
    "CFL = lambda_star\n",
    "for j in range(time_steps):\n",
    "    \n",
    "    x, exitcode = scipy.sparse.linalg.bicgstab(B, C@u1)\n",
    "    #solver = scipy.sparse.linalg.splu(B)\n",
    "    #u2 = solver.solve(C@u1)\n",
    "    u2 = x\n",
    "    u1 = u2\n",
    "    usol_CN_b[:,j+1] = u2"
   ]
  },
  {
   "cell_type": "code",
   "execution_count": 71,
   "id": "c98ba4e3",
   "metadata": {},
   "outputs": [],
   "source": [
    "A10 = copy.deepcopy(usol_CN_b[:,-1].reshape(128,1))"
   ]
  },
  {
   "cell_type": "code",
   "execution_count": 77,
   "id": "e2aa7a03",
   "metadata": {},
   "outputs": [],
   "source": [
    "exact_128 = np.genfromtxt('exact_128.csv', delimiter=',')\n",
    "#np.shape(exact_128)\n",
    "diff_128 = scipy.linalg.norm(A5-exact_128.reshape(128,1))\n",
    "#diff_128"
   ]
  },
  {
   "cell_type": "code",
   "execution_count": 78,
   "id": "fc37989f",
   "metadata": {},
   "outputs": [],
   "source": [
    "#print(np.shape(A5))"
   ]
  },
  {
   "cell_type": "code",
   "execution_count": 79,
   "id": "655b1448",
   "metadata": {},
   "outputs": [],
   "source": [
    "A11 = copy.deepcopy(diff_128)"
   ]
  },
  {
   "cell_type": "code",
   "execution_count": 80,
   "id": "52305b45",
   "metadata": {},
   "outputs": [],
   "source": [
    "#exact_128_CN = np.genfromtxt('exact_128.csv', delimiter=',')\n",
    "#np.shape(exact_128)\n",
    "diff_128_CN = scipy.linalg.norm(A9-exact_128.reshape(128,1))\n",
    "#diff_128_CN"
   ]
  },
  {
   "cell_type": "code",
   "execution_count": 81,
   "id": "2805c723",
   "metadata": {},
   "outputs": [],
   "source": [
    "A12 = copy.deepcopy(diff_128_CN)"
   ]
  },
  {
   "cell_type": "code",
   "execution_count": null,
   "id": "d22cdac9",
   "metadata": {},
   "outputs": [],
   "source": []
  },
  {
   "cell_type": "code",
   "execution_count": 83,
   "id": "d6015fd9",
   "metadata": {},
   "outputs": [
    {
     "name": "stderr",
     "output_type": "stream",
     "text": [
      "/var/folders/53/h0tv1tdj205_xg1pvfhdgbj00000gn/T/ipykernel_39799/3220797720.py:50: RuntimeWarning: overflow encountered in multiply\n",
      "  u2 = u1 + CFL*(D4@u1)\n",
      "/var/folders/53/h0tv1tdj205_xg1pvfhdgbj00000gn/T/ipykernel_39799/3220797720.py:50: RuntimeWarning: invalid value encountered in add\n",
      "  u2 = u1 + CFL*(D4@u1)\n"
     ]
    },
    {
     "ename": "ValueError",
     "evalue": "array must not contain infs or NaNs",
     "output_type": "error",
     "traceback": [
      "\u001b[0;31m---------------------------------------------------------------------------\u001b[0m",
      "\u001b[0;31mValueError\u001b[0m                                Traceback (most recent call last)",
      "\u001b[0;32m/var/folders/53/h0tv1tdj205_xg1pvfhdgbj00000gn/T/ipykernel_39799/3220797720.py\u001b[0m in \u001b[0;36m<module>\u001b[0;34m\u001b[0m\n\u001b[1;32m     56\u001b[0m \u001b[0mexact_256\u001b[0m \u001b[0;34m=\u001b[0m \u001b[0mnp\u001b[0m\u001b[0;34m.\u001b[0m\u001b[0mgenfromtxt\u001b[0m\u001b[0;34m(\u001b[0m\u001b[0;34m'exact_256.csv'\u001b[0m\u001b[0;34m,\u001b[0m \u001b[0mdelimiter\u001b[0m\u001b[0;34m=\u001b[0m\u001b[0;34m','\u001b[0m\u001b[0;34m)\u001b[0m\u001b[0;34m\u001b[0m\u001b[0;34m\u001b[0m\u001b[0m\n\u001b[1;32m     57\u001b[0m \u001b[0;31m#np.shape(exact_128)\u001b[0m\u001b[0;34m\u001b[0m\u001b[0;34m\u001b[0m\u001b[0m\n\u001b[0;32m---> 58\u001b[0;31m \u001b[0mdiff_256\u001b[0m \u001b[0;34m=\u001b[0m \u001b[0mscipy\u001b[0m\u001b[0;34m.\u001b[0m\u001b[0mlinalg\u001b[0m\u001b[0;34m.\u001b[0m\u001b[0mnorm\u001b[0m\u001b[0;34m(\u001b[0m\u001b[0mA5_256\u001b[0m\u001b[0;34m-\u001b[0m\u001b[0mexact_256\u001b[0m\u001b[0;34m.\u001b[0m\u001b[0mreshape\u001b[0m\u001b[0;34m(\u001b[0m\u001b[0;36m256\u001b[0m\u001b[0;34m,\u001b[0m\u001b[0;36m1\u001b[0m\u001b[0;34m)\u001b[0m\u001b[0;34m)\u001b[0m\u001b[0;34m\u001b[0m\u001b[0;34m\u001b[0m\u001b[0m\n\u001b[0m\u001b[1;32m     59\u001b[0m \u001b[0mdiff_256\u001b[0m\u001b[0;34m\u001b[0m\u001b[0;34m\u001b[0m\u001b[0m\n",
      "\u001b[0;32m/opt/anaconda3/lib/python3.9/site-packages/scipy/linalg/misc.py\u001b[0m in \u001b[0;36mnorm\u001b[0;34m(a, ord, axis, keepdims, check_finite)\u001b[0m\n\u001b[1;32m    143\u001b[0m     \u001b[0;31m# Differs from numpy only in non-finite handling and the use of blas.\u001b[0m\u001b[0;34m\u001b[0m\u001b[0;34m\u001b[0m\u001b[0m\n\u001b[1;32m    144\u001b[0m     \u001b[0;32mif\u001b[0m \u001b[0mcheck_finite\u001b[0m\u001b[0;34m:\u001b[0m\u001b[0;34m\u001b[0m\u001b[0;34m\u001b[0m\u001b[0m\n\u001b[0;32m--> 145\u001b[0;31m         \u001b[0ma\u001b[0m \u001b[0;34m=\u001b[0m \u001b[0mnp\u001b[0m\u001b[0;34m.\u001b[0m\u001b[0masarray_chkfinite\u001b[0m\u001b[0;34m(\u001b[0m\u001b[0ma\u001b[0m\u001b[0;34m)\u001b[0m\u001b[0;34m\u001b[0m\u001b[0;34m\u001b[0m\u001b[0m\n\u001b[0m\u001b[1;32m    146\u001b[0m     \u001b[0;32melse\u001b[0m\u001b[0;34m:\u001b[0m\u001b[0;34m\u001b[0m\u001b[0;34m\u001b[0m\u001b[0m\n\u001b[1;32m    147\u001b[0m         \u001b[0ma\u001b[0m \u001b[0;34m=\u001b[0m \u001b[0mnp\u001b[0m\u001b[0;34m.\u001b[0m\u001b[0masarray\u001b[0m\u001b[0;34m(\u001b[0m\u001b[0ma\u001b[0m\u001b[0;34m)\u001b[0m\u001b[0;34m\u001b[0m\u001b[0;34m\u001b[0m\u001b[0m\n",
      "\u001b[0;32m/opt/anaconda3/lib/python3.9/site-packages/numpy/lib/function_base.py\u001b[0m in \u001b[0;36masarray_chkfinite\u001b[0;34m(a, dtype, order)\u001b[0m\n\u001b[1;32m    486\u001b[0m     \u001b[0ma\u001b[0m \u001b[0;34m=\u001b[0m \u001b[0masarray\u001b[0m\u001b[0;34m(\u001b[0m\u001b[0ma\u001b[0m\u001b[0;34m,\u001b[0m \u001b[0mdtype\u001b[0m\u001b[0;34m=\u001b[0m\u001b[0mdtype\u001b[0m\u001b[0;34m,\u001b[0m \u001b[0morder\u001b[0m\u001b[0;34m=\u001b[0m\u001b[0morder\u001b[0m\u001b[0;34m)\u001b[0m\u001b[0;34m\u001b[0m\u001b[0;34m\u001b[0m\u001b[0m\n\u001b[1;32m    487\u001b[0m     \u001b[0;32mif\u001b[0m \u001b[0ma\u001b[0m\u001b[0;34m.\u001b[0m\u001b[0mdtype\u001b[0m\u001b[0;34m.\u001b[0m\u001b[0mchar\u001b[0m \u001b[0;32min\u001b[0m \u001b[0mtypecodes\u001b[0m\u001b[0;34m[\u001b[0m\u001b[0;34m'AllFloat'\u001b[0m\u001b[0;34m]\u001b[0m \u001b[0;32mand\u001b[0m \u001b[0;32mnot\u001b[0m \u001b[0mnp\u001b[0m\u001b[0;34m.\u001b[0m\u001b[0misfinite\u001b[0m\u001b[0;34m(\u001b[0m\u001b[0ma\u001b[0m\u001b[0;34m)\u001b[0m\u001b[0;34m.\u001b[0m\u001b[0mall\u001b[0m\u001b[0;34m(\u001b[0m\u001b[0;34m)\u001b[0m\u001b[0;34m:\u001b[0m\u001b[0;34m\u001b[0m\u001b[0;34m\u001b[0m\u001b[0m\n\u001b[0;32m--> 488\u001b[0;31m         raise ValueError(\n\u001b[0m\u001b[1;32m    489\u001b[0m             \"array must not contain infs or NaNs\")\n\u001b[1;32m    490\u001b[0m     \u001b[0;32mreturn\u001b[0m \u001b[0ma\u001b[0m\u001b[0;34m\u001b[0m\u001b[0;34m\u001b[0m\u001b[0m\n",
      "\u001b[0;31mValueError\u001b[0m: array must not contain infs or NaNs"
     ]
    }
   ],
   "source": [
    "m = 257\n",
    "L = 10\n",
    "x1 = np.linspace(-L, L, m)\n",
    "x = x1[:-1]\n",
    "delta_x = x[1] - x[0]\n",
    "#print(delta_x)\n",
    "#print(np.shape(delta_x))\n",
    "t = np.linspace(0, 2, 501, endpoint = True)\n",
    "delta_t = t[1] - t[0]\n",
    "#print(delta_t)\n",
    "#print(np.shape(delta_t))\n",
    "#print(t)\n",
    "#print(np.shape(t))\n",
    "#calculate the CFL number λ and call it λ∗\n",
    "alpha = 2\n",
    "lambda_star = alpha*(delta_t)/(delta_x**2)\n",
    "#print(lambda_star)\n",
    "#print(np.shape(lambda_star))\n",
    "\n",
    "# (1,4)-accurate scheme (first-order accurate in time, fourth-order accurate in space)\n",
    "G = lambda z: lambda_star*(32*np.cos(z)-2*np.cos(2*z)-30)*(1/12)+1\n",
    "\n",
    "G_one = lambda z: np.abs(G(z)); # Define the function we want to maximize\n",
    "index = scipy.optimize.fminbound(lambda z:-G_one(z), -np.pi,np.pi) # This gives the *maximizer*\n",
    "maximum = G_one(index)\n",
    "#print(maximum)\n",
    "\n",
    "#D4\n",
    "n = 256\n",
    "#sparse matrix for derivative term\n",
    "e1 = np.ones(n)\n",
    "d_D4 = [-n+1,-n+2,-2,-1,0,1,2,n-2,n-1]\n",
    "D4 = scipy.sparse.spdiags([16*e1,-e1,-e1,16*e1,-30*e1,16*e1,-e1,-e1,16*e1],d_D4,n,n)\n",
    "#print(D4.todense())\n",
    "D4 *= 1/12\n",
    "#print(D4.todense())\n",
    "\n",
    "#Forward Euler\n",
    "#initial conditions - FE\n",
    "Time = 2\n",
    "dt = delta_t\n",
    "time_steps = int(Time/dt)\n",
    "usol_fe_256 = np.zeros((len(x),len(t))) #placeholder for solution - more effcient\n",
    "#u0 = np.exp(-x**2).T # Gaussian\n",
    "u0 = 10*np.cos((2*np.pi*x)/L) + 30*np.cos((8*np.pi*x)/L)\n",
    "usol_fe_256[:,0] = u0\n",
    "u1 = u0\n",
    "CFL = lambda_star\n",
    "for j in range(time_steps):\n",
    "    u2 = u1 + CFL*(D4@u1)\n",
    "    u1 = u2\n",
    "    usol_fe_256[:,j+1] = u2\n",
    "    \n",
    "A5_256 = copy.deepcopy(usol_fe_256[:,-1].reshape(256,1))\n",
    "\n",
    "exact_256 = np.genfromtxt('exact_256.csv', delimiter=',')\n",
    "#np.shape(exact_128)\n",
    "diff_256 = scipy.linalg.norm(A5_256-exact_256.reshape(256,1))\n",
    "diff_256"
   ]
  },
  {
   "cell_type": "code",
   "execution_count": null,
   "id": "c012fadb",
   "metadata": {},
   "outputs": [],
   "source": []
  }
 ],
 "metadata": {
  "kernelspec": {
   "display_name": "Python 3 (ipykernel)",
   "language": "python",
   "name": "python3"
  },
  "language_info": {
   "codemirror_mode": {
    "name": "ipython",
    "version": 3
   },
   "file_extension": ".py",
   "mimetype": "text/x-python",
   "name": "python",
   "nbconvert_exporter": "python",
   "pygments_lexer": "ipython3",
   "version": "3.9.7"
  }
 },
 "nbformat": 4,
 "nbformat_minor": 5
}
